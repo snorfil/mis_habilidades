{
  "nbformat": 4,
  "nbformat_minor": 0,
  "metadata": {
    "colab": {
      "provenance": []
    },
    "kernelspec": {
      "name": "python3",
      "display_name": "Python 3"
    },
    "language_info": {
      "name": "python"
    }
  },
  "cells": [
    {
      "cell_type": "code",
      "source": [
        "import pandas as pd\n",
        "import numpy as np\n",
        "import pandas as pd\n",
        "import seaborn as sns\n",
        "from sklearn.model_selection import train_test_split\n",
        "from sklearn import datasets\n",
        "from sklearn import svm\n",
        "import random"
      ],
      "metadata": {
        "id": "oWjJhIRh17GP"
      },
      "execution_count": null,
      "outputs": []
    },
    {
      "cell_type": "markdown",
      "source": [
        "# Validación cruzada"
      ],
      "metadata": {
        "id": "nTEYinTiUuVL"
      }
    },
    {
      "cell_type": "markdown",
      "source": [
        "Para verlo mejor, vamos a descargarlo como un dataframe y luego mostraremos un gráfico de los tipos que existen."
      ],
      "metadata": {
        "id": "TaqWNtW-Qd5v"
      }
    },
    {
      "cell_type": "code",
      "source": [
        "# Loading Iris as pandas DataFrame\n",
        "iris = datasets.load_iris(as_frame=True)\n",
        "\n",
        "# Creating DataFrame to match up target label with target_name\n",
        "iris_target_names = pd.DataFrame(data=dict(target=[0, 1, 2],\n",
        "                                           target_name=iris.target_names))\n",
        "\n",
        "data = (iris[\"frame\"]\n",
        "        .merge(right=iris_target_names,\n",
        "               on=\"target\",\n",
        "               how=\"left\"))\n",
        "\n",
        "sns.scatterplot(x=\"sepal length (cm)\",\n",
        "                y=\"sepal width (cm)\",\n",
        "                hue=\"target_name\",\n",
        "                data=data)"
      ],
      "metadata": {
        "colab": {
          "base_uri": "https://localhost:8080/",
          "height": 299
        },
        "id": "k7qLKTcVQN2o",
        "outputId": "3e84a369-b7d8-46c4-f302-6b96e9e6911f"
      },
      "execution_count": null,
      "outputs": [
        {
          "output_type": "execute_result",
          "data": {
            "text/plain": [
              "<matplotlib.axes._subplots.AxesSubplot at 0x7f0fffd8f4f0>"
            ]
          },
          "metadata": {},
          "execution_count": 2
        },
        {
          "output_type": "display_data",
          "data": {
            "text/plain": [
              "<Figure size 432x288 with 1 Axes>"
            ],
            "image/png": "[encoded data removed]"
          },
          "metadata": {
            "needs_background": "light"
          }
        }
      ]
    },
    {
      "cell_type": "code",
      "source": [
        "#descargo el dataset dividido en\n",
        "#(1) X dataset sin valores de clasificación\n",
        "#(2) y valores de clasificación\n",
        "X, y = datasets.load_iris(return_X_y=True)\n",
        "\n"
      ],
      "metadata": {
        "id": "p2kzNNZ6Uv_T"
      },
      "execution_count": null,
      "outputs": []
    },
    {
      "cell_type": "markdown",
      "source": [
        "Para realizar una separación puntual del conjunto de datos en los conjuntos de entrenamiento (70 %) y pruebas (30 %), es tan sencillo como emplear la función train_test_split:\n",
        "\n",
        "\n",
        "\n",
        "```python\n",
        "X_train, X_test, y_train, y_test = train_test_split(X, y, test_size=0.3, random_state=0)\n",
        "```\n",
        "\n",
        "\n"
      ],
      "metadata": {
        "id": "QZN61a3WWckl"
      }
    },
    {
      "cell_type": "markdown",
      "source": [
        "Para realizar una validación cruzada sin repetición, podemos elegir un método de aprendizaje (por ejemplo, SVC) y la función cross_val_score en la que podremos indicar como argumento la estrategia para obtener los conjuntos de entrenaminto y test (en este caso KFold, que explicaremos posteriormente):"
      ],
      "metadata": {
        "id": "nG1jL62LWooy"
      }
    },
    {
      "cell_type": "code",
      "source": [
        "from sklearn.model_selection import cross_val_score\n",
        "from sklearn.model_selection import KFold\n",
        "from sklearn.svm import SVC\n",
        "\n",
        "clf = SVC(kernel='linear', C=1, random_state=42)\n",
        "\n",
        "k_fold = KFold(n_splits=5) #defino un KFold con 5 iteraciones\n",
        "scores = cross_val_score(clf, X, y, cv=k_fold) #por defecto scoring='accuracy'\n",
        "print(scores)"
      ],
      "metadata": {
        "colab": {
          "base_uri": "https://localhost:8080/"
        },
        "id": "uGG9UZwyWqrq",
        "outputId": "f1cd6ac5-b123-4deb-8c9a-9bd4f2359ddf"
      },
      "execution_count": null,
      "outputs": [
        {
          "output_type": "stream",
          "name": "stdout",
          "text": [
            "[1.         1.         0.86666667 1.         0.86666667]\n"
          ]
        }
      ]
    },
    {
      "cell_type": "code",
      "source": [
        "print(\"%0.2f accuracy with a standard deviation of %0.2f\" % (scores.mean(), scores.std()))"
      ],
      "metadata": {
        "colab": {
          "base_uri": "https://localhost:8080/"
        },
        "id": "XMibCkHG2X95",
        "outputId": "02aedbc6-b63b-4ebf-ac88-cd1619b74609"
      },
      "execution_count": null,
      "outputs": [
        {
          "output_type": "stream",
          "name": "stdout",
          "text": [
            "0.95 accuracy with a standard deviation of 0.07\n"
          ]
        }
      ]
    },
    {
      "cell_type": "markdown",
      "source": [
        "Tal como puede observarse, se obtiene como salida un array con el grado de exactitud del modelo en cada iteración. En particular, la validación anterior se ejecutó con cinco iteraciones obteniendo un 100 % en la primera, 100% en la segunda, 0.8667% en la tercera, 100% en la cuarta y, finalmente, un 0.8667% en la última, lo cual es un indicador de la buena calidad del modelo para ese conjunto de datos en concreto."
      ],
      "metadata": {
        "id": "xmE-pvAmW6Uo"
      }
    },
    {
      "cell_type": "markdown",
      "source": [
        "Por defecto, el resultado obtenido de cada iteración de CV (Cross-Validation) es el resultado del metodo de estimación. Es posible cambiarlo utilizando el parámetro *scoring*."
      ],
      "metadata": {
        "id": "-LvYe8npYOaX"
      }
    },
    {
      "cell_type": "code",
      "source": [
        "from sklearn import metrics\n",
        "\n",
        "clf = SVC(kernel='linear', C=1, random_state=42, probability=True)\n",
        "k_fold = KFold(n_splits=5) #defino un KFold con 5 iteraciones\n",
        "scores = cross_val_score(clf, X, y, cv=k_fold, scoring='f1_weighted')\n",
        "scores"
      ],
      "metadata": {
        "colab": {
          "base_uri": "https://localhost:8080/"
        },
        "id": "ZRZWICPwY7sP",
        "outputId": "313db18c-4b39-48f5-b106-326c6df6739a"
      },
      "execution_count": null,
      "outputs": [
        {
          "output_type": "execute_result",
          "data": {
            "text/plain": [
              "array([1.        , 1.        , 0.92857143, 1.        , 0.92857143])"
            ]
          },
          "metadata": {},
          "execution_count": 5
        }
      ]
    },
    {
      "cell_type": "code",
      "source": [
        "print(\"%0.2f f1_weighted with a standard deviation of %0.2f\" % (scores.mean(), scores.std()))"
      ],
      "metadata": {
        "colab": {
          "base_uri": "https://localhost:8080/"
        },
        "id": "Kwa9NTuzW_XB",
        "outputId": "fc06392f-d0d1-4fbc-f2e9-e3922f726964"
      },
      "execution_count": null,
      "outputs": [
        {
          "output_type": "stream",
          "name": "stdout",
          "text": [
            "0.97 f1_weighted with a standard deviation of 0.03\n"
          ]
        }
      ]
    },
    {
      "cell_type": "markdown",
      "source": [
        "## Definición de múltiples métricas para en la validación cruzada\n",
        "\n",
        "Para poder definir varias métricas utilizaremos la función *cross_validate* (https://scikit-learn.org/stable/modules/generated/sklearn.model_selection.cross_validate.html#sklearn.model_selection.cross_validate)."
      ],
      "metadata": {
        "id": "LZfcQIn41TCu"
      }
    },
    {
      "cell_type": "code",
      "source": [
        "from sklearn.model_selection import cross_validate"
      ],
      "metadata": {
        "id": "dzBbTFat7p2a"
      },
      "execution_count": null,
      "outputs": []
    },
    {
      "cell_type": "code",
      "source": [
        "clf = SVC(kernel='linear', C=1, random_state=42)\n",
        "k_fold = KFold(n_splits=5) #defino un KFold con 5 iteraciones\n",
        "scores = cross_validate(clf, X, y, cv=k_fold, scoring=['accuracy','f1_weighted'])\n",
        "scores"
      ],
      "metadata": {
        "colab": {
          "base_uri": "https://localhost:8080/"
        },
        "id": "cwz8wIL61o-e",
        "outputId": "b5b36668-0707-41f6-cee6-c5dd2060f8be"
      },
      "execution_count": null,
      "outputs": [
        {
          "output_type": "execute_result",
          "data": {
            "text/plain": [
              "{'fit_time': array([0.00922322, 0.00156641, 0.00140333, 0.00146532, 0.00163317]),\n",
              " 'score_time': array([0.00243711, 0.00159883, 0.00198317, 0.00452781, 0.00194454]),\n",
              " 'test_accuracy': array([1.        , 1.        , 0.86666667, 1.        , 0.86666667]),\n",
              " 'test_f1_weighted': array([1.        , 1.        , 0.92857143, 1.        , 0.92857143])}"
            ]
          },
          "metadata": {},
          "execution_count": 43
        }
      ]
    },
    {
      "cell_type": "markdown",
      "source": [
        "## Estrategias\n",
        "\n",
        "Podemos definir la estrategia para definir los conjuntos de entrenaminto y test a través del parámetro *cv*.\n",
        "\n",
        "*   **StratifiedKFold** para preservar el porcentaje de muestras para cada clase.\n",
        "*   **GroupKFold** para asegurarse de que el mismo grupo no aparecerá en dos subconjuntos de test diferentes.\n",
        "*   **StratifiedGroupKFold** para mantener la restricción de GroupKFold al intentar devolver subconjuntos de test estratificados.\n",
        "\n",
        "\n",
        "\n",
        "\n",
        "\n"
      ],
      "metadata": {
        "id": "DIJLN3bC1KUo"
      }
    },
    {
      "cell_type": "code",
      "source": [
        "from sklearn.model_selection import cross_val_score\n",
        "from sklearn.model_selection import StratifiedKFold\n",
        "from sklearn.model_selection import KFold\n",
        "from sklearn.model_selection import GroupKFold\n",
        "\n",
        "\n",
        "#KFold\n",
        "print(\"KFold\")\n",
        "clf = SVC(kernel='linear', C=1, random_state=42)\n",
        "k_fold = KFold(n_splits=5) #defino un KFold con 5 iteraciones\n",
        "scores = cross_val_score(clf, X, y, cv=k_fold)\n",
        "print(scores)\n",
        "print(\"%0.2f accuracy with a standard deviation of %0.2f\\n\" % (scores.mean(), scores.std()))\n",
        "\n",
        "#StratifiedKFold\n",
        "print(\"StratifiedKFold\")\n",
        "stratified_k_fold = StratifiedKFold(n_splits=5) #defino un StratifiedKFold con 5 iteraciones\n",
        "scores = cross_val_score(clf, X, y, cv=stratified_k_fold, scoring='accuracy')\n",
        "print(scores)\n",
        "print(\"%0.2f accuracy with a standard deviation of %0.2f\\n\" % (scores.mean(), scores.std()))\n",
        "\n",
        "\n",
        "print(\"GroupKFold\")\n",
        "#En este caso no tenemos un dataframe con grupos, por lo que no tiene sentido su utilización\n",
        "#No obstante, dejo el código de ejemplo para futuros casos donde sí tenga sentido.\n",
        "\n",
        "#groups = X['your_group_name'] # or pass your group another way\n",
        "groups =  y # para que se pueda ejecutar\n",
        "group_k_fold = GroupKFold(n_splits=3) #defino un StratifiedKFold con 5 iteraciones\n",
        "scores = cross_val_score(clf, X, y, cv=group_k_fold, groups= groups)\n",
        "print(scores)\n",
        "print(\"%0.2f accuracy with a standard deviation of %0.2f\\n\" % (scores.mean(), scores.std()))\n"
      ],
      "metadata": {
        "colab": {
          "base_uri": "https://localhost:8080/"
        },
        "id": "8Ny4x6-UNUCZ",
        "outputId": "69f57a26-5301-4553-8248-0203146d03f5"
      },
      "execution_count": null,
      "outputs": [
        {
          "output_type": "stream",
          "name": "stdout",
          "text": [
            "KFold\n",
            "[1.         1.         0.86666667 1.         0.86666667]\n",
            "0.95 accuracy with a standard deviation of 0.07\n",
            "\n",
            "StratifiedKFold\n",
            "[0.96666667 1.         0.96666667 0.96666667 1.        ]\n",
            "0.98 accuracy with a standard deviation of 0.02\n",
            "\n",
            "GroupKFold\n",
            "[0. 0. 0.]\n",
            "0.00 accuracy with a standard deviation of 0.00\n",
            "\n"
          ]
        }
      ]
    },
    {
      "cell_type": "markdown",
      "source": [
        "# Matriz de confusión"
      ],
      "metadata": {
        "id": "kB8q3GWsaHz8"
      }
    },
    {
      "cell_type": "code",
      "source": [
        "from sklearn.metrics import confusion_matrix\n",
        "import matplotlib.pyplot as plt\n",
        "\n",
        "import matplotlib.pyplot as plt\n",
        "import seaborn as sns\n",
        "\n",
        "y_real = [1, 1, 1, 1, 1, 0, 0, 0, 0, 0]\n",
        "y_pred = [1, 1, 1, 1, 0, 1, 1, 0, 0, 0]\n",
        "\n",
        "cm = confusion_matrix(y_real, y_pred)\n",
        "print (cm)"
      ],
      "metadata": {
        "colab": {
          "base_uri": "https://localhost:8080/"
        },
        "id": "riXHs7ZS0vif",
        "outputId": "dd1b0caf-74ab-4313-ed31-ac3b7f7b427e"
      },
      "execution_count": null,
      "outputs": [
        {
          "output_type": "stream",
          "name": "stdout",
          "text": [
            "[[3 2]\n",
            " [1 4]]\n"
          ]
        }
      ]
    },
    {
      "cell_type": "code",
      "source": [
        "#Creación de Figura\n",
        "ax= plt.subplot()\n",
        "sns.heatmap(cm, annot=True, ax=ax, cmap='Greens');\n",
        "#annot=True to annotate cells, ftm=g to disable scientific notation\n",
        "\n",
        "# labels, title and ticks\n",
        "ax.set_xlabel('Valores Predichos');\n",
        "ax.set_ylabel('Valores Reales');\n",
        "ax.set_title('Confusion Matrix');\n",
        "ax.xaxis.set_ticklabels([1, 0]);\n",
        "ax.yaxis.set_ticklabels([1, 0]);\n",
        "plt.show()"
      ],
      "metadata": {
        "colab": {
          "base_uri": "https://localhost:8080/",
          "height": 295
        },
        "id": "SJrKaTGl2Dv5",
        "outputId": "10597cc9-f4fb-4a2f-f44d-2092b36ac623"
      },
      "execution_count": null,
      "outputs": [
        {
          "output_type": "display_data",
          "data": {
            "text/plain": [
              "<Figure size 432x288 with 2 Axes>"
            ],
            "image/png": "[encoded data removed]"
          },
          "metadata": {
            "needs_background": "light"
          }
        }
      ]
    },
    {
      "cell_type": "code",
      "source": [],
      "metadata": {
        "id": "iOY4kHHN_X93"
      },
      "execution_count": null,
      "outputs": []
    },
    {
      "cell_type": "markdown",
      "source": [
        "## Ejemplo de uso de matriz de confusión multiclase\n"
      ],
      "metadata": {
        "id": "wb33WNfQ1GGS"
      }
    },
    {
      "cell_type": "code",
      "source": [
        "import numpy as np\n",
        "import matplotlib.pyplot as plt\n",
        "\n",
        "from sklearn import svm, datasets\n",
        "from sklearn.model_selection import train_test_split\n",
        "from sklearn.metrics import ConfusionMatrixDisplay\n",
        "\n",
        "#Importación de Iris Dataset\n",
        "iris = datasets.load_iris()\n",
        "#Conjunto de ejemplos\n",
        "X = iris.data\n",
        "#Clases\n",
        "y = iris.target\n",
        "#nombre de las clases\n",
        "class_names = iris.target_names\n",
        "\n",
        "# División del DataSet en dos cojuntos: entrenamiento y test\n",
        "X_train, X_test, y_train, y_test = train_test_split(X, y, random_state=0)\n",
        "\n",
        "# Usamos como clasificador Support Vector Classification\n",
        "classifier = svm.SVC(kernel='linear', C=0.01).fit(X_train, y_train)\n",
        "\n",
        "disp = ConfusionMatrixDisplay.from_estimator(\n",
        "      classifier,\n",
        "      X_test,\n",
        "      y_test,\n",
        "      display_labels=class_names,\n",
        "      cmap=plt.cm.Blues\n",
        ")\n",
        "\n",
        "\n",
        "plt.show()\n"
      ],
      "metadata": {
        "colab": {
          "base_uri": "https://localhost:8080/",
          "height": 279
        },
        "id": "GUMWYqX_3_i4",
        "outputId": "ba9e1643-cbf9-4c4b-a2b7-56ebf055c93f"
      },
      "execution_count": null,
      "outputs": [
        {
          "output_type": "display_data",
          "data": {
            "text/plain": [
              "<Figure size 432x288 with 2 Axes>"
            ],
            "image/png": "[encoded data removed]"
          },
          "metadata": {
            "needs_background": "light"
          }
        }
      ]
    },
    {
      "cell_type": "markdown",
      "source": [
        "# Métricas de evaluación"
      ],
      "metadata": {
        "id": "z0Zi0oRT9_yK"
      }
    },
    {
      "cell_type": "markdown",
      "source": [
        "## Accuracy"
      ],
      "metadata": {
        "id": "7p90FDu6-Ebj"
      }
    },
    {
      "cell_type": "code",
      "source": [
        "from sklearn.metrics import accuracy_score\n",
        "y_pred =['A','A','A','A','A','A','A','A','B','A','A','B','B','B','B','B','B','B','B','B']\n",
        "y_true =['A','A','A','A','A','A','A','A','A','B','B','B','B','B','B','B','B','B','B','B']\n",
        "print(accuracy_score(y_true, y_pred))\n"
      ],
      "metadata": {
        "colab": {
          "base_uri": "https://localhost:8080/"
        },
        "id": "D7hlZK1v-QkG",
        "outputId": "25ed13f4-594f-4a51-b27a-f8b8c3b2f08d"
      },
      "execution_count": null,
      "outputs": [
        {
          "output_type": "stream",
          "name": "stdout",
          "text": [
            "0.85\n"
          ]
        }
      ]
    },
    {
      "cell_type": "markdown",
      "source": [],
      "metadata": {
        "id": "SpX25lgv-DYt"
      }
    },
    {
      "cell_type": "markdown",
      "source": [
        "## Precission"
      ],
      "metadata": {
        "id": "IMGiB-WB-9jN"
      }
    },
    {
      "cell_type": "code",
      "source": [
        "from sklearn.metrics import precision_score\n",
        "y_pred =['A','A','A','A','A','A','A','A','B','A','A','B','B','B','B','B','B','B','B','B']\n",
        "y_true =['A','A','A','A','A','A','A','A','A','B','B','B','B','B','B','B','B','B','B','B']\n",
        "\n",
        "print(precision_score(y_true, y_pred, labels=['A', 'B'], pos_label='A', average=\"binary\"))"
      ],
      "metadata": {
        "colab": {
          "base_uri": "https://localhost:8080/"
        },
        "id": "2iHZ4bNp-o47",
        "outputId": "c986afeb-98ef-45ea-9a91-faaae56558ff"
      },
      "execution_count": null,
      "outputs": [
        {
          "output_type": "stream",
          "name": "stdout",
          "text": [
            "0.8\n"
          ]
        }
      ]
    },
    {
      "cell_type": "markdown",
      "source": [
        "## Recall"
      ],
      "metadata": {
        "id": "f9mF9Q83_AGa"
      }
    },
    {
      "cell_type": "code",
      "source": [
        "from sklearn.metrics import recall_score\n",
        "y_pred =['A','A','A','A','A','A','A','A','B','A','A','B','B','B','B','B','B','B','B','B']\n",
        "y_true =['A','A','A','A','A','A','A','A','A','B','B','B','B','B','B','B','B','B','B','B']\n",
        "\n",
        "print(recall_score(y_true, y_pred, labels=['A', 'B'], pos_label='A', average=\"binary\"))"
      ],
      "metadata": {
        "colab": {
          "base_uri": "https://localhost:8080/"
        },
        "id": "JmIKHAUE_AVR",
        "outputId": "19a373bf-dfaf-458b-b607-490f0d2b6e28"
      },
      "execution_count": null,
      "outputs": [
        {
          "output_type": "stream",
          "name": "stdout",
          "text": [
            "0.8888888888888888\n"
          ]
        }
      ]
    },
    {
      "cell_type": "markdown",
      "source": [
        "## Log Loss"
      ],
      "metadata": {
        "id": "DScFrhX_FC8d"
      }
    },
    {
      "cell_type": "code",
      "source": [
        "from sklearn.metrics import log_loss\n",
        "y_pred =[0,0,0,0,0,0,0,0,1,0,0,1,1,1,1,1,1,1,1,1]\n",
        "y_true =[0,0,0,0,0,0,0,0,0,1,1,1,1,1,1,1,1,1,1,1]\n",
        "print(log_loss(y_true, y_pred))"
      ],
      "metadata": {
        "colab": {
          "base_uri": "https://localhost:8080/"
        },
        "id": "d5tAizwkFE0M",
        "outputId": "55a14d04-6282-4973-c326-1842bac774db"
      },
      "execution_count": null,
      "outputs": [
        {
          "output_type": "stream",
          "name": "stdout",
          "text": [
            "5.180856439108113\n"
          ]
        }
      ]
    },
    {
      "cell_type": "markdown",
      "source": [
        "## F1-Score"
      ],
      "metadata": {
        "id": "j14XwHW1Gxkm"
      }
    },
    {
      "cell_type": "code",
      "source": [
        "from sklearn.metrics import f1_score\n",
        "y_pred =['A','A','A','A','A','A','A','A','B','A','A','B','B','B','B','B','B','B','B','B']\n",
        "y_true =['A','A','A','A','A','A','A','A','A','B','B','B','B','B','B','B','B','B','B','B']\n",
        "\n",
        "print(f1_score(y_true, y_pred, average=\"weighted\"))"
      ],
      "metadata": {
        "colab": {
          "base_uri": "https://localhost:8080/"
        },
        "id": "0Fus4c2iG0o8",
        "outputId": "69e845dc-a17b-4693-ad42-7c5f9a36406d"
      },
      "execution_count": null,
      "outputs": [
        {
          "output_type": "stream",
          "name": "stdout",
          "text": [
            "0.8503759398496241\n"
          ]
        }
      ]
    },
    {
      "cell_type": "markdown",
      "source": [
        "## Curvas ROC y AUC\n"
      ],
      "metadata": {
        "id": "NbkUqO5a0eYi"
      }
    },
    {
      "cell_type": "code",
      "source": [
        "#Curva ROC y área AUC\n",
        "import matplotlib.pyplot as plt\n",
        "import numpy as np\n",
        "from sklearn import metrics\n",
        "\n",
        "y_true = [1, 1, 1, 1, 1, 0, 0, 0, 0, 0]\n",
        "y_pred = [1, 1, 1, 1, 0, 1, 1, 0, 0, 0]\n",
        "\n",
        "#calculo el ratio de verdaderos positivos y falsos positivos.\n",
        "fpr, tpr, _ = metrics.roc_curve(y_true, y_pred)\n",
        "\n",
        "#con estos valores obtengo el valor para la AUC\n",
        "roc_auc = metrics.auc(fpr, tpr)\n",
        "\n",
        "#genero el gráfico\n",
        "display = metrics.RocCurveDisplay(fpr=fpr, tpr=tpr, roc_auc=roc_auc,\n",
        "                                  estimator_name='nombre clasificador')\n",
        "display.plot()\n",
        "\n",
        "plt.show()\n"
      ],
      "metadata": {
        "colab": {
          "base_uri": "https://localhost:8080/",
          "height": 279
        },
        "id": "N8yyVH250jGB",
        "outputId": "42dca1e6-7888-4a43-b168-1c635c6fd94e"
      },
      "execution_count": null,
      "outputs": [
        {
          "output_type": "display_data",
          "data": {
            "text/plain": [
              "<Figure size 432x288 with 1 Axes>"
            ],
            "image/png": "[encoded data removed]"
          },
          "metadata": {
            "needs_background": "light"
          }
        }
      ]
    },
    {
      "cell_type": "code",
      "source": [
        "#Curva ROC y área AUC\n",
        "import matplotlib.pyplot as plt\n",
        "import numpy as np\n",
        "from sklearn import metrics\n",
        "\n",
        "#primer clasificador\n",
        "y_true =  [1, 1, 1, 1, 1, 0, 0, 0, 0, 0]\n",
        "y_pred1 = [1, 1, 1, 1, 0, 1, 0, 0, 0, 1]\n",
        "y_pred2 = [1, 1, 1, 1, 1, 0, 1, 1, 1, 0]\n",
        "y_pred3 = [1, 1, 1, 1, 1, 0, 0, 0, 0, 0]\n",
        "\n",
        "fpr, tpr, _ = metrics.roc_curve(y_true, y_pred1)\n",
        "roc_auc = round(metrics.auc(fpr, tpr),2)\n",
        "plt.plot(fpr,tpr,label=\"Clasificador 1 =\"+str(roc_auc))\n",
        "\n",
        "#segundo clasificador\n",
        "fpr, tpr, _ = metrics.roc_curve(y_true, y_pred2)\n",
        "roc_auc = round(metrics.auc(fpr, tpr),2)\n",
        "plt.plot(fpr,tpr,label=\"Clasificador 2 =\"+str(roc_auc))\n",
        "\n",
        "#tercer clasificador\n",
        "fpr, tpr, _ = metrics.roc_curve(y_true, y_pred3)\n",
        "roc_auc = round(metrics.auc(fpr, tpr),2)\n",
        "plt.plot(fpr,tpr,label=\"Clasificador 3 =\"+str(roc_auc))\n",
        "\n",
        "plt.legend()\n"
      ],
      "metadata": {
        "colab": {
          "base_uri": "https://localhost:8080/",
          "height": 283
        },
        "id": "0gfu_9f_1A4D",
        "outputId": "a4225918-82d7-41a2-90d3-34e3a5a9d322"
      },
      "execution_count": null,
      "outputs": [
        {
          "output_type": "execute_result",
          "data": {
            "text/plain": [
              "<matplotlib.legend.Legend at 0x7f4d0ad200a0>"
            ]
          },
          "metadata": {},
          "execution_count": 21
        },
        {
          "output_type": "display_data",
          "data": {
            "text/plain": [
              "<Figure size 432x288 with 1 Axes>"
            ],
            "image/png": "[encoded data removed]"
          },
          "metadata": {
            "needs_background": "light"
          }
        }
      ]
    },
    {
      "cell_type": "markdown",
      "source": [
        "## Informe global"
      ],
      "metadata": {
        "id": "1CfEypaNJL5l"
      }
    },
    {
      "cell_type": "code",
      "source": [
        "from sklearn.metrics import classification_report\n",
        "y_pred =['A','A','A','A','A','A','A','A','B','A','A','B','B','B','B','B','B','B','B','B']\n",
        "y_true =['A','A','A','A','A','A','A','A','A','B','B','B','B','B','B','B','B','B','B','B']\n",
        "\n",
        "print(classification_report(y_true, y_pred, labels=['A', 'B']))"
      ],
      "metadata": {
        "colab": {
          "base_uri": "https://localhost:8080/"
        },
        "id": "vbb-PRDCJMkJ",
        "outputId": "a08270fb-bf11-45a2-f74b-e734ca73a8ef"
      },
      "execution_count": null,
      "outputs": [
        {
          "output_type": "stream",
          "name": "stdout",
          "text": [
            "              precision    recall  f1-score   support\n",
            "\n",
            "           A       0.80      0.89      0.84         9\n",
            "           B       0.90      0.82      0.86        11\n",
            "\n",
            "    accuracy                           0.85        20\n",
            "   macro avg       0.85      0.85      0.85        20\n",
            "weighted avg       0.86      0.85      0.85        20\n",
            "\n"
          ]
        }
      ]
    },
    {
      "cell_type": "markdown",
      "source": [
        "### En un ejemplo"
      ],
      "metadata": {
        "id": "jOdWqdEkfz19"
      }
    },
    {
      "cell_type": "code",
      "source": [
        "from sklearn.metrics import classification_report\n",
        "\n",
        "#podemos definir la siguiente función para mostrar accuracy, el report y la matriz de confusion\n",
        "def print_score(clf, X_train, y_train, X_test, y_test):\n",
        "  pred = clf.predict(X_test)\n",
        "  clf_report = pd.DataFrame(classification_report(y_test,\n",
        "                                                    pred,\n",
        "                                                    output_dict=True))\n",
        "  print(\"Test Result:\\n================================================\")\n",
        "  print(f\"Accuracy Score: {accuracy_score(y_test, pred) * 100:.2f}%\")\n",
        "  print(\"_______________________________________________\")\n",
        "  print(f\"CLASSIFICATION REPORT:\\n{clf_report}\")\n",
        "  print(\"_______________________________________________\")\n",
        "  print(f\"Confusion Matrix: \\n {confusion_matrix(y_test, pred)}\\n\")\n",
        "  print('\\n')\n",
        "\n",
        "\n",
        "\n",
        "\n"
      ],
      "metadata": {
        "id": "JnpCgtW6OVxM"
      },
      "execution_count": null,
      "outputs": []
    },
    {
      "cell_type": "code",
      "source": [
        "from sklearn.preprocessing import StandardScaler\n",
        "from sklearn.svm import SVC\n",
        "\n",
        "\n",
        "#cargo dataset iris\n",
        "iris = datasets.load_iris()\n",
        "X = iris.data\n",
        "y = iris.target\n",
        "\n",
        "#creo conjunto de entrenamiento y test\n",
        "X_train, X_test, y_train, y_test = train_test_split(X, y, test_size=0.3, random_state=1, stratify = y)\n",
        "\n",
        "#normalizo\n",
        "sc = StandardScaler()\n",
        "sc.fit(X_train)\n",
        "X_train = sc.transform(X_train)\n",
        "X_test = sc.transform(X_test)\n",
        "\n",
        "# Training a SVM classifier using SVC class\n",
        "svm = SVC(kernel= 'linear', random_state=1, C=0.1)\n",
        "svm.fit(X_train, y_train)\n",
        "\n",
        "print_score(svm, X_train, y_train, X_test, y_test)\n"
      ],
      "metadata": {
        "colab": {
          "base_uri": "https://localhost:8080/"
        },
        "id": "Af2JIk9pgGZA",
        "outputId": "e8d71522-7271-4ca7-b5ae-db3ece080ceb"
      },
      "execution_count": null,
      "outputs": [
        {
          "output_type": "stream",
          "name": "stdout",
          "text": [
            "Test Result:\n",
            "================================================\n",
            "Accuracy Score: 97.78%\n",
            "_______________________________________________\n",
            "CLASSIFICATION REPORT:\n",
            "              0          1          2  accuracy  macro avg  weighted avg\n",
            "precision   1.0   0.937500   1.000000  0.977778   0.979167      0.979167\n",
            "recall      1.0   1.000000   0.933333  0.977778   0.977778      0.977778\n",
            "f1-score    1.0   0.967742   0.965517  0.977778   0.977753      0.977753\n",
            "support    15.0  15.000000  15.000000  0.977778  45.000000     45.000000\n",
            "_______________________________________________\n",
            "Confusion Matrix: \n",
            " [[15  0  0]\n",
            " [ 0 15  0]\n",
            " [ 0  1 14]]\n",
            "\n",
            "\n",
            "\n"
          ]
        }
      ]
    }
  ]
}