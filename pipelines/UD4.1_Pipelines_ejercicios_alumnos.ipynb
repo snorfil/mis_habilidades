{
 "cells": [
  {
   "cell_type": "markdown",
   "metadata": {},
   "source": [
    "# Ejercicios sobre pipelines"
   ]
  },
  {
   "cell_type": "code",
   "execution_count": null,
   "metadata": {},
   "outputs": [],
   "source": [
    "from sklearn.datasets import load_iris\n",
    "from sklearn.model_selection import train_test_split\n",
    "from sklearn.preprocessing import StandardScaler\n",
    "from sklearn.svm import SVC\n",
    "from sklearn.pipeline import Pipeline\n",
    "from sklearn.decomposition import PCA\n",
    "\n",
    "import pandas as pd\n",
    "import numpy as np\n",
    "\n",
    "from sklearn.metrics import accuracy_score\n",
    "\n",
    "# Cargar el conjunto de datos Iris\n",
    "iris = load_iris(as_frame=True).frame\n",
    "X = iris.drop(columns='target', axis=1)\n",
    "y = iris['target']\n",
    "\n",
    "# Dividir el conjunto de datos en entrenamiento y prueba\n",
    "X_train, X_test, y_train, y_test = train_test_split(X, y, test_size=0.2, random_state=42)"
   ]
  },
  {
   "cell_type": "markdown",
   "metadata": {},
   "source": [
    "## Ejercicio 1\n",
    "\n",
    "Crea un pipeline que tenga como tarea normalizar, para ello, utiliza la clase MinMaxScaler. Comprueba el resultado."
   ]
  },
  {
   "cell_type": "code",
   "execution_count": null,
   "metadata": {},
   "outputs": [],
   "source": []
  },
  {
   "cell_type": "code",
   "execution_count": null,
   "metadata": {},
   "outputs": [],
   "source": []
  },
  {
   "cell_type": "markdown",
   "metadata": {},
   "source": [
    "Crea un pipeline que tenga como tarea estandarizar, para ello, utiliza la clase StandardScaler. Comprueba el resultado. "
   ]
  },
  {
   "cell_type": "code",
   "execution_count": null,
   "metadata": {},
   "outputs": [],
   "source": []
  },
  {
   "cell_type": "code",
   "execution_count": null,
   "metadata": {},
   "outputs": [],
   "source": []
  },
  {
   "cell_type": "markdown",
   "metadata": {},
   "source": [
    "## Ejercicio 2\n",
    "\n",
    "Crea tu propio transformador que normalize un conjunto. Recuerda que la fórmula para normalizar es la siguiente:\n",
    "\n",
    "```\n",
    "xi_normalizada = xi - min(x) / max(ex) - min(ex)\n",
    "```\n",
    "\n",
    "Donde:\n",
    "* *xi* es el valor a normalizar.\n",
    "* *min(x)* es el mínimo del conjunto de los datos.\n",
    "* *min(x)* es el máximo del conjunto de los datos.\n",
    "* *xi_normalizada* es el valor de xi normalizado.\n"
   ]
  },
  {
   "cell_type": "code",
   "execution_count": null,
   "metadata": {},
   "outputs": [],
   "source": []
  },
  {
   "cell_type": "markdown",
   "metadata": {},
   "source": [
    "Comprueba que el resultado es igual que el que el de la clase MinMaxScaler"
   ]
  },
  {
   "cell_type": "code",
   "execution_count": null,
   "metadata": {},
   "outputs": [],
   "source": []
  },
  {
   "cell_type": "markdown",
   "metadata": {},
   "source": [
    "## Ejercicio 3\n",
    "\n",
    "Crea tu propio transformador que estandarice un conjunto. Recuerda que la fórmula para estandarizar es la siguiente:\n",
    "\n",
    "```\n",
    "xi_estandarizada = (xi - media(x)) / std(x)\n",
    "```\n",
    "\n",
    "Donde:\n",
    "* *xi* es el valor a estandarizar.\n",
    "* *media(x)* es la media de los datos.\n",
    "* *std(x)* es la desviación típica de los datos.\n",
    "* *xi_estandarizada* es el valor de xi estandarizado.\n",
    "\n",
    "\n"
   ]
  },
  {
   "cell_type": "code",
   "execution_count": null,
   "metadata": {},
   "outputs": [],
   "source": []
  },
  {
   "cell_type": "code",
   "execution_count": null,
   "metadata": {},
   "outputs": [],
   "source": []
  },
  {
   "cell_type": "markdown",
   "metadata": {},
   "source": [
    "Comprueba que el resultado es igual que el de StandardScaler"
   ]
  },
  {
   "cell_type": "code",
   "execution_count": null,
   "metadata": {},
   "outputs": [],
   "source": []
  },
  {
   "cell_type": "markdown",
   "metadata": {},
   "source": [
    "## Ejercicio 4. \n",
    "\n",
    "Crea tu propio transformador, aplicará el mismo LabelEncoder a todas las columnas categóricas del siguiente dataset. "
   ]
  },
  {
   "cell_type": "code",
   "execution_count": null,
   "metadata": {},
   "outputs": [],
   "source": [
    "# Cargar el conjunto de datos Iris\n",
    "iris = load_iris(as_frame=True).frame\n",
    "X = iris.drop(columns='target', axis=1)\n",
    "y = iris['target']\n",
    "\n",
    "# Calculo la mitad del dataset\n",
    "midpoint = len(X) // 2\n",
    "\n",
    "# Asigno valores diferentes a la mitad de la columna\n",
    "X.loc[:midpoint, 'categorica1'] = 'valor1'\n",
    "X.loc[midpoint:, 'categorica1'] = 'valor2'\n",
    "\n",
    "# Asigno valores diferentes a la mitad de la columna\n",
    "X.loc[:midpoint, 'categorica2'] = 'valor2'\n",
    "X.loc[midpoint:, 'categorica2'] = 'valor1'\n",
    "\n",
    "\n",
    "# Dividir el conjunto de datos en entrenamiento y prueba\n",
    "X_train, X_test, y_train, y_test = train_test_split(X, y, test_size=0.2, random_state=42)"
   ]
  },
  {
   "cell_type": "code",
   "execution_count": null,
   "metadata": {},
   "outputs": [],
   "source": []
  },
  {
   "cell_type": "code",
   "execution_count": null,
   "metadata": {},
   "outputs": [],
   "source": []
  },
  {
   "cell_type": "markdown",
   "metadata": {},
   "source": [
    "## Ejercicio 5\n",
    "\n",
    "Crea tu propio transformador para aplicar la técnica de one_hot_encoding a un conjunto de columnas que pasaré como parámetro. "
   ]
  },
  {
   "cell_type": "code",
   "execution_count": null,
   "metadata": {},
   "outputs": [],
   "source": []
  },
  {
   "cell_type": "markdown",
   "metadata": {},
   "source": [
    "Aplica el transformador a las columnas categóricas del siguiente dataset"
   ]
  },
  {
   "cell_type": "code",
   "execution_count": null,
   "metadata": {},
   "outputs": [],
   "source": [
    "# Cargar el conjunto de datos Iris\n",
    "iris = load_iris(as_frame=True).frame\n",
    "X = iris.drop(columns='target', axis=1)\n",
    "y = iris['target']\n",
    "\n",
    "# Calculo la mitad del dataset\n",
    "midpoint = len(X) // 2\n",
    "\n",
    "# Asigno valores diferentes a la mitad de la columna\n",
    "X.loc[:midpoint, 'categorica1'] = 'valor1'\n",
    "X.loc[midpoint:, 'categorica1'] = 'valor2'\n",
    "\n",
    "# Asigno valores diferentes a la mitad de la columna\n",
    "X.loc[:midpoint, 'categorica2'] = 'valor2'\n",
    "X.loc[midpoint:, 'categorica2'] = 'valor1'\n",
    "\n",
    "\n",
    "# Dividir el conjunto de datos en entrenamiento y prueba\n",
    "X_train, X_test, y_train, y_test = train_test_split(X, y, test_size=0.2, random_state=42)"
   ]
  },
  {
   "cell_type": "markdown",
   "metadata": {},
   "source": [
    "# Ejercicio 6\n",
    "\n",
    "Crea un transformador llamado MultiplierTransformer que tome un conjunto de datos y multiplique todas las características numéricas por un factor específico. "
   ]
  },
  {
   "cell_type": "code",
   "execution_count": null,
   "metadata": {},
   "outputs": [],
   "source": []
  },
  {
   "cell_type": "markdown",
   "metadata": {},
   "source": [
    "Escribe un ejemplo de uso utilizando el siguiente dataset:"
   ]
  },
  {
   "cell_type": "code",
   "execution_count": null,
   "metadata": {},
   "outputs": [],
   "source": [
    "# Ejemplo de uso con un DataFrame de pandas\n",
    "import pandas as pd\n",
    "\n",
    "data = {'A': [1, 2, 3], 'B': [4, 5, 6], 'C': [7, 8, 9]}\n",
    "df = pd.DataFrame(data)"
   ]
  },
  {
   "cell_type": "code",
   "execution_count": null,
   "metadata": {},
   "outputs": [],
   "source": []
  },
  {
   "cell_type": "markdown",
   "metadata": {},
   "source": [
    "# Ejercicio 7\n",
    "\n",
    "Desarrolla un transformador llamado MissingDataImputerNumerical que sustituya los datos faltantes en las columnas por el valor de la media de cada columna. "
   ]
  },
  {
   "cell_type": "code",
   "execution_count": null,
   "metadata": {},
   "outputs": [],
   "source": []
  },
  {
   "cell_type": "markdown",
   "metadata": {},
   "source": [
    "Ejecuta un ejemplo utilizando el siguiente dataset"
   ]
  },
  {
   "cell_type": "code",
   "execution_count": null,
   "metadata": {},
   "outputs": [],
   "source": [
    "import pandas as pd\n",
    "\n",
    "data = {'A': [1, 2, np.nan], 'B': [4, np.nan, 6], 'C': [7, 8, 9]}\n",
    "df = pd.DataFrame(data)"
   ]
  },
  {
   "cell_type": "code",
   "execution_count": null,
   "metadata": {},
   "outputs": [],
   "source": []
  },
  {
   "cell_type": "markdown",
   "metadata": {},
   "source": [
    "# Ejercicio 8\n",
    "\n",
    "Desarrolla un transformador llamado MissingDataImputerCategorical que sustituya los datos faltantes en las columnas categóricas por el valor que más veces aparezca. "
   ]
  },
  {
   "cell_type": "code",
   "execution_count": null,
   "metadata": {},
   "outputs": [],
   "source": []
  },
  {
   "cell_type": "markdown",
   "metadata": {},
   "source": [
    "Ejecuta un ejemplo utilizando el siguiente dataset"
   ]
  },
  {
   "cell_type": "code",
   "execution_count": null,
   "metadata": {},
   "outputs": [],
   "source": [
    "import pandas as pd\n",
    "\n",
    "data = {'A': [1, 2, np.nan, 4], 'B': [4, np.nan, 6, 5], 'C': [7, 8, 9, 10], 'D': ['a', 'a', np.nan,'b'], 'E': ['x', 'c', np.nan,'x']}\n",
    "df = pd.DataFrame(data)\n",
    "df"
   ]
  },
  {
   "cell_type": "code",
   "execution_count": null,
   "metadata": {},
   "outputs": [],
   "source": []
  }
 ],
 "metadata": {
  "kernelspec": {
   "display_name": "Python 3",
   "language": "python",
   "name": "python3"
  },
  "language_info": {
   "codemirror_mode": {
    "name": "ipython",
    "version": 3
   },
   "file_extension": ".py",
   "mimetype": "text/x-python",
   "name": "python",
   "nbconvert_exporter": "python",
   "pygments_lexer": "ipython3",
   "version": "3.10.9"
  }
 },
 "nbformat": 4,
 "nbformat_minor": 2
}
