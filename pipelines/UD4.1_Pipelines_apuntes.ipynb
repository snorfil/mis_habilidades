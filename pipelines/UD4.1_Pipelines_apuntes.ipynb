{
 "cells": [
  {
   "cell_type": "markdown",
   "metadata": {},
   "source": [
    "# Utilización de pipelines"
   ]
  },
  {
   "cell_type": "markdown",
   "metadata": {},
   "source": [
    "La documentación oficial se puede encontrar en: https://scikit-learn.org/stable/modules/generated/sklearn.pipeline.Pipeline.html"
   ]
  },
  {
   "cell_type": "markdown",
   "metadata": {},
   "source": [
    "## Utilización de Pipeline con el conjunto entero"
   ]
  },
  {
   "cell_type": "code",
   "execution_count": null,
   "metadata": {},
   "outputs": [],
   "source": [
    "from sklearn.datasets import load_iris\n",
    "from sklearn.model_selection import train_test_split\n",
    "from sklearn.preprocessing import StandardScaler\n",
    "from sklearn.svm import SVC\n",
    "from sklearn.pipeline import Pipeline\n",
    "from sklearn.decomposition import PCA\n",
    "\n",
    "from sklearn.metrics import accuracy_score"
   ]
  },
  {
   "cell_type": "code",
   "execution_count": null,
   "metadata": {},
   "outputs": [],
   "source": [
    "# Cargar el conjunto de datos Iris\n",
    "iris = load_iris(as_frame=True).frame\n",
    "X = iris.drop(columns='target', axis=1)\n",
    "y = iris['target']"
   ]
  },
  {
   "cell_type": "code",
   "execution_count": null,
   "metadata": {},
   "outputs": [],
   "source": [
    "# Dividir el conjunto de datos en entrenamiento y prueba\n",
    "X_train, X_test, y_train, y_test = train_test_split(X, y, test_size=0.2, random_state=42)"
   ]
  },
  {
   "cell_type": "code",
   "execution_count": null,
   "metadata": {},
   "outputs": [],
   "source": [
    "# Crear un objeto Pipeline con un escalador y un clasificador SVM\n",
    "pipeline = Pipeline([\n",
    "    ('pca', PCA(n_components=2)), #no lo hemos visto, pero es un método de reducción de dimensionalidad\n",
    "    ('scaler', StandardScaler())          \n",
    "])"
   ]
  },
  {
   "cell_type": "code",
   "execution_count": null,
   "metadata": {},
   "outputs": [],
   "source": [
    "pipeline.fit(X_train)\n",
    "\n",
    "pipeline.transform(X_train)\n",
    "pipeline.transform(X_test)"
   ]
  },
  {
   "cell_type": "markdown",
   "metadata": {},
   "source": [
    "## Creación de tus propios transformadores"
   ]
  },
  {
   "cell_type": "code",
   "execution_count": null,
   "metadata": {},
   "outputs": [],
   "source": [
    "# Cargar el conjunto de datos Iris\n",
    "iris = load_iris(as_frame=True).frame\n",
    "X = iris.drop(columns='target', axis=1)\n",
    "y = iris['target']\n",
    "\n",
    "#aniado columna categórica\n",
    "X['categorica'] = 'valor por defecto'\n",
    "\n",
    "# Dividir el conjunto de datos en entrenamiento y prueba\n",
    "X_train, X_test, y_train, y_test = train_test_split(X, y, test_size=0.2, random_state=42)"
   ]
  },
  {
   "cell_type": "code",
   "execution_count": null,
   "metadata": {},
   "outputs": [],
   "source": [
    "X_train.head(5)"
   ]
  },
  {
   "cell_type": "code",
   "execution_count": null,
   "metadata": {},
   "outputs": [],
   "source": [
    "from sklearn.base import BaseEstimator, TransformerMixin\n",
    "\n",
    "# Definir un transformador personalizado\n",
    "class Transformador1(BaseEstimator, TransformerMixin):\n",
    "    def fit(self, X, y=None):\n",
    "\n",
    "        # Select only the numeric columns\n",
    "        self.numeric_columns = list(X.dtypes[X.dtypes != 'object'].index)\n",
    "        return self\n",
    "\n",
    "    def transform(self, X):\n",
    "        return X[self.numeric_columns]  # Seleccionar solo las columnas numéricas\n"
   ]
  },
  {
   "cell_type": "code",
   "execution_count": null,
   "metadata": {},
   "outputs": [],
   "source": [
    "# Definir un transformador personalizado\n",
    "class Transformador2(BaseEstimator, TransformerMixin):\n",
    "    def fit(self, X, y=None):\n",
    "        return self\n",
    "\n",
    "    def transform(self, X):\n",
    "        return X *5  # Multiplicar por 5"
   ]
  },
  {
   "cell_type": "code",
   "execution_count": null,
   "metadata": {},
   "outputs": [],
   "source": [
    "#haremos pruebas con transformadores\n",
    "\n",
    "t1 = Transformador1()\n",
    "t1.fit_transform(X_train)\n",
    "X_test = t1.transform(X_test)\n",
    "\n",
    "X_test.head(5)"
   ]
  },
  {
   "cell_type": "code",
   "execution_count": null,
   "metadata": {},
   "outputs": [],
   "source": [
    "# Crear el Pipeline con el transformador personalizado y el clasificador SVM\n",
    "pipeline_with_transformer = Pipeline([\n",
    "    ('transformador1', Transformador1()),       # Paso 1: Transformador personalizado\n",
    "    ('transformador2', Transformador2()),       # Paso 2: Transformador personalizado\n",
    "    ('scaler', StandardScaler()),               # Paso 3: Escalar los datos                    \n",
    "])"
   ]
  },
  {
   "cell_type": "code",
   "execution_count": null,
   "metadata": {},
   "outputs": [],
   "source": [
    "# Entrenar el modelo usando el conjunto de entrenamiento\n",
    "pipeline_with_transformer.fit(X_train, y_train)\n",
    "pipeline_with_transformer.transform(X_train)"
   ]
  },
  {
   "cell_type": "markdown",
   "metadata": {},
   "source": [
    "### Transformadores con parámetros\n",
    "\n",
    "También se le pueden pasar parámetros al transformador a la hora de constuirlo. Para ello, tendremos un método llamado ```__init__(self, <lista_parametros>)```. En el siguiente ejemplo, se pasa como parámetro la lista de columnas que quiero mantener en el dataset. "
   ]
  },
  {
   "cell_type": "code",
   "execution_count": null,
   "metadata": {},
   "outputs": [],
   "source": [
    "from sklearn.base import BaseEstimator, TransformerMixin\n",
    "from sklearn.preprocessing import LabelEncoder\n",
    "\n",
    "class FiltroColumnas(BaseEstimator, TransformerMixin):\n",
    "    def __init__(self, columns):\n",
    "        self.columns = columns\n",
    "\n",
    "    def fit(self, X, y=None):\n",
    "        return self\n",
    "\n",
    "    def transform(self, X):\n",
    "        return X[self.columns]\n"
   ]
  },
  {
   "cell_type": "markdown",
   "metadata": {},
   "source": [
    "A la hora de constuirlo le pasaré el parámetro. "
   ]
  },
  {
   "cell_type": "code",
   "execution_count": null,
   "metadata": {},
   "outputs": [],
   "source": [
    "columnas = ['sepal length (cm)', 'sepal width (cm)']\n",
    "\n",
    "# Crear el Pipeline con el transformador personalizado y el clasificador SVM\n",
    "pipeline_with_transformer = Pipeline([\n",
    "    ('transformador1', Transformador1()),                       # Paso 1: Elimino las categóricas\n",
    "    ('filtroColumnas', FiltroColumnas(columns=columnas)),       # Paso 2: Me quedo con las características del sepalo\n",
    "    ('transformador2', Transformador2()),                       # Paso 2: Multiplico por 5 los valores\n",
    "    ('scaler', StandardScaler())                                # Paso 3: Escalo los datos                      \n",
    "])"
   ]
  },
  {
   "cell_type": "code",
   "execution_count": null,
   "metadata": {},
   "outputs": [],
   "source": [
    "# Cargar el conjunto de datos Iris\n",
    "iris = load_iris(as_frame=True).frame\n",
    "X = iris.drop(columns='target', axis=1)\n",
    "y = iris['target']\n",
    "\n",
    "# Dividir el conjunto de datos en entrenamiento y prueba\n",
    "X_train, X_test, y_train, y_test = train_test_split(X, y, test_size=0.2, random_state=42)"
   ]
  },
  {
   "cell_type": "code",
   "execution_count": null,
   "metadata": {},
   "outputs": [],
   "source": [
    "# Entrenar el modelo usando el conjunto de entrenamiento\n",
    "pipeline_with_transformer.fit(X_train, y_train)\n",
    "pipeline_with_transformer.transform(X_train)"
   ]
  },
  {
   "cell_type": "markdown",
   "metadata": {},
   "source": [
    "# Utilización de varios pipelines con varias columnas (NO ENTRA)"
   ]
  },
  {
   "cell_type": "code",
   "execution_count": null,
   "metadata": {},
   "outputs": [],
   "source": [
    "import pandas as pd\n",
    "from sklearn.model_selection import train_test_split\n",
    "from sklearn.impute import SimpleImputer\n",
    "from sklearn.preprocessing import StandardScaler, OneHotEncoder\n",
    "from sklearn.ensemble import RandomForestClassifier\n",
    "from sklearn.pipeline import Pipeline\n",
    "from sklearn.compose import ColumnTransformer"
   ]
  },
  {
   "cell_type": "code",
   "execution_count": null,
   "metadata": {},
   "outputs": [],
   "source": [
    "# Cargar datos\n",
    "url = \"https://raw.githubusercontent.com/datasciencedojo/datasets/master/titanic.csv\"\n",
    "titanic_data = pd.read_csv(url)\n",
    "titanic_data.head()"
   ]
  },
  {
   "cell_type": "markdown",
   "metadata": {},
   "source": [
    "Observaciones sobre las columnas:\n",
    "\n",
    "* PassengerId es de tipo entero e identifica de manera única a cada pasajero, pero no será útil para nuestro modelo.\n",
    "* Survived es el atributo objetivo de tipo booleano.\n",
    "* Pclass clasifica a los pasajeros en clases. Aunque el valor es de tipo entero, esta característica es de naturaleza categórica.\n",
    "* Name es de tipo objeto (cadena de texto). Probablemente sea único para cada pasajero y puede descartarse antes del entrenamiento.\n",
    "* Sex es de tipo objeto (cadena de texto). Es de naturaleza categórica.\n",
    "* Age es de tipo flotante. Al observar el resumen del conjunto de datos, podemos notar que contiene algunos valores faltantes.\n",
    "* SibSp es de tipo entero y describe el número de hermanos/cónyuges de cada pasajero a bordo.\n",
    "* Parch es de tipo entero y describe el número de padres/hijos de cada pasajero a bordo.\n",
    "* Ticket es de tipo objeto (cadena de texto). Puede tener muchos (o todos) valores únicos.\n",
    "* Fare es de tipo flotante.\n",
    "* Cabin es de tipo objeto (cadena de texto). Es de naturaleza categórica pero contiene muchos valores faltantes.\n",
    "* Embarked es de tipo objeto (cadena de texto). Es de naturaleza categórica y contiene algunos valores faltantes"
   ]
  },
  {
   "cell_type": "code",
   "execution_count": null,
   "metadata": {},
   "outputs": [],
   "source": [
    "# Dividir los datos en características (X) y la variable objetivo (y)\n",
    "X = titanic_data.drop(\"Survived\", axis=1)\n",
    "y = titanic_data[\"Survived\"]\n",
    "\n",
    "# Dividir los datos en conjuntos de entrenamiento y prueba\n",
    "X_train, X_test, y_train, y_test = train_test_split(X, y, test_size=0.2, random_state=42)"
   ]
  },
  {
   "cell_type": "code",
   "execution_count": null,
   "metadata": {},
   "outputs": [],
   "source": [
    "# Definir las columnas numéricas y categóricas\n",
    "numeric_features = X.select_dtypes(include=['int64', 'float64']).columns\n",
    "categorical_features = X.select_dtypes(include=['object']).columns"
   ]
  },
  {
   "cell_type": "code",
   "execution_count": null,
   "metadata": {},
   "outputs": [],
   "source": [
    "# Crear transformers para los datos numéricos y categóricos\n",
    "numeric_transformer = Pipeline(steps=[\n",
    "    ('imputer', SimpleImputer(strategy='mean')),\n",
    "    ('scaler', StandardScaler())\n",
    "])\n",
    "\n",
    "categorical_transformer = Pipeline(steps=[\n",
    "    ('imputer', SimpleImputer(strategy='most_frequent')),\n",
    "    ('onehot', OneHotEncoder(handle_unknown='ignore'))\n",
    "])"
   ]
  },
  {
   "cell_type": "code",
   "execution_count": null,
   "metadata": {},
   "outputs": [],
   "source": [
    "# Combinar transformers en un preprocesador utilizando ColumnTransformer\n",
    "preprocessor = ColumnTransformer(\n",
    "    transformers=[\n",
    "        ('num', numeric_transformer, numeric_features),\n",
    "        ('cat', categorical_transformer, categorical_features)\n",
    "    ])"
   ]
  },
  {
   "cell_type": "code",
   "execution_count": null,
   "metadata": {},
   "outputs": [],
   "source": [
    "# Crear el pipeline final con el preprocesador y el modelo RandomForest\n",
    "pipeline = Pipeline(steps=[('preprocessor', preprocessor),\n",
    "                            ('classifier', RandomForestClassifier(random_state=42))])"
   ]
  },
  {
   "cell_type": "code",
   "execution_count": null,
   "metadata": {},
   "outputs": [],
   "source": [
    "# Entrenar el modelo usando el pipeline\n",
    "pipeline.fit(X_train, y_train)"
   ]
  },
  {
   "cell_type": "code",
   "execution_count": null,
   "metadata": {},
   "outputs": [],
   "source": [
    "# Evaluar el modelo en el conjunto de prueba\n",
    "accuracy = pipeline.score(X_test, y_test)\n",
    "print(f\"Accuracy: {accuracy}\")"
   ]
  }
 ],
 "metadata": {
  "kernelspec": {
   "display_name": "Python 3",
   "language": "python",
   "name": "python3"
  },
  "language_info": {
   "codemirror_mode": {
    "name": "ipython",
    "version": 3
   },
   "file_extension": ".py",
   "mimetype": "text/x-python",
   "name": "python",
   "nbconvert_exporter": "python",
   "pygments_lexer": "ipython3",
   "version": "3.10.9"
  }
 },
 "nbformat": 4,
 "nbformat_minor": 2
}
