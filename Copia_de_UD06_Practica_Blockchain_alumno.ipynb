{
  "cells": [
    {
      "cell_type": "markdown",
      "metadata": {
        "id": "y31s2Q3hd5Rs"
      },
      "source": [
        "**Ejercicio 1**. Crea una clase que represente un bloque dentro de nuestra estructura de blockchain. Esta clase se llamará \"Block\" deberá tener como atributos:\n",
        "\n",
        "*   index: que representa el índice dentro de la cadena de bloques.\n",
        "*   timestamp: marca de tiempo sobre el bloque.\n",
        "*   data: información que va a contener el bloque.\n",
        "*   previous_hash: hash del bloque anterior.\n",
        "*   nonce: numero entero que nos va a permitir el minado.\n",
        "*   hash: hash del bloque.\n",
        "\n",
        "**Ejercicio 2.** Crea un constructor (`__init__`) que inicialice dichos atributos a partir de: index, timestamp, data y previous_hash.\n",
        "\n",
        "**Ejercicio 3.** Dentro de la clase Block, debes crear las siguientes funciones:\n",
        "\n",
        "* ```def calculate_hash(self)``` Devolverá el hash del bloque. Puedes hacer uso de la función `hashlib.sha256(<str>)` a la que se le pasa un string por parámetro.\n",
        "\n",
        "* ```def __str__(self)``` Devolverá un string con información de todos los atributos del bloque: index, timestamp, data, previous_hash, nonce, y hash.\n",
        "\n",
        "* ```def mine_block(self, difficulty)``` Función que servirá para minar el bloque. El minado consistirá en ir cambiando el valor de nonce hasta que el hash obtenido tenga tantos ceros al principio como indique el parámetro `difficulty`.  \n",
        "\n",
        "\n",
        "\n"
      ]
    },
    {
      "cell_type": "code",
      "execution_count": null,
      "metadata": {
        "id": "B3Eqd1e7vHIW"
      },
      "outputs": [],
      "source": [
        "import hashlib\n",
        "import time"
      ]
    },
    {
      "cell_type": "code",
      "execution_count": null,
      "metadata": {
        "id": "GVMSeN6Rd3C4"
      },
      "outputs": [],
      "source": [
        "class Block:\n",
        "    def __init__(self, index, timestamp, data, previous_hash):\n",
        "\n",
        "\n",
        "    def calculate_hash(self):\n",
        "        return hashlib.sha256(....).hexdigest()\n",
        "\n",
        "    def mine_block(self, difficulty):\n",
        "\n",
        "    def __str__(self):\n"
      ]
    },
    {
      "cell_type": "markdown",
      "metadata": {
        "id": "u3zjRORMifjC"
      },
      "source": [
        "**Ejercicio 4**. Crea una clase llamada \"Blockchain\" que tenga como atributos:\n",
        "\n",
        "*   chain: es una lista de objetos de tipo Block, donde el primer bloque seá el bloque génesis.\n",
        "*   difficulty: es la dificultad (número entero) que tendrá la cadena de bloques para ir minando nuevos bloques.\n",
        "\n",
        "\n",
        "**Ejercicio 5**. Crea un constructor de Blockchain que le asigne por defecto una dificultad 4 y el bloque génesis. Este bloque tendrá como índice el 0, como timestamp el momento de la llamada, data será \"génesis block\" y el previous_hash será 0.\n",
        "\n",
        "\n",
        "**Ejercicio 6**. Crea dentro de la clase Blockchain los siguientes métodos:\n",
        "\n",
        "*  `def create_genesis_block(self)` devolverá un bloque con índice igual a 0, como timestamp el momento de la llamada, data será \"génesis block\" y el previous_hash será 0.\n",
        "\n",
        "* `def get_latest_block(self)` devolverá el último bloque de la cadena.\n",
        "\n",
        "* `def is_chain_valid(self)` devolverá verdadero si la cadena de blockchain es correcta o no.\n",
        "\n",
        "* `def add_block(self, new_block)` minará new_block para poder ser introducido a la cadena de blockchain.\n"
      ]
    },
    {
      "cell_type": "code",
      "execution_count": null,
      "metadata": {
        "id": "HrQjLh5BiLRw"
      },
      "outputs": [],
      "source": [
        "class Blockchain:\n",
        "    def __init__(self):\n",
        "\n",
        "    def create_genesis_block(self):\n",
        "\n",
        "    def get_latest_block(self):\n",
        "\n",
        "    def add_block(self, new_block):\n",
        "\n",
        "    def is_chain_valid(self):\n",
        "\n"
      ]
    },
    {
      "cell_type": "markdown",
      "metadata": {
        "id": "T9sYevkZu7Gl"
      },
      "source": [
        "\n",
        "**Ejercicio 7**. Crea una cadena de blockchain y genera 3 bloques válidos."
      ]
    },
    {
      "cell_type": "code",
      "execution_count": null,
      "metadata": {
        "colab": {
          "background_save": true,
          "base_uri": "https://localhost:8080/"
        },
        "id": "OCtgu3yZiNQq",
        "outputId": "bf3f1521-63e7-4eaf-bab6-88ae5a6af15f"
      },
      "outputs": [
        {
          "name": "stdout",
          "output_type": "stream",
          "text": [
            "Minando bloque 1...\n",
            "Block 1 - Timestamp: 1711558714.0785677, Data: {'amount': 10}, Previous Hash: 07991464a8d25cb9ec7a7b8db3f9c8125ab2ac2a3f9bd2da16f0aa4f77726851, Nonce: 21448, Hash: 00002d311a7e82215bcc1a446c8f196c3a85ebed7884dc67e580059b3d817555\n",
            "\n",
            "Minando bloque 2...\n",
            "Block 2 - Timestamp: 1711558714.233053, Data: {'amount': 20}, Previous Hash: 00002d311a7e82215bcc1a446c8f196c3a85ebed7884dc67e580059b3d817555, Nonce: 11349, Hash: 0000c1dc137e7e300c73c2962ec55d072a4938072a45822ba757f973db1e0ab2\n",
            "\n",
            "Minando bloque 3...\n",
            "Block 3 - Timestamp: 1711558714.31876, Data: {'amount': 30}, Previous Hash: 0000c1dc137e7e300c73c2962ec55d072a4938072a45822ba757f973db1e0ab2, Nonce: 83914, Hash: 000000a387f059bcaf90b4a673b15a9ccc89881cec8b15b7bb08bd906c4eb6bd\n",
            "\n",
            "Es la cadena válida? True\n",
            "\n",
            "Minando bloque 4...\n"
          ]
        }
      ],
      "source": [
        "\n",
        "# Ejemplo de uso\n",
        "blockchain = Blockchain()\n"
      ]
    },
    {
      "cell_type": "markdown",
      "metadata": {
        "id": "Ky4Jd4uYvuXr"
      },
      "source": [
        "# Mejoras para convertir el sistema en distribuido."
      ]
    },
    {
      "cell_type": "markdown",
      "metadata": {
        "id": "PxMtRFKtw0V0"
      },
      "source": [
        "El sistema se podría convertir en distribuido implementando un mecanismo en el que diferentes nodos colaboren para validar y propagar los bloques. Posibles formas:\n",
        "\n",
        "1. Nodos de la red: Cada nodo ejecutaría una copia del código de la cadena de bloques y sería capaz de recibir y transmitir bloques a otros nodos en la red.\n",
        "\n",
        "2. Protocolo de consenso: Necesitarías implementar un protocolo de consenso para que los nodos acuerden qué cadena de bloques es la válida cuando hay múltiples versiones. Algunas opciones comunes incluyen Prueba de Trabajo (Proof of Work), Prueba de Participación (Proof of Stake), o algoritmos de consenso más avanzados como Practical Byzantine Fault Tolerance (PBFT) o Delegated Proof of Stake (DPoS).\n",
        "\n",
        "3. Transmisión de bloques: Necesitarías establecer un mecanismo para que los nodos puedan transmitir bloques a través de la red. Esto podría hacerse a través de una red peer-to-peer (P2P) utilizando sockets o protocolos específicos como HTTP o WebSockets.\n",
        "\n",
        "4. Los nodos deben verificar que los bloques que reciben son válidos antes de agregarlos a su propia cadena. Esto implica verificar la estructura del bloque, su hash, su validez en términos de reglas de consenso, y su relación con la cadena existente.\n",
        "\n",
        "5. **Incentivos: Podrías considerar la introducción de un sistema de incentivos para motivar a los nodos a participar honestamente en el mantenimiento de la red. Esto podría incluir recompensas en forma de criptomonedas o tarifas de transacción.**"
      ]
    }
  ],
  "metadata": {
    "colab": {
      "provenance": []
    },
    "kernelspec": {
      "display_name": "Python 3",
      "name": "python3"
    },
    "language_info": {
      "name": "python"
    }
  },
  "nbformat": 4,
  "nbformat_minor": 0
}