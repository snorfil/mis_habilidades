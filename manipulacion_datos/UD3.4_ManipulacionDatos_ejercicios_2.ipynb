{
  "cells": [
    {
      "cell_type": "markdown",
      "metadata": {
        "id": "QBmeRj3pi_kb"
      },
      "source": [
        "# Manipulación de datos (preprocesamiento)\n"
      ]
    },
    {
      "cell_type": "code",
      "execution_count": null,
      "metadata": {
        "id": "Y1GTGVT6S8S1"
      },
      "outputs": [],
      "source": [
        "# Libraries to handle data\n",
        "import matplotlib.pyplot as plt\n",
        "import pandas as pd\n",
        "import numpy as np\n",
        "import seaborn as sns\n",
        "\n",
        "from sklearn.datasets import load_wine\n",
        "df_wine = load_wine(as_frame=True).frame"
      ]
    },
    {
      "cell_type": "markdown",
      "metadata": {
        "id": "mIjx59KSTN0o"
      },
      "source": [
        "**Ejercicio 1.** Visualiza la primera fila del dataset."
      ]
    },
    {
      "cell_type": "code",
      "execution_count": null,
      "metadata": {
        "id": "btICyqiWc8kY"
      },
      "outputs": [],
      "source": []
    },
    {
      "cell_type": "markdown",
      "metadata": {
        "id": "6B2xv7T7YL_m"
      },
      "source": [
        "**Ejercicio 2.** Muestra información general como el número de filas, el número de columnas, el nombre de las columnas y el tipo de dato de cada columna"
      ]
    },
    {
      "cell_type": "code",
      "execution_count": null,
      "metadata": {
        "id": "3SsXGiIgTOlw"
      },
      "outputs": [],
      "source": []
    },
    {
      "cell_type": "markdown",
      "metadata": {
        "id": "DW7aCuddYL_m"
      },
      "source": [
        "**Ejercicio 3.** En la columna target, el número 0 corresponde a la etiqueta 'clase1', el 1 a 'clase2' y el 2 a 'clase3'. Modifica el dataset para que aparezcan los nombres en vez de los números."
      ]
    },
    {
      "cell_type": "code",
      "execution_count": null,
      "metadata": {
        "id": "FFs7E_EWYL_m"
      },
      "outputs": [],
      "source": [
        "# Mapeo de los números a las etiquetas nominativas\n",
        "mapeo_clases = {0: 'clase1', 1: 'clase2', 2: 'clase3'}\n",
        "\n",
        "# Modificar la columna target\n",
        "df_wine['target'] = df_wine['target'].map(mapeo_clases)\n",
        "\n",
        "# Mostrar las primeras filas del DataFrame modificado para verificar el cambio\n",
        "df_wine.head()\n"
      ]
    },
    {
      "cell_type": "markdown",
      "metadata": {
        "id": "WiCZREIiYL_n"
      },
      "source": [
        "**Ejercicio 4.** Elimina la columna flavanoids y en su lugar crea una nueva que se llame graduacion_flavanoids. Esta nueva columna deberá tener como valores alto, medio y bajo dependiendo del valor de la columna flavanoids."
      ]
    },
    {
      "cell_type": "code",
      "execution_count": null,
      "metadata": {
        "id": "8FKt-FsNYL_n"
      },
      "outputs": [],
      "source": [
        "# Definir las condiciones para la nueva columna graduacion_flavanoids\n",
        "def clasificar_flavanoids(valor):\n",
        "    if valor > df_wine['flavanoids'].quantile(0.66):\n",
        "        return 'alto'\n",
        "    elif valor > df_wine['flavanoids'].quantile(0.33):\n",
        "        return 'medio'\n",
        "    else:\n",
        "        return 'bajo'\n",
        "\n",
        "# Crear la nueva columna graduacion_flavanoids\n",
        "df_wine['graduacion_flavanoids'] = df_wine['flavanoids'].apply(clasificar_flavanoids)\n",
        "\n",
        "# Eliminar la columna flavanoids\n",
        "df_wine.drop(columns=['flavanoids'], inplace=True)\n",
        "\n",
        "# Mostrar las primeras filas del DataFrame modificado para verificar los cambios\n",
        "df_wine.head()\n"
      ]
    },
    {
      "cell_type": "markdown",
      "metadata": {
        "id": "a29oX2UmYL_n"
      },
      "source": [
        "**Ejercicio 5.** Comprueba el número de ocurrencias por cada una de las clases que queremos predecir."
      ]
    },
    {
      "cell_type": "markdown",
      "source": [],
      "metadata": {
        "id": "0az_QiiGYs09"
      }
    },
    {
      "cell_type": "code",
      "execution_count": null,
      "metadata": {
        "id": "S-kQhrmxYL_o"
      },
      "outputs": [],
      "source": [
        "# Contar el número de ocurrencias de cada una de las clases en la columna target\n",
        "ocurrencias_clases = df_wine['target'].value_counts()\n",
        "\n",
        "# Mostrar los resultados\n",
        "ocurrencias_clases\n"
      ]
    },
    {
      "cell_type": "markdown",
      "metadata": {
        "id": "0tAR8masYL_o"
      },
      "source": [
        "**Ejercicio 6.** Balancea el dataset teniendo en cuenta la variable target. Deberá haber el mismo número de ocurrencias de cada uno de los valores de target, para ello deberás añadir nuevas a la que menos tenga y quitar a la que más tenga."
      ]
    },
    {
      "cell_type": "code",
      "execution_count": null,
      "metadata": {
        "id": "GtgyWlmAYL_o"
      },
      "outputs": [],
      "source": [
        "from sklearn.utils import resample\n",
        "\n",
        "# Contar el número de ocurrencias de cada clase\n",
        "ocurrencias_clases = df_wine['target'].value_counts()\n",
        "max_ocurrencias = ocurrencias_clases.max()\n",
        "\n",
        "# Crear un DataFrame vacío para almacenar las clases balanceadas\n",
        "df_wine_balanceado = pd.DataFrame()\n",
        "\n",
        "# Balancear cada clase\n",
        "for clase in ocurrencias_clases.index:\n",
        "    clase_df = df_wine[df_wine['target'] == clase]\n",
        "    if len(clase_df) < max_ocurrencias:\n",
        "        # Aumentar la clase minoritaria\n",
        "        clase_df_balanceada = resample(clase_df, replace=True, n_samples=max_ocurrencias, random_state=42)\n",
        "    else:\n",
        "        # Reducir la clase mayoritaria\n",
        "        clase_df_balanceada = clase_df.sample(n=max_ocurrencias, random_state=42)\n",
        "\n",
        "    # Añadir al DataFrame balanceado\n",
        "    df_wine_balanceado = pd.concat([df_wine_balanceado, clase_df_balanceada])\n",
        "\n",
        "# Mostrar el número de ocurrencias de cada clase en el DataFrame balanceado\n",
        "df_wine_balanceado['target'].value_counts()\n"
      ]
    },
    {
      "cell_type": "markdown",
      "metadata": {
        "id": "BgjxbJrTYL_o"
      },
      "source": [
        "**Ejercicio 7.** Realiza una codificación one-hot encoding de la variable graduacion_flavanoids"
      ]
    },
    {
      "cell_type": "code",
      "execution_count": null,
      "metadata": {
        "id": "f4wbULBPUsgJ"
      },
      "outputs": [],
      "source": [
        "from sklearn.preprocessing import OneHotEncoder\n",
        "\n",
        "# Inicializar OneHotEncoder\n",
        "encoder = OneHotEncoder(sparse=False)\n",
        "\n",
        "# Realizar la codificación one-hot encoding de la variable graduacion_flavanoids\n",
        "graduacion_encoded = encoder.fit_transform(df_wine_balanceado[['graduacion_flavanoids']])\n",
        "\n",
        "# Crear un DataFrame con las nuevas columnas codificadas\n",
        "graduacion_encoded_df = pd.DataFrame(graduacion_encoded, columns=encoder.get_feature_names_out(['graduacion_flavanoids']))\n",
        "\n",
        "# Combinar el DataFrame original sin la columna graduacion_flavanoids con el DataFrame codificado\n",
        "df_wine_one_hot = pd.concat([df_wine_balanceado.drop(columns=['graduacion_flavanoids']), graduacion_encoded_df], axis=1)\n",
        "\n",
        "# Mostrar las primeras filas del DataFrame para verificar el resultado\n",
        "df_wine_one_hot.head()\n"
      ]
    },
    {
      "cell_type": "markdown",
      "metadata": {
        "id": "QvlBWrpxfNZn"
      },
      "source": [
        "**Ejercicio 8.** Aplica un filtro para eliminar aquellas ocurrencias en las que 'bajo', 'medio' y 'alto' es igual a 0 o 'bajo', 'medio' y 'alto' es igual a 1. **OJO. no debería haber ninguna.**"
      ]
    },
    {
      "cell_type": "code",
      "execution_count": null,
      "metadata": {
        "id": "uj5dYnW7fRDl"
      },
      "outputs": [],
      "source": [
        "# Verificar que no haya ocurrencias donde todas las columnas one-hot encoding sean 0 o 1\n",
        "condicion_a_eliminar = (\n",
        "    (df_wine_one_hot['graduacion_flavanoids_bajo'] == 0) &\n",
        "    (df_wine_one_hot['graduacion_flavanoids_medio'] == 0) &\n",
        "    (df_wine_one_hot['graduacion_flavanoids_alto'] == 0)\n",
        ") | (\n",
        "    (df_wine_one_hot['graduacion_flavanoids_bajo'] == 1) &\n",
        "    (df_wine_one_hot['graduacion_flavanoids_medio'] == 1) &\n",
        "    (df_wine_one_hot['graduacion_flavanoids_alto'] == 1)\n",
        ")\n",
        "\n",
        "# Aplicar el filtro para eliminar las ocurrencias no deseadas\n",
        "df_wine_filtrado = df_wine_one_hot[~condicion_a_eliminar]\n",
        "\n",
        "# Mostrar las primeras filas del DataFrame filtrado para verificar el resultado\n",
        "df_wine_filtrado.head()\n",
        "\n",
        "# Verificar si se han eliminado ocurrencias\n",
        "eliminadas = df_wine_one_hot.shape[0] - df_wine_filtrado.shape[0]\n",
        "print(f\"Número de ocurrencias eliminadas: {eliminadas}\")\n"
      ]
    },
    {
      "cell_type": "markdown",
      "metadata": {
        "id": "ep56GLk3f_oS"
      },
      "source": [
        "**Ejercicio 9.** Muestra qué variables categóricas y numéricas hay."
      ]
    },
    {
      "cell_type": "code",
      "execution_count": null,
      "metadata": {
        "id": "YUqZjS8pgJpa"
      },
      "outputs": [],
      "source": [
        "# Identificar las variables categóricas y numéricas\n",
        "variables_categoricas = df_wine_filtrado.select_dtypes(include=['object', 'category', 'bool']).columns.tolist()\n",
        "variables_numericas = df_wine_filtrado.select_dtypes(include=['number']).columns.tolist()\n",
        "\n",
        "# Mostrar las variables categóricas y numéricas\n",
        "print(\"Variables categóricas:\", variables_categoricas)\n",
        "print(\"Variables numéricas:\", variables_numericas)\n"
      ]
    },
    {
      "cell_type": "markdown",
      "metadata": {
        "id": "TSVTvVekYL_p"
      },
      "source": [
        "**Ejercicio 10.** Crea una función que convierta todas las variables categóricas en numéricas aplicando un mapeo. Dicha función devolverá el dataset modificado. Utiliza LabelEncoder."
      ]
    },
    {
      "cell_type": "code",
      "execution_count": null,
      "metadata": {
        "id": "OsGqhpitYL_p"
      },
      "outputs": [],
      "source": [
        "from sklearn.preprocessing import LabelEncoder\n",
        "\n",
        "def convertir_categoricas_a_numericas(df):\n",
        "    # Crear una copia del DataFrame para no modificar el original\n",
        "    df_modificado = df.copy()\n",
        "\n",
        "    # Identificar las variables categóricas\n",
        "    variables_categoricas = df_modificado.select_dtypes(include=['object', 'category', 'bool']).columns.tolist()\n",
        "\n",
        "    # Inicializar el LabelEncoder\n",
        "    label_encoder = LabelEncoder()\n",
        "\n",
        "    # Convertir cada variable categórica en numérica\n",
        "    for columna in variables_categoricas:\n",
        "        df_modificado[columna] = label_encoder.fit_transform(df_modificado[columna])\n",
        "\n",
        "    return df_modificado\n",
        "\n",
        "# Aplicar la función al DataFrame filtrado\n",
        "df_wine_numerico = convertir_categoricas_a_numericas(df_wine_filtrado)\n",
        "\n",
        "# Mostrar las primeras filas del DataFrame modificado\n",
        "df_wine_numerico.head()\n"
      ]
    },
    {
      "cell_type": "code",
      "source": [],
      "metadata": {
        "id": "-tgg9PYeZ12J"
      },
      "execution_count": null,
      "outputs": []
    },
    {
      "cell_type": "markdown",
      "metadata": {
        "id": "sePcywd-lL5-"
      },
      "source": [
        "**Ejercicio 11.** Normaliza el dataset al completo excepto la columna target."
      ]
    },
    {
      "cell_type": "code",
      "execution_count": null,
      "metadata": {
        "id": "6y6z2strQL6n"
      },
      "outputs": [],
      "source": []
    },
    {
      "cell_type": "markdown",
      "metadata": {
        "id": "MGCyLbaHYL_p"
      },
      "source": [
        "**Ejercicio 12.** Divide el dataset en tres grupos. El primer grupo será de entrenamiento y tendrá el 80% de los datos. El segundo grupo será de validación y tendrá el 10% de los datos. El tercer grupo será de test y tendrá el 10% de los datos."
      ]
    },
    {
      "cell_type": "code",
      "execution_count": null,
      "metadata": {
        "id": "iGjcD90rYL_p"
      },
      "outputs": [],
      "source": []
    }
  ],
  "metadata": {
    "colab": {
      "collapsed_sections": [
        "-wVJm3ZycO5X",
        "QvlBWrpxfNZn",
        "0akOwJPPfjMd",
        "trQrtkSDfz9R",
        "ep56GLk3f_oS",
        "9ftSVtzug0Fp"
      ],
      "provenance": [],
      "toc_visible": true
    },
    "kernelspec": {
      "display_name": "Python 3 (ipykernel)",
      "language": "python",
      "name": "python3"
    },
    "language_info": {
      "codemirror_mode": {
        "name": "ipython",
        "version": 3
      },
      "file_extension": ".py",
      "mimetype": "text/x-python",
      "name": "python",
      "nbconvert_exporter": "python",
      "pygments_lexer": "ipython3",
      "version": "3.10.9"
    }
  },
  "nbformat": 4,
  "nbformat_minor": 0
}