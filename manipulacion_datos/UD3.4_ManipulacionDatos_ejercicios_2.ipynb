{
 "cells": [
  {
   "cell_type": "markdown",
   "metadata": {
    "id": "QBmeRj3pi_kb"
   },
   "source": [
    "# Manipulación de datos (preprocesamiento)\n"
   ]
  },
  {
   "cell_type": "code",
   "execution_count": 40,
   "metadata": {
    "id": "Y1GTGVT6S8S1"
   },
   "outputs": [],
   "source": [
    "# Libraries to handle data\n",
    "import matplotlib.pyplot as plt\n",
    "import pandas as pd\n",
    "import numpy as np\n",
    "import seaborn as sns\n",
    "\n",
    "from sklearn.datasets import load_wine\n",
    "df_wine = load_wine(as_frame=True).frame"
   ]
  },
  {
   "cell_type": "markdown",
   "metadata": {
    "id": "mIjx59KSTN0o"
   },
   "source": [
    "**Ejercicio 1.** Visualiza la primera fila del dataset."
   ]
  },
  {
   "cell_type": "code",
   "execution_count": null,
   "metadata": {
    "colab": {
     "base_uri": "https://localhost:8080/",
     "height": 282
    },
    "id": "btICyqiWc8kY",
    "outputId": "94206444-dc82-45a7-8d5d-b0a8dd9c378c"
   },
   "outputs": [],
   "source": []
  },
  {
   "cell_type": "markdown",
   "metadata": {},
   "source": [
    "**Ejercicio 2.** Muestra información general como el número de filas, el número de columnas, el nombre de las columnas y el tipo de dato de cada columna"
   ]
  },
  {
   "cell_type": "code",
   "execution_count": null,
   "metadata": {
    "colab": {
     "base_uri": "https://localhost:8080/"
    },
    "id": "3SsXGiIgTOlw",
    "outputId": "329476ce-b362-4dc1-a2e4-9ce53c53e50d"
   },
   "outputs": [],
   "source": []
  },
  {
   "cell_type": "markdown",
   "metadata": {},
   "source": [
    "**Ejercicio 3.** En la columna target, el número 0 corresponde a la etiqueta 'clase1', el 1 a 'clase2' y el 2 a 'clase3'. Modifica el dataset para que aparezcan los nombres en vez de los números. "
   ]
  },
  {
   "cell_type": "code",
   "execution_count": null,
   "metadata": {},
   "outputs": [],
   "source": []
  },
  {
   "cell_type": "markdown",
   "metadata": {},
   "source": [
    "**Ejercicio 4.** Elimina la columna flavanoids y en su lugar crea una nueva que se llame graduacion_flavanoids. Esta nueva columna deberá tener como valores alto, medio y bajo dependiendo del valor de la columna flavanoids. "
   ]
  },
  {
   "cell_type": "code",
   "execution_count": 20,
   "metadata": {},
   "outputs": [],
   "source": []
  },
  {
   "cell_type": "markdown",
   "metadata": {},
   "source": [
    "**Ejercicio 5.** Comprueba el número de ocurrencias por cada una de las clases que queremos predecir. "
   ]
  },
  {
   "cell_type": "code",
   "execution_count": null,
   "metadata": {},
   "outputs": [],
   "source": []
  },
  {
   "cell_type": "markdown",
   "metadata": {},
   "source": [
    "**Ejercicio 6.** Balancea el dataset teniendo en cuenta la variable target. Deberá haber el mismo número de ocurrencias de cada uno de los valores de target, para ello deberás añadir nuevas a la que menos tenga y quitar a la que más tenga. "
   ]
  },
  {
   "cell_type": "code",
   "execution_count": 23,
   "metadata": {},
   "outputs": [],
   "source": []
  },
  {
   "cell_type": "markdown",
   "metadata": {},
   "source": [
    "**Ejercicio 7.** Realiza una codificación one-hot encoding de la variable graduacion_flavanoids "
   ]
  },
  {
   "cell_type": "code",
   "execution_count": null,
   "metadata": {
    "colab": {
     "base_uri": "https://localhost:8080/",
     "height": 314
    },
    "id": "f4wbULBPUsgJ",
    "outputId": "4404f351-c86f-4012-bccf-3bcaf530b917"
   },
   "outputs": [],
   "source": []
  },
  {
   "cell_type": "markdown",
   "metadata": {
    "id": "QvlBWrpxfNZn"
   },
   "source": [
    "**Ejercicio 8.** Aplica un filtro para eliminar aquellas ocurrencias en las que 'bajo', 'medio' y 'alto' es igual a 0 o 'bajo', 'medio' y 'alto' es igual a 1. **OJO. no debería haber ninguna.**"
   ]
  },
  {
   "cell_type": "code",
   "execution_count": 26,
   "metadata": {
    "id": "uj5dYnW7fRDl"
   },
   "outputs": [],
   "source": []
  },
  {
   "cell_type": "markdown",
   "metadata": {
    "id": "ep56GLk3f_oS"
   },
   "source": [
    "**Ejercicio 9.** Muestra qué variables categóricas y numéricas hay."
   ]
  },
  {
   "cell_type": "code",
   "execution_count": null,
   "metadata": {
    "colab": {
     "base_uri": "https://localhost:8080/"
    },
    "id": "YUqZjS8pgJpa",
    "outputId": "c51bcd68-c5cf-42c0-922d-21e106500d75"
   },
   "outputs": [],
   "source": []
  },
  {
   "cell_type": "markdown",
   "metadata": {},
   "source": [
    "**Ejercicio 10.** Crea una función que convierta todas las variables categóricas en numéricas aplicando un mapeo. Dicha función devolverá el dataset modificado. Utiliza LabelEncoder. "
   ]
  },
  {
   "cell_type": "code",
   "execution_count": 28,
   "metadata": {},
   "outputs": [],
   "source": []
  },
  {
   "cell_type": "markdown",
   "metadata": {
    "id": "sePcywd-lL5-"
   },
   "source": [
    "**Ejercicio 11.** Normaliza el dataset al completo excepto la columna target."
   ]
  },
  {
   "cell_type": "code",
   "execution_count": 41,
   "metadata": {
    "colab": {
     "base_uri": "https://localhost:8080/"
    },
    "id": "6y6z2strQL6n",
    "outputId": "28ddc75c-36a8-45fc-80b5-27b8744cdc46"
   },
   "outputs": [],
   "source": []
  },
  {
   "cell_type": "markdown",
   "metadata": {},
   "source": [
    "**Ejercicio 12.** Divide el dataset en tres grupos. El primer grupo será de entrenamiento y tendrá el 80% de los datos. El segundo grupo será de validación y tendrá el 10% de los datos. El tercer grupo será de test y tendrá el 10% de los datos."
   ]
  },
  {
   "cell_type": "code",
   "execution_count": 45,
   "metadata": {},
   "outputs": [],
   "source": []
  }
 ],
 "metadata": {
  "colab": {
   "collapsed_sections": [
    "-wVJm3ZycO5X",
    "QvlBWrpxfNZn",
    "0akOwJPPfjMd",
    "trQrtkSDfz9R",
    "ep56GLk3f_oS",
    "9ftSVtzug0Fp"
   ],
   "provenance": [],
   "toc_visible": true
  },
  "kernelspec": {
   "display_name": "Python 3 (ipykernel)",
   "language": "python",
   "name": "python3"
  },
  "language_info": {
   "codemirror_mode": {
    "name": "ipython",
    "version": 3
   },
   "file_extension": ".py",
   "mimetype": "text/x-python",
   "name": "python",
   "nbconvert_exporter": "python",
   "pygments_lexer": "ipython3",
   "version": "3.10.9"
  }
 },
 "nbformat": 4,
 "nbformat_minor": 1
}
