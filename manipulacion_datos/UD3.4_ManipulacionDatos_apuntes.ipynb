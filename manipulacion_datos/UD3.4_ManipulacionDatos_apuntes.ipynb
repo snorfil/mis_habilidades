{
 "cells": [
  {
   "cell_type": "markdown",
   "metadata": {
    "id": "QBmeRj3pi_kb"
   },
   "source": [
    "# Manipulación de datos (preprocesamiento)\n",
    "\n",
    "## Descargar dataset y vista general\n",
    "\n",
    "Descargaremos un dataset con el fin de posteriormente mostrar operaciones de manipulación de datos sobre el. En este caso el dataset se corresponde con datos sobre el cancer de mama, obtenido de la propia librería de scikit-learn.\n",
    "\n",
    "Para más información, puedes consultar la documentación del dataset en:\n",
    "\n",
    "https://scikit-learn.org/stable/modules/generated/sklearn.datasets.load_breast_cancer.html#sklearn.datasets.load_breast_cancer"
   ]
  },
  {
   "cell_type": "code",
   "execution_count": 1,
   "metadata": {
    "id": "Y1GTGVT6S8S1"
   },
   "outputs": [],
   "source": [
    "# Libraries to handle data\n",
    "import matplotlib.pyplot as plt\n",
    "import pandas as pd\n",
    "import numpy as np\n",
    "import seaborn as sns\n",
    "\n",
    "import io\n",
    "from sklearn.utils import shuffle\n",
    "\n",
    "from sklearn.datasets import load_breast_cancer\n",
    "df_train = load_breast_cancer(as_frame=True).frame"
   ]
  },
  {
   "cell_type": "markdown",
   "metadata": {
    "id": "mIjx59KSTN0o"
   },
   "source": [
    "Ahora, preparamos los datos para construir nuestro modelo. Lo primero que tenemos que hacer es visualizar los datos y realizar las transformaciones pertinentes en base a un estudio previo del dataset."
   ]
  },
  {
   "cell_type": "code",
   "execution_count": 2,
   "metadata": {
    "colab": {
     "base_uri": "https://localhost:8080/",
     "height": 282
    },
    "id": "btICyqiWc8kY",
    "outputId": "94206444-dc82-45a7-8d5d-b0a8dd9c378c"
   },
   "outputs": [
    {
     "data": {
      "text/html": [
       "<div>\n",
       "<style scoped>\n",
       "    .dataframe tbody tr th:only-of-type {\n",
       "        vertical-align: middle;\n",
       "    }\n",
       "\n",
       "    .dataframe tbody tr th {\n",
       "        vertical-align: top;\n",
       "    }\n",
       "\n",
       "    .dataframe thead th {\n",
       "        text-align: right;\n",
       "    }\n",
       "</style>\n",
       "<table border=\"1\" class=\"dataframe\">\n",
       "  <thead>\n",
       "    <tr style=\"text-align: right;\">\n",
       "      <th></th>\n",
       "      <th>mean radius</th>\n",
       "      <th>mean texture</th>\n",
       "      <th>mean perimeter</th>\n",
       "      <th>mean area</th>\n",
       "      <th>mean smoothness</th>\n",
       "      <th>mean compactness</th>\n",
       "      <th>mean concavity</th>\n",
       "      <th>mean concave points</th>\n",
       "      <th>mean symmetry</th>\n",
       "      <th>mean fractal dimension</th>\n",
       "      <th>...</th>\n",
       "      <th>worst texture</th>\n",
       "      <th>worst perimeter</th>\n",
       "      <th>worst area</th>\n",
       "      <th>worst smoothness</th>\n",
       "      <th>worst compactness</th>\n",
       "      <th>worst concavity</th>\n",
       "      <th>worst concave points</th>\n",
       "      <th>worst symmetry</th>\n",
       "      <th>worst fractal dimension</th>\n",
       "      <th>target</th>\n",
       "    </tr>\n",
       "  </thead>\n",
       "  <tbody>\n",
       "    <tr>\n",
       "      <th>0</th>\n",
       "      <td>17.99</td>\n",
       "      <td>10.38</td>\n",
       "      <td>122.80</td>\n",
       "      <td>1001.0</td>\n",
       "      <td>0.11840</td>\n",
       "      <td>0.27760</td>\n",
       "      <td>0.3001</td>\n",
       "      <td>0.14710</td>\n",
       "      <td>0.2419</td>\n",
       "      <td>0.07871</td>\n",
       "      <td>...</td>\n",
       "      <td>17.33</td>\n",
       "      <td>184.60</td>\n",
       "      <td>2019.0</td>\n",
       "      <td>0.1622</td>\n",
       "      <td>0.6656</td>\n",
       "      <td>0.7119</td>\n",
       "      <td>0.2654</td>\n",
       "      <td>0.4601</td>\n",
       "      <td>0.11890</td>\n",
       "      <td>0</td>\n",
       "    </tr>\n",
       "    <tr>\n",
       "      <th>1</th>\n",
       "      <td>20.57</td>\n",
       "      <td>17.77</td>\n",
       "      <td>132.90</td>\n",
       "      <td>1326.0</td>\n",
       "      <td>0.08474</td>\n",
       "      <td>0.07864</td>\n",
       "      <td>0.0869</td>\n",
       "      <td>0.07017</td>\n",
       "      <td>0.1812</td>\n",
       "      <td>0.05667</td>\n",
       "      <td>...</td>\n",
       "      <td>23.41</td>\n",
       "      <td>158.80</td>\n",
       "      <td>1956.0</td>\n",
       "      <td>0.1238</td>\n",
       "      <td>0.1866</td>\n",
       "      <td>0.2416</td>\n",
       "      <td>0.1860</td>\n",
       "      <td>0.2750</td>\n",
       "      <td>0.08902</td>\n",
       "      <td>0</td>\n",
       "    </tr>\n",
       "    <tr>\n",
       "      <th>2</th>\n",
       "      <td>19.69</td>\n",
       "      <td>21.25</td>\n",
       "      <td>130.00</td>\n",
       "      <td>1203.0</td>\n",
       "      <td>0.10960</td>\n",
       "      <td>0.15990</td>\n",
       "      <td>0.1974</td>\n",
       "      <td>0.12790</td>\n",
       "      <td>0.2069</td>\n",
       "      <td>0.05999</td>\n",
       "      <td>...</td>\n",
       "      <td>25.53</td>\n",
       "      <td>152.50</td>\n",
       "      <td>1709.0</td>\n",
       "      <td>0.1444</td>\n",
       "      <td>0.4245</td>\n",
       "      <td>0.4504</td>\n",
       "      <td>0.2430</td>\n",
       "      <td>0.3613</td>\n",
       "      <td>0.08758</td>\n",
       "      <td>0</td>\n",
       "    </tr>\n",
       "    <tr>\n",
       "      <th>3</th>\n",
       "      <td>11.42</td>\n",
       "      <td>20.38</td>\n",
       "      <td>77.58</td>\n",
       "      <td>386.1</td>\n",
       "      <td>0.14250</td>\n",
       "      <td>0.28390</td>\n",
       "      <td>0.2414</td>\n",
       "      <td>0.10520</td>\n",
       "      <td>0.2597</td>\n",
       "      <td>0.09744</td>\n",
       "      <td>...</td>\n",
       "      <td>26.50</td>\n",
       "      <td>98.87</td>\n",
       "      <td>567.7</td>\n",
       "      <td>0.2098</td>\n",
       "      <td>0.8663</td>\n",
       "      <td>0.6869</td>\n",
       "      <td>0.2575</td>\n",
       "      <td>0.6638</td>\n",
       "      <td>0.17300</td>\n",
       "      <td>0</td>\n",
       "    </tr>\n",
       "    <tr>\n",
       "      <th>4</th>\n",
       "      <td>20.29</td>\n",
       "      <td>14.34</td>\n",
       "      <td>135.10</td>\n",
       "      <td>1297.0</td>\n",
       "      <td>0.10030</td>\n",
       "      <td>0.13280</td>\n",
       "      <td>0.1980</td>\n",
       "      <td>0.10430</td>\n",
       "      <td>0.1809</td>\n",
       "      <td>0.05883</td>\n",
       "      <td>...</td>\n",
       "      <td>16.67</td>\n",
       "      <td>152.20</td>\n",
       "      <td>1575.0</td>\n",
       "      <td>0.1374</td>\n",
       "      <td>0.2050</td>\n",
       "      <td>0.4000</td>\n",
       "      <td>0.1625</td>\n",
       "      <td>0.2364</td>\n",
       "      <td>0.07678</td>\n",
       "      <td>0</td>\n",
       "    </tr>\n",
       "  </tbody>\n",
       "</table>\n",
       "<p>5 rows × 31 columns</p>\n",
       "</div>"
      ],
      "text/plain": [
       "   mean radius  mean texture  mean perimeter  mean area  mean smoothness  \\\n",
       "0        17.99         10.38          122.80     1001.0          0.11840   \n",
       "1        20.57         17.77          132.90     1326.0          0.08474   \n",
       "2        19.69         21.25          130.00     1203.0          0.10960   \n",
       "3        11.42         20.38           77.58      386.1          0.14250   \n",
       "4        20.29         14.34          135.10     1297.0          0.10030   \n",
       "\n",
       "   mean compactness  mean concavity  mean concave points  mean symmetry  \\\n",
       "0           0.27760          0.3001              0.14710         0.2419   \n",
       "1           0.07864          0.0869              0.07017         0.1812   \n",
       "2           0.15990          0.1974              0.12790         0.2069   \n",
       "3           0.28390          0.2414              0.10520         0.2597   \n",
       "4           0.13280          0.1980              0.10430         0.1809   \n",
       "\n",
       "   mean fractal dimension  ...  worst texture  worst perimeter  worst area  \\\n",
       "0                 0.07871  ...          17.33           184.60      2019.0   \n",
       "1                 0.05667  ...          23.41           158.80      1956.0   \n",
       "2                 0.05999  ...          25.53           152.50      1709.0   \n",
       "3                 0.09744  ...          26.50            98.87       567.7   \n",
       "4                 0.05883  ...          16.67           152.20      1575.0   \n",
       "\n",
       "   worst smoothness  worst compactness  worst concavity  worst concave points  \\\n",
       "0            0.1622             0.6656           0.7119                0.2654   \n",
       "1            0.1238             0.1866           0.2416                0.1860   \n",
       "2            0.1444             0.4245           0.4504                0.2430   \n",
       "3            0.2098             0.8663           0.6869                0.2575   \n",
       "4            0.1374             0.2050           0.4000                0.1625   \n",
       "\n",
       "   worst symmetry  worst fractal dimension  target  \n",
       "0          0.4601                  0.11890       0  \n",
       "1          0.2750                  0.08902       0  \n",
       "2          0.3613                  0.08758       0  \n",
       "3          0.6638                  0.17300       0  \n",
       "4          0.2364                  0.07678       0  \n",
       "\n",
       "[5 rows x 31 columns]"
      ]
     },
     "execution_count": 2,
     "metadata": {},
     "output_type": "execute_result"
    }
   ],
   "source": [
    "df_train.head()"
   ]
  },
  {
   "cell_type": "code",
   "execution_count": 3,
   "metadata": {
    "colab": {
     "base_uri": "https://localhost:8080/"
    },
    "id": "3SsXGiIgTOlw",
    "outputId": "329476ce-b362-4dc1-a2e4-9ce53c53e50d"
   },
   "outputs": [
    {
     "name": "stdout",
     "output_type": "stream",
     "text": [
      "<class 'pandas.core.frame.DataFrame'>\n",
      "RangeIndex: 569 entries, 0 to 568\n",
      "Data columns (total 31 columns):\n",
      " #   Column                   Non-Null Count  Dtype  \n",
      "---  ------                   --------------  -----  \n",
      " 0   mean radius              569 non-null    float64\n",
      " 1   mean texture             569 non-null    float64\n",
      " 2   mean perimeter           569 non-null    float64\n",
      " 3   mean area                569 non-null    float64\n",
      " 4   mean smoothness          569 non-null    float64\n",
      " 5   mean compactness         569 non-null    float64\n",
      " 6   mean concavity           569 non-null    float64\n",
      " 7   mean concave points      569 non-null    float64\n",
      " 8   mean symmetry            569 non-null    float64\n",
      " 9   mean fractal dimension   569 non-null    float64\n",
      " 10  radius error             569 non-null    float64\n",
      " 11  texture error            569 non-null    float64\n",
      " 12  perimeter error          569 non-null    float64\n",
      " 13  area error               569 non-null    float64\n",
      " 14  smoothness error         569 non-null    float64\n",
      " 15  compactness error        569 non-null    float64\n",
      " 16  concavity error          569 non-null    float64\n",
      " 17  concave points error     569 non-null    float64\n",
      " 18  symmetry error           569 non-null    float64\n",
      " 19  fractal dimension error  569 non-null    float64\n",
      " 20  worst radius             569 non-null    float64\n",
      " 21  worst texture            569 non-null    float64\n",
      " 22  worst perimeter          569 non-null    float64\n",
      " 23  worst area               569 non-null    float64\n",
      " 24  worst smoothness         569 non-null    float64\n",
      " 25  worst compactness        569 non-null    float64\n",
      " 26  worst concavity          569 non-null    float64\n",
      " 27  worst concave points     569 non-null    float64\n",
      " 28  worst symmetry           569 non-null    float64\n",
      " 29  worst fractal dimension  569 non-null    float64\n",
      " 30  target                   569 non-null    int64  \n",
      "dtypes: float64(30), int64(1)\n",
      "memory usage: 137.9 KB\n"
     ]
    }
   ],
   "source": [
    "df_train.info()"
   ]
  },
  {
   "cell_type": "markdown",
   "metadata": {
    "id": "viADwrN8_RMb"
   },
   "source": [
    "## 1. Tratamiento de datos categóricos\n",
    "\n",
    "En esta sección haremos uso de ejemplos sencillos pero eficaces para ver cómo tratar el tipo de datos categóricos en las bibliotecas de cálculo numérico.\n",
    "\n",
    "Cuando hablamos de datos categóricos, tenemos que distinguir entre características ordinales y nominales.\n",
    "\n",
    "* Las características ordinales pueden entenderse como valores categóricos que pueden clasificarse u ordenarse. Por ejemplo, la talla de las camisetas sería un rasgo ordinal, porque podemos definir un orden: XL > L > M.\n",
    "\n",
    "* Las características nominales no implican ningún orden; por seguir con el ejemplo anterior, podríamos pensar que el color de la camiseta es un rasgo nominal, ya que normalmente no tiene sentido decir que, por ejemplo, el color rojo es mayor que el azul.\n",
    "\n"
   ]
  },
  {
   "cell_type": "markdown",
   "metadata": {
    "id": "M3PEYugu_RMb"
   },
   "source": [
    "### Codificación de datos categóricos con Pandas\n",
    "\n",
    "Antes de nada, crearemos un DataFrame para ilustrar el problema y las diferentes soluciones."
   ]
  },
  {
   "cell_type": "code",
   "execution_count": 21,
   "metadata": {
    "id": "nxm5hygI_RMb",
    "outputId": "43b46ae0-de98-4832-8a72-532303ee7519"
   },
   "outputs": [
    {
     "data": {
      "text/html": [
       "<div>\n",
       "<style scoped>\n",
       "    .dataframe tbody tr th:only-of-type {\n",
       "        vertical-align: middle;\n",
       "    }\n",
       "\n",
       "    .dataframe tbody tr th {\n",
       "        vertical-align: top;\n",
       "    }\n",
       "\n",
       "    .dataframe thead th {\n",
       "        text-align: right;\n",
       "    }\n",
       "</style>\n",
       "<table border=\"1\" class=\"dataframe\">\n",
       "  <thead>\n",
       "    <tr style=\"text-align: right;\">\n",
       "      <th></th>\n",
       "      <th>color</th>\n",
       "      <th>size</th>\n",
       "      <th>price</th>\n",
       "      <th>classlabel</th>\n",
       "    </tr>\n",
       "  </thead>\n",
       "  <tbody>\n",
       "    <tr>\n",
       "      <th>0</th>\n",
       "      <td>green</td>\n",
       "      <td>M</td>\n",
       "      <td>10.1</td>\n",
       "      <td>class2</td>\n",
       "    </tr>\n",
       "    <tr>\n",
       "      <th>1</th>\n",
       "      <td>red</td>\n",
       "      <td>L</td>\n",
       "      <td>13.5</td>\n",
       "      <td>class1</td>\n",
       "    </tr>\n",
       "    <tr>\n",
       "      <th>2</th>\n",
       "      <td>blue</td>\n",
       "      <td>XL</td>\n",
       "      <td>1.9</td>\n",
       "      <td>class2</td>\n",
       "    </tr>\n",
       "    <tr>\n",
       "      <th>3</th>\n",
       "      <td>red</td>\n",
       "      <td>XL</td>\n",
       "      <td>18.7</td>\n",
       "      <td>class1</td>\n",
       "    </tr>\n",
       "    <tr>\n",
       "      <th>4</th>\n",
       "      <td>blue</td>\n",
       "      <td>L</td>\n",
       "      <td>15.3</td>\n",
       "      <td>class1</td>\n",
       "    </tr>\n",
       "    <tr>\n",
       "      <th>5</th>\n",
       "      <td>green</td>\n",
       "      <td>XL</td>\n",
       "      <td>20.0</td>\n",
       "      <td>class1</td>\n",
       "    </tr>\n",
       "    <tr>\n",
       "      <th>6</th>\n",
       "      <td>blue</td>\n",
       "      <td>M</td>\n",
       "      <td>15.3</td>\n",
       "      <td>class2</td>\n",
       "    </tr>\n",
       "    <tr>\n",
       "      <th>7</th>\n",
       "      <td>red</td>\n",
       "      <td>S</td>\n",
       "      <td>31.9</td>\n",
       "      <td>class2</td>\n",
       "    </tr>\n",
       "    <tr>\n",
       "      <th>8</th>\n",
       "      <td>green</td>\n",
       "      <td>L</td>\n",
       "      <td>22.9</td>\n",
       "      <td>class1</td>\n",
       "    </tr>\n",
       "    <tr>\n",
       "      <th>9</th>\n",
       "      <td>blue</td>\n",
       "      <td>M</td>\n",
       "      <td>11.1</td>\n",
       "      <td>class2</td>\n",
       "    </tr>\n",
       "    <tr>\n",
       "      <th>10</th>\n",
       "      <td>red</td>\n",
       "      <td>M</td>\n",
       "      <td>23.2</td>\n",
       "      <td>class1</td>\n",
       "    </tr>\n",
       "  </tbody>\n",
       "</table>\n",
       "</div>"
      ],
      "text/plain": [
       "    color size  price classlabel\n",
       "0   green    M   10.1     class2\n",
       "1     red    L   13.5     class1\n",
       "2    blue   XL    1.9     class2\n",
       "3     red   XL   18.7     class1\n",
       "4    blue    L   15.3     class1\n",
       "5   green   XL   20.0     class1\n",
       "6    blue    M   15.3     class2\n",
       "7     red    S   31.9     class2\n",
       "8   green    L   22.9     class1\n",
       "9    blue    M   11.1     class2\n",
       "10    red    M   23.2     class1"
      ]
     },
     "execution_count": 21,
     "metadata": {},
     "output_type": "execute_result"
    }
   ],
   "source": [
    "import pandas as pd\n",
    "\n",
    "df = pd.DataFrame([\n",
    "    ['green', 'M', 10.1, 'class2'],\n",
    "    ['red', 'L', 13.5, 'class1'],\n",
    "    ['blue', 'XL', 1.9, 'class2'],\n",
    "    ['red', 'XL', 18.7, 'class1'],\n",
    "    ['blue', 'L', 15.3, 'class1'],\n",
    "    ['green', 'XL', 20.0, 'class1'],\n",
    "    ['blue', 'M', 15.3, 'class2'],\n",
    "    ['red', 'S', 31.9, 'class2'],\n",
    "    ['green', 'L', 22.9, 'class1'],\n",
    "    ['blue', 'M', 11.1, 'class2'],\n",
    "    ['red', 'M', 23.2, 'class1'],\n",
    "\n",
    "\n",
    "])\n",
    "\n",
    "df.columns = ['color', 'size', 'price', 'classlabel']\n",
    "\n",
    "df"
   ]
  },
  {
   "cell_type": "markdown",
   "metadata": {
    "id": "UEPEfehg_RMc"
   },
   "source": [
    "Como se puede ver en el anterior DataFrame:\n",
    "\n",
    "* *color* es una característica nominal\n",
    "* *size* es una característica ordinal\n",
    "* *price* es una característica numérica"
   ]
  },
  {
   "cell_type": "markdown",
   "metadata": {
    "id": "bekPw-xs_RMc"
   },
   "source": [
    "#### Codificación de características ordinales\n",
    "\n",
    "Para asegurarnos de que los algoritmos de aprendizaje interpretan correctamente las características ordinales, tenemos que convertir los valores categóricos de cadena en enteros. Para ello lo haremos de forma manual definiendo un mapeo."
   ]
  },
  {
   "cell_type": "code",
   "execution_count": 16,
   "metadata": {
    "id": "Fpfq4pXn_RMc",
    "outputId": "d25f2cb9-a26a-452f-95e8-f86138bf57dc"
   },
   "outputs": [
    {
     "data": {
      "text/html": [
       "<div>\n",
       "<style scoped>\n",
       "    .dataframe tbody tr th:only-of-type {\n",
       "        vertical-align: middle;\n",
       "    }\n",
       "\n",
       "    .dataframe tbody tr th {\n",
       "        vertical-align: top;\n",
       "    }\n",
       "\n",
       "    .dataframe thead th {\n",
       "        text-align: right;\n",
       "    }\n",
       "</style>\n",
       "<table border=\"1\" class=\"dataframe\">\n",
       "  <thead>\n",
       "    <tr style=\"text-align: right;\">\n",
       "      <th></th>\n",
       "      <th>color</th>\n",
       "      <th>size</th>\n",
       "      <th>price</th>\n",
       "      <th>classlabel</th>\n",
       "    </tr>\n",
       "  </thead>\n",
       "  <tbody>\n",
       "    <tr>\n",
       "      <th>0</th>\n",
       "      <td>green</td>\n",
       "      <td>1.0</td>\n",
       "      <td>10.1</td>\n",
       "      <td>class2</td>\n",
       "    </tr>\n",
       "    <tr>\n",
       "      <th>1</th>\n",
       "      <td>red</td>\n",
       "      <td>2.0</td>\n",
       "      <td>13.5</td>\n",
       "      <td>class1</td>\n",
       "    </tr>\n",
       "    <tr>\n",
       "      <th>2</th>\n",
       "      <td>blue</td>\n",
       "      <td>3.0</td>\n",
       "      <td>1.9</td>\n",
       "      <td>class2</td>\n",
       "    </tr>\n",
       "    <tr>\n",
       "      <th>3</th>\n",
       "      <td>red</td>\n",
       "      <td>3.0</td>\n",
       "      <td>18.7</td>\n",
       "      <td>class1</td>\n",
       "    </tr>\n",
       "    <tr>\n",
       "      <th>4</th>\n",
       "      <td>blue</td>\n",
       "      <td>2.0</td>\n",
       "      <td>15.3</td>\n",
       "      <td>class1</td>\n",
       "    </tr>\n",
       "    <tr>\n",
       "      <th>5</th>\n",
       "      <td>green</td>\n",
       "      <td>3.0</td>\n",
       "      <td>20.0</td>\n",
       "      <td>class1</td>\n",
       "    </tr>\n",
       "    <tr>\n",
       "      <th>6</th>\n",
       "      <td>blue</td>\n",
       "      <td>1.0</td>\n",
       "      <td>15.3</td>\n",
       "      <td>class2</td>\n",
       "    </tr>\n",
       "    <tr>\n",
       "      <th>7</th>\n",
       "      <td>red</td>\n",
       "      <td>NaN</td>\n",
       "      <td>31.9</td>\n",
       "      <td>class2</td>\n",
       "    </tr>\n",
       "    <tr>\n",
       "      <th>8</th>\n",
       "      <td>green</td>\n",
       "      <td>2.0</td>\n",
       "      <td>22.9</td>\n",
       "      <td>class1</td>\n",
       "    </tr>\n",
       "    <tr>\n",
       "      <th>9</th>\n",
       "      <td>blue</td>\n",
       "      <td>1.0</td>\n",
       "      <td>11.1</td>\n",
       "      <td>class2</td>\n",
       "    </tr>\n",
       "    <tr>\n",
       "      <th>10</th>\n",
       "      <td>red</td>\n",
       "      <td>1.0</td>\n",
       "      <td>23.2</td>\n",
       "      <td>class1</td>\n",
       "    </tr>\n",
       "  </tbody>\n",
       "</table>\n",
       "</div>"
      ],
      "text/plain": [
       "    color  size  price classlabel\n",
       "0   green   1.0   10.1     class2\n",
       "1     red   2.0   13.5     class1\n",
       "2    blue   3.0    1.9     class2\n",
       "3     red   3.0   18.7     class1\n",
       "4    blue   2.0   15.3     class1\n",
       "5   green   3.0   20.0     class1\n",
       "6    blue   1.0   15.3     class2\n",
       "7     red   NaN   31.9     class2\n",
       "8   green   2.0   22.9     class1\n",
       "9    blue   1.0   11.1     class2\n",
       "10    red   1.0   23.2     class1"
      ]
     },
     "execution_count": 16,
     "metadata": {},
     "output_type": "execute_result"
    }
   ],
   "source": [
    "size_mapping = {\n",
    "    'XL': 3,\n",
    "    'L': 2,\n",
    "    'M': 1\n",
    "}\n",
    "\n",
    "df['size'] = df['size'].map(size_mapping)\n",
    "df\n",
    "\n",
    "#¡OJO! hemos visto que la 7 aparece como NaN, ¿por qué?"
   ]
  },
  {
   "cell_type": "markdown",
   "metadata": {
    "id": "3Yx2QbbY7qqK"
   },
   "source": [
    "#### Codificación de etiquetas de clase\n",
    "\n",
    "Muchas bibliotecas de aprendizaje automático requieren que las etiquetas de clase se codifiquen como valores enteros. Aunque la mayoría de los estimadores para la clasificación en Scikit-learn convierten las etiquetas de clase en enteros interamente, se considera una buena práctica proporcionar las etiquetas de clase como matrices de enteros para evitar problemas técnicos.\n",
    "\n",
    "Para codificar etiquetas de clase, podemos utilizar un enfoque similar al mapeo de características ordinales visto anteriormente. Aunque debemos recordar que las etiquetas de clase no son ordinales, y que no importa qué numero entero asignemos a una eriqueta de cadena concreta. Por lo tanto, podemos enumerar las etiquetas de clase, empezando por el 0."
   ]
  },
  {
   "cell_type": "code",
   "execution_count": 17,
   "metadata": {},
   "outputs": [
    {
     "name": "stdout",
     "output_type": "stream",
     "text": [
      "{'class2': 0, 'class1': 1}\n"
     ]
    }
   ],
   "source": [
    "class_mapping = {}\n",
    "\n",
    "categorias = df['classlabel'].unique()\n",
    "\n",
    "for i in range(0,len(categorias)):\n",
    "    class_mapping[categorias[i]] = i\n",
    "print(class_mapping)\n",
    "\n"
   ]
  },
  {
   "cell_type": "markdown",
   "metadata": {
    "id": "q2EKlDSy_RMd"
   },
   "source": [
    "Posteriormente, se puede utilizar el diccionario para realizar el mapeo"
   ]
  },
  {
   "cell_type": "code",
   "execution_count": 18,
   "metadata": {
    "id": "_hiLvdJL_RMd",
    "outputId": "0da0d5fe-dc86-4678-d73b-540014c9e154"
   },
   "outputs": [
    {
     "data": {
      "text/html": [
       "<div>\n",
       "<style scoped>\n",
       "    .dataframe tbody tr th:only-of-type {\n",
       "        vertical-align: middle;\n",
       "    }\n",
       "\n",
       "    .dataframe tbody tr th {\n",
       "        vertical-align: top;\n",
       "    }\n",
       "\n",
       "    .dataframe thead th {\n",
       "        text-align: right;\n",
       "    }\n",
       "</style>\n",
       "<table border=\"1\" class=\"dataframe\">\n",
       "  <thead>\n",
       "    <tr style=\"text-align: right;\">\n",
       "      <th></th>\n",
       "      <th>color</th>\n",
       "      <th>size</th>\n",
       "      <th>price</th>\n",
       "      <th>classlabel</th>\n",
       "    </tr>\n",
       "  </thead>\n",
       "  <tbody>\n",
       "    <tr>\n",
       "      <th>0</th>\n",
       "      <td>green</td>\n",
       "      <td>1.0</td>\n",
       "      <td>10.1</td>\n",
       "      <td>0</td>\n",
       "    </tr>\n",
       "    <tr>\n",
       "      <th>1</th>\n",
       "      <td>red</td>\n",
       "      <td>2.0</td>\n",
       "      <td>13.5</td>\n",
       "      <td>1</td>\n",
       "    </tr>\n",
       "    <tr>\n",
       "      <th>2</th>\n",
       "      <td>blue</td>\n",
       "      <td>3.0</td>\n",
       "      <td>1.9</td>\n",
       "      <td>0</td>\n",
       "    </tr>\n",
       "    <tr>\n",
       "      <th>3</th>\n",
       "      <td>red</td>\n",
       "      <td>3.0</td>\n",
       "      <td>18.7</td>\n",
       "      <td>1</td>\n",
       "    </tr>\n",
       "    <tr>\n",
       "      <th>4</th>\n",
       "      <td>blue</td>\n",
       "      <td>2.0</td>\n",
       "      <td>15.3</td>\n",
       "      <td>1</td>\n",
       "    </tr>\n",
       "    <tr>\n",
       "      <th>5</th>\n",
       "      <td>green</td>\n",
       "      <td>3.0</td>\n",
       "      <td>20.0</td>\n",
       "      <td>1</td>\n",
       "    </tr>\n",
       "    <tr>\n",
       "      <th>6</th>\n",
       "      <td>blue</td>\n",
       "      <td>1.0</td>\n",
       "      <td>15.3</td>\n",
       "      <td>0</td>\n",
       "    </tr>\n",
       "    <tr>\n",
       "      <th>7</th>\n",
       "      <td>red</td>\n",
       "      <td>NaN</td>\n",
       "      <td>31.9</td>\n",
       "      <td>0</td>\n",
       "    </tr>\n",
       "    <tr>\n",
       "      <th>8</th>\n",
       "      <td>green</td>\n",
       "      <td>2.0</td>\n",
       "      <td>22.9</td>\n",
       "      <td>1</td>\n",
       "    </tr>\n",
       "    <tr>\n",
       "      <th>9</th>\n",
       "      <td>blue</td>\n",
       "      <td>1.0</td>\n",
       "      <td>11.1</td>\n",
       "      <td>0</td>\n",
       "    </tr>\n",
       "    <tr>\n",
       "      <th>10</th>\n",
       "      <td>red</td>\n",
       "      <td>1.0</td>\n",
       "      <td>23.2</td>\n",
       "      <td>1</td>\n",
       "    </tr>\n",
       "  </tbody>\n",
       "</table>\n",
       "</div>"
      ],
      "text/plain": [
       "    color  size  price  classlabel\n",
       "0   green   1.0   10.1           0\n",
       "1     red   2.0   13.5           1\n",
       "2    blue   3.0    1.9           0\n",
       "3     red   3.0   18.7           1\n",
       "4    blue   2.0   15.3           1\n",
       "5   green   3.0   20.0           1\n",
       "6    blue   1.0   15.3           0\n",
       "7     red   NaN   31.9           0\n",
       "8   green   2.0   22.9           1\n",
       "9    blue   1.0   11.1           0\n",
       "10    red   1.0   23.2           1"
      ]
     },
     "execution_count": 18,
     "metadata": {},
     "output_type": "execute_result"
    }
   ],
   "source": [
    "df['classlabel'] = df['classlabel'].map(class_mapping)\n",
    "df"
   ]
  },
  {
   "cell_type": "markdown",
   "metadata": {
    "id": "tryYZKve_RMe"
   },
   "source": [
    "Una aleternativa utilizando Scikit-learn es utilizar la clase LabelEncoder"
   ]
  },
  {
   "cell_type": "code",
   "execution_count": 22,
   "metadata": {
    "id": "o_NyRV_k_RMe",
    "outputId": "984bafdc-257f-4eaa-e240-cb3c3c1f7b72"
   },
   "outputs": [
    {
     "data": {
      "text/html": [
       "<div>\n",
       "<style scoped>\n",
       "    .dataframe tbody tr th:only-of-type {\n",
       "        vertical-align: middle;\n",
       "    }\n",
       "\n",
       "    .dataframe tbody tr th {\n",
       "        vertical-align: top;\n",
       "    }\n",
       "\n",
       "    .dataframe thead th {\n",
       "        text-align: right;\n",
       "    }\n",
       "</style>\n",
       "<table border=\"1\" class=\"dataframe\">\n",
       "  <thead>\n",
       "    <tr style=\"text-align: right;\">\n",
       "      <th></th>\n",
       "      <th>color</th>\n",
       "      <th>size</th>\n",
       "      <th>price</th>\n",
       "      <th>classlabel</th>\n",
       "    </tr>\n",
       "  </thead>\n",
       "  <tbody>\n",
       "    <tr>\n",
       "      <th>0</th>\n",
       "      <td>green</td>\n",
       "      <td>M</td>\n",
       "      <td>10.1</td>\n",
       "      <td>1</td>\n",
       "    </tr>\n",
       "    <tr>\n",
       "      <th>1</th>\n",
       "      <td>red</td>\n",
       "      <td>L</td>\n",
       "      <td>13.5</td>\n",
       "      <td>0</td>\n",
       "    </tr>\n",
       "    <tr>\n",
       "      <th>2</th>\n",
       "      <td>blue</td>\n",
       "      <td>XL</td>\n",
       "      <td>1.9</td>\n",
       "      <td>1</td>\n",
       "    </tr>\n",
       "    <tr>\n",
       "      <th>3</th>\n",
       "      <td>red</td>\n",
       "      <td>XL</td>\n",
       "      <td>18.7</td>\n",
       "      <td>0</td>\n",
       "    </tr>\n",
       "    <tr>\n",
       "      <th>4</th>\n",
       "      <td>blue</td>\n",
       "      <td>L</td>\n",
       "      <td>15.3</td>\n",
       "      <td>0</td>\n",
       "    </tr>\n",
       "    <tr>\n",
       "      <th>5</th>\n",
       "      <td>green</td>\n",
       "      <td>XL</td>\n",
       "      <td>20.0</td>\n",
       "      <td>0</td>\n",
       "    </tr>\n",
       "    <tr>\n",
       "      <th>6</th>\n",
       "      <td>blue</td>\n",
       "      <td>M</td>\n",
       "      <td>15.3</td>\n",
       "      <td>1</td>\n",
       "    </tr>\n",
       "    <tr>\n",
       "      <th>7</th>\n",
       "      <td>red</td>\n",
       "      <td>S</td>\n",
       "      <td>31.9</td>\n",
       "      <td>1</td>\n",
       "    </tr>\n",
       "    <tr>\n",
       "      <th>8</th>\n",
       "      <td>green</td>\n",
       "      <td>L</td>\n",
       "      <td>22.9</td>\n",
       "      <td>0</td>\n",
       "    </tr>\n",
       "    <tr>\n",
       "      <th>9</th>\n",
       "      <td>blue</td>\n",
       "      <td>M</td>\n",
       "      <td>11.1</td>\n",
       "      <td>1</td>\n",
       "    </tr>\n",
       "    <tr>\n",
       "      <th>10</th>\n",
       "      <td>red</td>\n",
       "      <td>M</td>\n",
       "      <td>23.2</td>\n",
       "      <td>0</td>\n",
       "    </tr>\n",
       "  </tbody>\n",
       "</table>\n",
       "</div>"
      ],
      "text/plain": [
       "    color size  price  classlabel\n",
       "0   green    M   10.1           1\n",
       "1     red    L   13.5           0\n",
       "2    blue   XL    1.9           1\n",
       "3     red   XL   18.7           0\n",
       "4    blue    L   15.3           0\n",
       "5   green   XL   20.0           0\n",
       "6    blue    M   15.3           1\n",
       "7     red    S   31.9           1\n",
       "8   green    L   22.9           0\n",
       "9    blue    M   11.1           1\n",
       "10    red    M   23.2           0"
      ]
     },
     "execution_count": 22,
     "metadata": {},
     "output_type": "execute_result"
    }
   ],
   "source": [
    "from sklearn.preprocessing import LabelEncoder\n",
    "\n",
    "class_le = LabelEncoder()\n",
    "y = class_le.fit_transform(df['classlabel'].values)\n",
    "df['classlabel'] = y\n",
    "df"
   ]
  },
  {
   "cell_type": "markdown",
   "metadata": {
    "id": "3rslXWyf_RMe"
   },
   "source": [
    "Hay que tener en cuenta que el método fit_transform es un atajo para llamar a fit y transform por separado. Podemos utilizar el método *inverse_transform* para transformar de nuevo las etiquetas de clase en enteros y volver a su representación original de cadena."
   ]
  },
  {
   "cell_type": "code",
   "execution_count": 23,
   "metadata": {
    "id": "zKbpLcgD_RMe",
    "outputId": "70556b92-7b2c-49cf-da9e-ed1cfa8f2f7a"
   },
   "outputs": [
    {
     "data": {
      "text/html": [
       "<div>\n",
       "<style scoped>\n",
       "    .dataframe tbody tr th:only-of-type {\n",
       "        vertical-align: middle;\n",
       "    }\n",
       "\n",
       "    .dataframe tbody tr th {\n",
       "        vertical-align: top;\n",
       "    }\n",
       "\n",
       "    .dataframe thead th {\n",
       "        text-align: right;\n",
       "    }\n",
       "</style>\n",
       "<table border=\"1\" class=\"dataframe\">\n",
       "  <thead>\n",
       "    <tr style=\"text-align: right;\">\n",
       "      <th></th>\n",
       "      <th>color</th>\n",
       "      <th>size</th>\n",
       "      <th>price</th>\n",
       "      <th>classlabel</th>\n",
       "    </tr>\n",
       "  </thead>\n",
       "  <tbody>\n",
       "    <tr>\n",
       "      <th>0</th>\n",
       "      <td>green</td>\n",
       "      <td>M</td>\n",
       "      <td>10.1</td>\n",
       "      <td>class2</td>\n",
       "    </tr>\n",
       "    <tr>\n",
       "      <th>1</th>\n",
       "      <td>red</td>\n",
       "      <td>L</td>\n",
       "      <td>13.5</td>\n",
       "      <td>class1</td>\n",
       "    </tr>\n",
       "    <tr>\n",
       "      <th>2</th>\n",
       "      <td>blue</td>\n",
       "      <td>XL</td>\n",
       "      <td>1.9</td>\n",
       "      <td>class2</td>\n",
       "    </tr>\n",
       "    <tr>\n",
       "      <th>3</th>\n",
       "      <td>red</td>\n",
       "      <td>XL</td>\n",
       "      <td>18.7</td>\n",
       "      <td>class1</td>\n",
       "    </tr>\n",
       "    <tr>\n",
       "      <th>4</th>\n",
       "      <td>blue</td>\n",
       "      <td>L</td>\n",
       "      <td>15.3</td>\n",
       "      <td>class1</td>\n",
       "    </tr>\n",
       "    <tr>\n",
       "      <th>5</th>\n",
       "      <td>green</td>\n",
       "      <td>XL</td>\n",
       "      <td>20.0</td>\n",
       "      <td>class1</td>\n",
       "    </tr>\n",
       "    <tr>\n",
       "      <th>6</th>\n",
       "      <td>blue</td>\n",
       "      <td>M</td>\n",
       "      <td>15.3</td>\n",
       "      <td>class2</td>\n",
       "    </tr>\n",
       "    <tr>\n",
       "      <th>7</th>\n",
       "      <td>red</td>\n",
       "      <td>S</td>\n",
       "      <td>31.9</td>\n",
       "      <td>class2</td>\n",
       "    </tr>\n",
       "    <tr>\n",
       "      <th>8</th>\n",
       "      <td>green</td>\n",
       "      <td>L</td>\n",
       "      <td>22.9</td>\n",
       "      <td>class1</td>\n",
       "    </tr>\n",
       "    <tr>\n",
       "      <th>9</th>\n",
       "      <td>blue</td>\n",
       "      <td>M</td>\n",
       "      <td>11.1</td>\n",
       "      <td>class2</td>\n",
       "    </tr>\n",
       "    <tr>\n",
       "      <th>10</th>\n",
       "      <td>red</td>\n",
       "      <td>M</td>\n",
       "      <td>23.2</td>\n",
       "      <td>class1</td>\n",
       "    </tr>\n",
       "  </tbody>\n",
       "</table>\n",
       "</div>"
      ],
      "text/plain": [
       "    color size  price classlabel\n",
       "0   green    M   10.1     class2\n",
       "1     red    L   13.5     class1\n",
       "2    blue   XL    1.9     class2\n",
       "3     red   XL   18.7     class1\n",
       "4    blue    L   15.3     class1\n",
       "5   green   XL   20.0     class1\n",
       "6    blue    M   15.3     class2\n",
       "7     red    S   31.9     class2\n",
       "8   green    L   22.9     class1\n",
       "9    blue    M   11.1     class2\n",
       "10    red    M   23.2     class1"
      ]
     },
     "execution_count": 23,
     "metadata": {},
     "output_type": "execute_result"
    }
   ],
   "source": [
    "df['classlabel'] = class_le.inverse_transform(df['classlabel'])\n",
    "df"
   ]
  },
  {
   "cell_type": "markdown",
   "metadata": {
    "id": "9ftSVtzug0Fp"
   },
   "source": [
    "#### Codificación one-hot de características nominales"
   ]
  },
  {
   "cell_type": "markdown",
   "metadata": {
    "id": "nhbUPc4a_RMf"
   },
   "source": [
    "En la codificación de características ordinales hemos visto como a través de un mapeo podemos transformar en númericas esas características. Para la codificación de características nominales podríamos hacer exactamente lo mismo; sin embargo, cometeríamos uno de lso errores más frecuentes al tratar con datos categóricos.\n",
    "\n",
    "Los modelos de clasificación ordinales asumirán que un valor categórico (por ejemplo, green) es más grande que otro (por ejemplo, blue). Aunque esta suposición es incorrecta, un clasificador podría seguir genreando resultados útiles. Sin embargo, esos resultados no serían óptimos.\n",
    "\n",
    "Una solución frecuentemente empleada para resolver este problema es utilizar una técnica llamada **one-hot encoding**. La idea principal es crear una nueva característica ficticia para cada valor único en la columna de características nominales. En este caso convertiríamos la característica *color* en tres nuevas características: *blue*, *green*, y *red*. Los valores binarios pueden utilizarse para indicar el color particular de un ejemplo.\n",
    "\n",
    "Para realizar esta trasformación podemos hacerlo creando una función como la que sigue:"
   ]
  },
  {
   "cell_type": "code",
   "execution_count": null,
   "metadata": {
    "colab": {
     "base_uri": "https://localhost:8080/",
     "height": 314
    },
    "collapsed": true,
    "id": "f4wbULBPUsgJ",
    "outputId": "4404f351-c86f-4012-bccf-3bcaf530b917"
   },
   "outputs": [
    {
     "data": {
      "text/html": [
       "<div>\n",
       "<style scoped>\n",
       "    .dataframe tbody tr th:only-of-type {\n",
       "        vertical-align: middle;\n",
       "    }\n",
       "\n",
       "    .dataframe tbody tr th {\n",
       "        vertical-align: top;\n",
       "    }\n",
       "\n",
       "    .dataframe thead th {\n",
       "        text-align: right;\n",
       "    }\n",
       "</style>\n",
       "<table border=\"1\" class=\"dataframe\">\n",
       "  <thead>\n",
       "    <tr style=\"text-align: right;\">\n",
       "      <th></th>\n",
       "      <th>size</th>\n",
       "      <th>price</th>\n",
       "      <th>classlabel</th>\n",
       "      <th>blue</th>\n",
       "      <th>green</th>\n",
       "      <th>red</th>\n",
       "    </tr>\n",
       "  </thead>\n",
       "  <tbody>\n",
       "    <tr>\n",
       "      <th>0</th>\n",
       "      <td>1.0</td>\n",
       "      <td>10.1</td>\n",
       "      <td>1</td>\n",
       "      <td>0</td>\n",
       "      <td>1</td>\n",
       "      <td>0</td>\n",
       "    </tr>\n",
       "    <tr>\n",
       "      <th>1</th>\n",
       "      <td>2.0</td>\n",
       "      <td>13.5</td>\n",
       "      <td>0</td>\n",
       "      <td>0</td>\n",
       "      <td>0</td>\n",
       "      <td>1</td>\n",
       "    </tr>\n",
       "    <tr>\n",
       "      <th>2</th>\n",
       "      <td>3.0</td>\n",
       "      <td>1.9</td>\n",
       "      <td>1</td>\n",
       "      <td>1</td>\n",
       "      <td>0</td>\n",
       "      <td>0</td>\n",
       "    </tr>\n",
       "    <tr>\n",
       "      <th>3</th>\n",
       "      <td>3.0</td>\n",
       "      <td>18.7</td>\n",
       "      <td>0</td>\n",
       "      <td>0</td>\n",
       "      <td>0</td>\n",
       "      <td>1</td>\n",
       "    </tr>\n",
       "    <tr>\n",
       "      <th>4</th>\n",
       "      <td>2.0</td>\n",
       "      <td>15.3</td>\n",
       "      <td>0</td>\n",
       "      <td>1</td>\n",
       "      <td>0</td>\n",
       "      <td>0</td>\n",
       "    </tr>\n",
       "  </tbody>\n",
       "</table>\n",
       "</div>"
      ],
      "text/plain": [
       "   size  price  classlabel  blue  green  red\n",
       "0   1.0   10.1           1     0      1    0\n",
       "1   2.0   13.5           0     0      0    1\n",
       "2   3.0    1.9           1     1      0    0\n",
       "3   3.0   18.7           0     0      0    1\n",
       "4   2.0   15.3           0     1      0    0"
      ]
     },
     "execution_count": 10,
     "metadata": {},
     "output_type": "execute_result"
    }
   ],
   "source": [
    "#con esta función puedo convertir en numérica una columna categórica\n",
    "def onehot_encode(df, column):\n",
    "\n",
    "    #obtengo como dataframe la conversión a numéricas\n",
    "    dummies = pd.get_dummies(df[column]) #\n",
    "\n",
    "    df = pd.concat([df, dummies], axis=1) #concateno lo obtenido al anterior dataframe\n",
    "    df = df.drop(column, axis=1)          #elimino la columna categórica\n",
    "    return df\n",
    "\n",
    "\n",
    "df = onehot_encode(df, column='color')\n",
    "df.head()"
   ]
  },
  {
   "cell_type": "markdown",
   "metadata": {
    "id": "1mUjdXIi_RMf"
   },
   "source": [
    "#### Codificación de características numéricas\n",
    "\n",
    "Las características numéricas son valores que por regla general ya pueden ser utilizados por los algoritmos de aprendizaje automático; sin embargo, es posible requerir su transformación a tipos categóricos.\n",
    "\n",
    "Básicamente, lo que haremos crear diferentes conjuntos y posteriormente definir si ese dato corresponde al conjunto o no. Como ejemplo, vamos a realizar cuatro subgrupos utilizando los valores del precio, y posteriormente clasificaremos cada ocurrencia."
   ]
  },
  {
   "cell_type": "code",
   "execution_count": 24,
   "metadata": {
    "id": "Uh9R90DV7sk4",
    "outputId": "041f867e-5f89-4229-93fc-d6fa6f1a0d5a"
   },
   "outputs": [
    {
     "data": {
      "text/html": [
       "<div>\n",
       "<style scoped>\n",
       "    .dataframe tbody tr th:only-of-type {\n",
       "        vertical-align: middle;\n",
       "    }\n",
       "\n",
       "    .dataframe tbody tr th {\n",
       "        vertical-align: top;\n",
       "    }\n",
       "\n",
       "    .dataframe thead th {\n",
       "        text-align: right;\n",
       "    }\n",
       "</style>\n",
       "<table border=\"1\" class=\"dataframe\">\n",
       "  <thead>\n",
       "    <tr style=\"text-align: right;\">\n",
       "      <th></th>\n",
       "      <th>color</th>\n",
       "      <th>size</th>\n",
       "      <th>classlabel</th>\n",
       "      <th>price_categorical</th>\n",
       "    </tr>\n",
       "  </thead>\n",
       "  <tbody>\n",
       "    <tr>\n",
       "      <th>0</th>\n",
       "      <td>green</td>\n",
       "      <td>M</td>\n",
       "      <td>class2</td>\n",
       "      <td>medio</td>\n",
       "    </tr>\n",
       "    <tr>\n",
       "      <th>1</th>\n",
       "      <td>red</td>\n",
       "      <td>L</td>\n",
       "      <td>class1</td>\n",
       "      <td>medio</td>\n",
       "    </tr>\n",
       "    <tr>\n",
       "      <th>2</th>\n",
       "      <td>blue</td>\n",
       "      <td>XL</td>\n",
       "      <td>class2</td>\n",
       "      <td>bajo</td>\n",
       "    </tr>\n",
       "    <tr>\n",
       "      <th>3</th>\n",
       "      <td>red</td>\n",
       "      <td>XL</td>\n",
       "      <td>class1</td>\n",
       "      <td>alto</td>\n",
       "    </tr>\n",
       "    <tr>\n",
       "      <th>4</th>\n",
       "      <td>blue</td>\n",
       "      <td>L</td>\n",
       "      <td>class1</td>\n",
       "      <td>medio</td>\n",
       "    </tr>\n",
       "    <tr>\n",
       "      <th>5</th>\n",
       "      <td>green</td>\n",
       "      <td>XL</td>\n",
       "      <td>class1</td>\n",
       "      <td>alto</td>\n",
       "    </tr>\n",
       "    <tr>\n",
       "      <th>6</th>\n",
       "      <td>blue</td>\n",
       "      <td>M</td>\n",
       "      <td>class2</td>\n",
       "      <td>medio</td>\n",
       "    </tr>\n",
       "    <tr>\n",
       "      <th>7</th>\n",
       "      <td>red</td>\n",
       "      <td>S</td>\n",
       "      <td>class2</td>\n",
       "      <td>muy alto</td>\n",
       "    </tr>\n",
       "    <tr>\n",
       "      <th>8</th>\n",
       "      <td>green</td>\n",
       "      <td>L</td>\n",
       "      <td>class1</td>\n",
       "      <td>alto</td>\n",
       "    </tr>\n",
       "    <tr>\n",
       "      <th>9</th>\n",
       "      <td>blue</td>\n",
       "      <td>M</td>\n",
       "      <td>class2</td>\n",
       "      <td>medio</td>\n",
       "    </tr>\n",
       "    <tr>\n",
       "      <th>10</th>\n",
       "      <td>red</td>\n",
       "      <td>M</td>\n",
       "      <td>class1</td>\n",
       "      <td>alto</td>\n",
       "    </tr>\n",
       "  </tbody>\n",
       "</table>\n",
       "</div>"
      ],
      "text/plain": [
       "    color size classlabel price_categorical\n",
       "0   green    M     class2             medio\n",
       "1     red    L     class1             medio\n",
       "2    blue   XL     class2              bajo\n",
       "3     red   XL     class1              alto\n",
       "4    blue    L     class1             medio\n",
       "5   green   XL     class1              alto\n",
       "6    blue    M     class2             medio\n",
       "7     red    S     class2          muy alto\n",
       "8   green    L     class1              alto\n",
       "9    blue    M     class2             medio\n",
       "10    red    M     class1              alto"
      ]
     },
     "execution_count": 24,
     "metadata": {},
     "output_type": "execute_result"
    }
   ],
   "source": [
    "min_value= df['price'].min()\n",
    "max_value= df['price'].max()\n",
    "\n",
    "labels = ['bajo', 'medio', 'alto','muy alto']\n",
    "bins = np.linspace(min_value,max_value,5)\n",
    "\n",
    "df['price_categorical'] = pd.cut(df['price'],\n",
    "                                       bins=bins,\n",
    "                                       labels=labels,\n",
    "                                       include_lowest=True)\n",
    "\n",
    "df = df.drop('price', axis=1)\n",
    "df"
   ]
  },
  {
   "cell_type": "markdown",
   "metadata": {
    "id": "8NyUhehq_RMf"
   },
   "source": [
    "Posteriormente, esta nueva característica ordinal se podría convertir en categórica utilizando un mapeo como el definido anteriormente."
   ]
  },
  {
   "cell_type": "code",
   "execution_count": null,
   "metadata": {
    "collapsed": true,
    "id": "XQu4gimg_RMg",
    "outputId": "7dd99ef1-4ffe-4aef-a263-a851c206d0ab"
   },
   "outputs": [
    {
     "data": {
      "text/html": [
       "<div>\n",
       "<style scoped>\n",
       "    .dataframe tbody tr th:only-of-type {\n",
       "        vertical-align: middle;\n",
       "    }\n",
       "\n",
       "    .dataframe tbody tr th {\n",
       "        vertical-align: top;\n",
       "    }\n",
       "\n",
       "    .dataframe thead th {\n",
       "        text-align: right;\n",
       "    }\n",
       "</style>\n",
       "<table border=\"1\" class=\"dataframe\">\n",
       "  <thead>\n",
       "    <tr style=\"text-align: right;\">\n",
       "      <th></th>\n",
       "      <th>size</th>\n",
       "      <th>classlabel</th>\n",
       "      <th>blue</th>\n",
       "      <th>green</th>\n",
       "      <th>red</th>\n",
       "      <th>price_categorical</th>\n",
       "    </tr>\n",
       "  </thead>\n",
       "  <tbody>\n",
       "    <tr>\n",
       "      <th>0</th>\n",
       "      <td>1.0</td>\n",
       "      <td>1</td>\n",
       "      <td>0</td>\n",
       "      <td>1</td>\n",
       "      <td>0</td>\n",
       "      <td>2</td>\n",
       "    </tr>\n",
       "    <tr>\n",
       "      <th>1</th>\n",
       "      <td>2.0</td>\n",
       "      <td>0</td>\n",
       "      <td>0</td>\n",
       "      <td>0</td>\n",
       "      <td>1</td>\n",
       "      <td>2</td>\n",
       "    </tr>\n",
       "    <tr>\n",
       "      <th>2</th>\n",
       "      <td>3.0</td>\n",
       "      <td>1</td>\n",
       "      <td>1</td>\n",
       "      <td>0</td>\n",
       "      <td>0</td>\n",
       "      <td>1</td>\n",
       "    </tr>\n",
       "    <tr>\n",
       "      <th>3</th>\n",
       "      <td>3.0</td>\n",
       "      <td>0</td>\n",
       "      <td>0</td>\n",
       "      <td>0</td>\n",
       "      <td>1</td>\n",
       "      <td>3</td>\n",
       "    </tr>\n",
       "    <tr>\n",
       "      <th>4</th>\n",
       "      <td>2.0</td>\n",
       "      <td>0</td>\n",
       "      <td>1</td>\n",
       "      <td>0</td>\n",
       "      <td>0</td>\n",
       "      <td>2</td>\n",
       "    </tr>\n",
       "    <tr>\n",
       "      <th>5</th>\n",
       "      <td>3.0</td>\n",
       "      <td>0</td>\n",
       "      <td>0</td>\n",
       "      <td>1</td>\n",
       "      <td>0</td>\n",
       "      <td>3</td>\n",
       "    </tr>\n",
       "    <tr>\n",
       "      <th>6</th>\n",
       "      <td>1.0</td>\n",
       "      <td>1</td>\n",
       "      <td>1</td>\n",
       "      <td>0</td>\n",
       "      <td>0</td>\n",
       "      <td>2</td>\n",
       "    </tr>\n",
       "    <tr>\n",
       "      <th>7</th>\n",
       "      <td>NaN</td>\n",
       "      <td>1</td>\n",
       "      <td>0</td>\n",
       "      <td>0</td>\n",
       "      <td>1</td>\n",
       "      <td>4</td>\n",
       "    </tr>\n",
       "    <tr>\n",
       "      <th>8</th>\n",
       "      <td>2.0</td>\n",
       "      <td>0</td>\n",
       "      <td>0</td>\n",
       "      <td>1</td>\n",
       "      <td>0</td>\n",
       "      <td>3</td>\n",
       "    </tr>\n",
       "    <tr>\n",
       "      <th>9</th>\n",
       "      <td>1.0</td>\n",
       "      <td>1</td>\n",
       "      <td>1</td>\n",
       "      <td>0</td>\n",
       "      <td>0</td>\n",
       "      <td>2</td>\n",
       "    </tr>\n",
       "    <tr>\n",
       "      <th>10</th>\n",
       "      <td>1.0</td>\n",
       "      <td>0</td>\n",
       "      <td>0</td>\n",
       "      <td>0</td>\n",
       "      <td>1</td>\n",
       "      <td>3</td>\n",
       "    </tr>\n",
       "  </tbody>\n",
       "</table>\n",
       "</div>"
      ],
      "text/plain": [
       "    size  classlabel  blue  green  red price_categorical\n",
       "0    1.0           1     0      1    0                 2\n",
       "1    2.0           0     0      0    1                 2\n",
       "2    3.0           1     1      0    0                 1\n",
       "3    3.0           0     0      0    1                 3\n",
       "4    2.0           0     1      0    0                 2\n",
       "5    3.0           0     0      1    0                 3\n",
       "6    1.0           1     1      0    0                 2\n",
       "7    NaN           1     0      0    1                 4\n",
       "8    2.0           0     0      1    0                 3\n",
       "9    1.0           1     1      0    0                 2\n",
       "10   1.0           0     0      0    1                 3"
      ]
     },
     "execution_count": 12,
     "metadata": {},
     "output_type": "execute_result"
    }
   ],
   "source": [
    "price_mapping = {\n",
    "    'bajo': 1,\n",
    "    'medio': 2,\n",
    "    'alto': 3,\n",
    "    'muy alto': 4\n",
    "}\n",
    "\n",
    "df['price_categorical'] = df['price_categorical'].map(price_mapping)\n",
    "df"
   ]
  },
  {
   "cell_type": "markdown",
   "metadata": {
    "id": "t4cne-E9Rx2Q"
   },
   "source": [
    "## 2. Balanceamiento del número de ocurrencias"
   ]
  },
  {
   "cell_type": "code",
   "execution_count": 25,
   "metadata": {
    "id": "dw5HxK48_RMg"
   },
   "outputs": [],
   "source": [
    "#vuelvo a descargar el dataset de cancer de mama\n",
    "df_train = load_breast_cancer(as_frame=True).frame"
   ]
  },
  {
   "cell_type": "markdown",
   "metadata": {
    "id": "4i_m1ggOTgKo"
   },
   "source": [
    "Antes de comenzar a procesar los datos de entrenamiento, veamos si los datos están o no balanceados. Esto es realmente importante, dado que si hay un número considerable de una salida frente a otra, el resultado de la predicción probablemente será erróneo."
   ]
  },
  {
   "cell_type": "code",
   "execution_count": 26,
   "metadata": {
    "colab": {
     "base_uri": "https://localhost:8080/"
    },
    "id": "r6dUxU8rUgck",
    "outputId": "b4bf7e3d-f97f-430e-c878-0842c45a424c"
   },
   "outputs": [
    {
     "name": "stdout",
     "output_type": "stream",
     "text": [
      "Numero de occurrencias NO: 212\n",
      "Numero de occurrencias SI: 357\n"
     ]
    }
   ],
   "source": [
    "print(f\"Numero de occurrencias NO: {len(df_train[df_train.target==0])}\")\n",
    "print(f\"Numero de occurrencias SI: {len(df_train[df_train.target==1])}\")"
   ]
  },
  {
   "cell_type": "code",
   "execution_count": 27,
   "metadata": {
    "colab": {
     "base_uri": "https://localhost:8080/",
     "height": 329
    },
    "id": "Kks2GaODVajV",
    "outputId": "208fcbcc-bb93-4bca-ae7b-8d4bd8ce6fdc"
   },
   "outputs": [
    {
     "name": "stdout",
     "output_type": "stream",
     "text": [
      "Class 0: 212\n",
      "Class 1: 357\n",
      "Proportion: 0.59 : 1\n"
     ]
    },
    {
     "data": {
      "image/png": "[encoded data removed]",
      "text/plain": [
       "<Figure size 640x480 with 1 Axes>"
      ]
     },
     "metadata": {},
     "output_type": "display_data"
    }
   ],
   "source": [
    "target_count = df_train['target'].value_counts()\n",
    "print('Class 0:', target_count[0])\n",
    "print('Class 1:', target_count[1])\n",
    "print('Proportion:', round(target_count[0] / target_count[1], 2), ': 1')\n",
    "\n",
    "target_count.plot(kind='bar', title='Count (target)');"
   ]
  },
  {
   "cell_type": "markdown",
   "metadata": {
    "id": "7rrsk3WxV4AH"
   },
   "source": [
    "Una de las formas de hacer resampling es eliminar ocurrencias de la clase que más tenga."
   ]
  },
  {
   "cell_type": "code",
   "execution_count": null,
   "metadata": {
    "colab": {
     "base_uri": "https://localhost:8080/"
    },
    "collapsed": true,
    "id": "TG9DpEqv5F1s",
    "outputId": "3accc74e-0330-4544-db79-0fdd334f9d5e"
   },
   "outputs": [
    {
     "name": "stdout",
     "output_type": "stream",
     "text": [
      "Numero de occurrencias clase 1: 357\n",
      "Numero de occurrencias clase 2: 357\n"
     ]
    }
   ],
   "source": [
    "from sklearn.utils import resample\n",
    "\n",
    "# Split data into two dataframes because data is not balanced\n",
    "df_majority = df_train[df_train.target==0] #cuando el tren SI es cancelado\n",
    "df_minority = df_train[df_train.target==1] #cuando el tren NO es cancelado\n",
    "\n",
    "\n",
    "df_majority_downsampled = resample(df_majority,\n",
    "                                 n_samples=len(df_minority),\n",
    "                                 replace=True,      # sample with replacement\n",
    "                                 random_state=42)   # reproducible results\n",
    "\n",
    "\n",
    "# Combino la clase minoritaria con el resultado del resampling\n",
    "df_train = pd.concat([df_minority, df_majority_downsampled])\n",
    "\n",
    "# Compruebo el resultado\n",
    "print(f\"Numero de occurrencias clase 1: {len(df_train[df_train.target==0])}\")\n",
    "print(f\"Numero de occurrencias clase 2: {len(df_train[df_train.target==1])}\")"
   ]
  },
  {
   "cell_type": "markdown",
   "metadata": {
    "id": "gMEOdf1vWuCe"
   },
   "source": [
    "Una de las formas de hacer resampling es añadir ocurrencias a la clase que menos tenga."
   ]
  },
  {
   "cell_type": "code",
   "execution_count": 28,
   "metadata": {
    "id": "XreP3Ot7XYQE"
   },
   "outputs": [],
   "source": [
    "## Carga del fichero en Python\n",
    "df_train = pd.read_csv('../DATASETS/Reservas/bookings.csv', delimiter=',')\n"
   ]
  },
  {
   "cell_type": "code",
   "execution_count": 29,
   "metadata": {
    "colab": {
     "base_uri": "https://localhost:8080/"
    },
    "id": "bVByDjWoWBfG",
    "outputId": "250552d1-318a-474c-f4f7-d533606cb558"
   },
   "outputs": [
    {
     "name": "stdout",
     "output_type": "stream",
     "text": [
      "Numero de occurrencias NO : 75166\n",
      "Numero de occurrencias SI : 75166\n"
     ]
    }
   ],
   "source": [
    "from sklearn.utils import resample\n",
    "\n",
    "# Split data into two dataframes because data is not balanced\n",
    "df_majority = df_train[df_train.is_canceled==0]\n",
    "df_minority = df_train[df_train.is_canceled==1]\n",
    "\n",
    "\n",
    "# Upsample minority class\n",
    "df_minority_upsampled = resample(df_minority,\n",
    "                                 n_samples=len(df_majority),\n",
    "                                 replace=True,     # sample with replacement\n",
    "                                 random_state=42) # reproducible results\n",
    "\n",
    "\n",
    "# Combine majority class with upsampled minority class\n",
    "df_train = pd.concat([df_majority, df_minority_upsampled])\n",
    "\n",
    "\n",
    "# Compruebo el resultado\n",
    "print(f\"Numero de occurrencias NO : {len(df_train[df_train.is_canceled==0])}\")\n",
    "print(f\"Numero de occurrencias SI : {len(df_train[df_train.is_canceled==1])}\")"
   ]
  },
  {
   "cell_type": "markdown",
   "metadata": {
    "id": "8uIotNC7a5J2"
   },
   "source": [
    "## 3. Identificar columnas con muchos valores nulos\n"
   ]
  },
  {
   "cell_type": "code",
   "execution_count": null,
   "metadata": {
    "colab": {
     "base_uri": "https://localhost:8080/"
    },
    "collapsed": true,
    "id": "gjM_lmVVbJJM",
    "outputId": "ae423dde-2ea4-457d-c69b-e8e7dde2f2b2"
   },
   "outputs": [
    {
     "name": "stdout",
     "output_type": "stream",
     "text": [
      "children     0.009978\n",
      "country      0.359205\n",
      "agent       12.709204\n",
      "company     94.915254\n",
      "dtype: float64\n"
     ]
    }
   ],
   "source": [
    "def print_percentage_null_values(df):\n",
    "    cols_with_missing = df.isnull().sum()\n",
    "    print(cols_with_missing[cols_with_missing > 0]/len(df)*100)\n",
    "\n",
    "print_percentage_null_values(df_train)"
   ]
  },
  {
   "cell_type": "markdown",
   "metadata": {
    "id": "-wVJm3ZycO5X"
   },
   "source": [
    "## 4. Completar valores NaN con un valor específico"
   ]
  },
  {
   "cell_type": "markdown",
   "metadata": {
    "id": "q3MQv9ySdsoh"
   },
   "source": [
    "Es importante destacar dos atributos: method y value. Comenzaremos por la explicación de method, el cual puede tener los siguientes valores:\n",
    "\n",
    "*   pad or ffill. Utiliza la última observación válida.\n",
    "*   backfill or bfill. Utiliza la anterior observacion válida.\n"
   ]
  },
  {
   "cell_type": "code",
   "execution_count": null,
   "metadata": {
    "collapsed": true,
    "id": "lgaZpPk6cS0l"
   },
   "outputs": [],
   "source": [
    "df_train.fillna(method=\"pad\", inplace=True)"
   ]
  },
  {
   "cell_type": "markdown",
   "metadata": {
    "id": "5MsvdYAXa9yT"
   },
   "source": [
    "Si en values incluimos un diccionario, podemos indicar por cada columna el valor con el que queremos completar los valores NaN."
   ]
  },
  {
   "cell_type": "code",
   "execution_count": null,
   "metadata": {
    "colab": {
     "base_uri": "https://localhost:8080/",
     "height": 653
    },
    "collapsed": true,
    "id": "VgMS5MCcemoP",
    "outputId": "41ef8d70-6877-4a8f-d1b6-9758df5d189a"
   },
   "outputs": [
    {
     "data": {
      "text/html": [
       "<div>\n",
       "<style scoped>\n",
       "    .dataframe tbody tr th:only-of-type {\n",
       "        vertical-align: middle;\n",
       "    }\n",
       "\n",
       "    .dataframe tbody tr th {\n",
       "        vertical-align: top;\n",
       "    }\n",
       "\n",
       "    .dataframe thead th {\n",
       "        text-align: right;\n",
       "    }\n",
       "</style>\n",
       "<table border=\"1\" class=\"dataframe\">\n",
       "  <thead>\n",
       "    <tr style=\"text-align: right;\">\n",
       "      <th></th>\n",
       "      <th>hotel</th>\n",
       "      <th>is_canceled</th>\n",
       "      <th>lead_time</th>\n",
       "      <th>arrival_date_year</th>\n",
       "      <th>arrival_date_month</th>\n",
       "      <th>arrival_date_week_number</th>\n",
       "      <th>arrival_date_day_of_month</th>\n",
       "      <th>stays_in_weekend_nights</th>\n",
       "      <th>stays_in_week_nights</th>\n",
       "      <th>adults</th>\n",
       "      <th>...</th>\n",
       "      <th>deposit_type</th>\n",
       "      <th>agent</th>\n",
       "      <th>company</th>\n",
       "      <th>days_in_waiting_list</th>\n",
       "      <th>customer_type</th>\n",
       "      <th>adr</th>\n",
       "      <th>required_car_parking_spaces</th>\n",
       "      <th>total_of_special_requests</th>\n",
       "      <th>reservation_status</th>\n",
       "      <th>reservation_status_date</th>\n",
       "    </tr>\n",
       "  </thead>\n",
       "  <tbody>\n",
       "    <tr>\n",
       "      <th>0</th>\n",
       "      <td>Resort Hotel</td>\n",
       "      <td>0</td>\n",
       "      <td>342</td>\n",
       "      <td>2015</td>\n",
       "      <td>July</td>\n",
       "      <td>27</td>\n",
       "      <td>1</td>\n",
       "      <td>0</td>\n",
       "      <td>0</td>\n",
       "      <td>2</td>\n",
       "      <td>...</td>\n",
       "      <td>No Deposit</td>\n",
       "      <td>NaN</td>\n",
       "      <td>NaN</td>\n",
       "      <td>0</td>\n",
       "      <td>Transient</td>\n",
       "      <td>0.0</td>\n",
       "      <td>0</td>\n",
       "      <td>0</td>\n",
       "      <td>Check-Out</td>\n",
       "      <td>2015-07-01</td>\n",
       "    </tr>\n",
       "    <tr>\n",
       "      <th>1</th>\n",
       "      <td>Resort Hotel</td>\n",
       "      <td>0</td>\n",
       "      <td>737</td>\n",
       "      <td>2015</td>\n",
       "      <td>July</td>\n",
       "      <td>27</td>\n",
       "      <td>1</td>\n",
       "      <td>0</td>\n",
       "      <td>0</td>\n",
       "      <td>2</td>\n",
       "      <td>...</td>\n",
       "      <td>No Deposit</td>\n",
       "      <td>NaN</td>\n",
       "      <td>NaN</td>\n",
       "      <td>0</td>\n",
       "      <td>Transient</td>\n",
       "      <td>0.0</td>\n",
       "      <td>0</td>\n",
       "      <td>0</td>\n",
       "      <td>Check-Out</td>\n",
       "      <td>2015-07-01</td>\n",
       "    </tr>\n",
       "    <tr>\n",
       "      <th>2</th>\n",
       "      <td>Resort Hotel</td>\n",
       "      <td>0</td>\n",
       "      <td>7</td>\n",
       "      <td>2015</td>\n",
       "      <td>July</td>\n",
       "      <td>27</td>\n",
       "      <td>1</td>\n",
       "      <td>0</td>\n",
       "      <td>1</td>\n",
       "      <td>1</td>\n",
       "      <td>...</td>\n",
       "      <td>No Deposit</td>\n",
       "      <td>NaN</td>\n",
       "      <td>NaN</td>\n",
       "      <td>0</td>\n",
       "      <td>Transient</td>\n",
       "      <td>75.0</td>\n",
       "      <td>0</td>\n",
       "      <td>0</td>\n",
       "      <td>Check-Out</td>\n",
       "      <td>2015-07-02</td>\n",
       "    </tr>\n",
       "    <tr>\n",
       "      <th>3</th>\n",
       "      <td>Resort Hotel</td>\n",
       "      <td>0</td>\n",
       "      <td>13</td>\n",
       "      <td>2015</td>\n",
       "      <td>July</td>\n",
       "      <td>27</td>\n",
       "      <td>1</td>\n",
       "      <td>0</td>\n",
       "      <td>1</td>\n",
       "      <td>1</td>\n",
       "      <td>...</td>\n",
       "      <td>No Deposit</td>\n",
       "      <td>304.0</td>\n",
       "      <td>NaN</td>\n",
       "      <td>0</td>\n",
       "      <td>Transient</td>\n",
       "      <td>75.0</td>\n",
       "      <td>0</td>\n",
       "      <td>0</td>\n",
       "      <td>Check-Out</td>\n",
       "      <td>2015-07-02</td>\n",
       "    </tr>\n",
       "    <tr>\n",
       "      <th>4</th>\n",
       "      <td>Resort Hotel</td>\n",
       "      <td>0</td>\n",
       "      <td>14</td>\n",
       "      <td>2015</td>\n",
       "      <td>July</td>\n",
       "      <td>27</td>\n",
       "      <td>1</td>\n",
       "      <td>0</td>\n",
       "      <td>2</td>\n",
       "      <td>2</td>\n",
       "      <td>...</td>\n",
       "      <td>No Deposit</td>\n",
       "      <td>240.0</td>\n",
       "      <td>NaN</td>\n",
       "      <td>0</td>\n",
       "      <td>Transient</td>\n",
       "      <td>98.0</td>\n",
       "      <td>0</td>\n",
       "      <td>1</td>\n",
       "      <td>Check-Out</td>\n",
       "      <td>2015-07-03</td>\n",
       "    </tr>\n",
       "    <tr>\n",
       "      <th>...</th>\n",
       "      <td>...</td>\n",
       "      <td>...</td>\n",
       "      <td>...</td>\n",
       "      <td>...</td>\n",
       "      <td>...</td>\n",
       "      <td>...</td>\n",
       "      <td>...</td>\n",
       "      <td>...</td>\n",
       "      <td>...</td>\n",
       "      <td>...</td>\n",
       "      <td>...</td>\n",
       "      <td>...</td>\n",
       "      <td>...</td>\n",
       "      <td>...</td>\n",
       "      <td>...</td>\n",
       "      <td>...</td>\n",
       "      <td>...</td>\n",
       "      <td>...</td>\n",
       "      <td>...</td>\n",
       "      <td>...</td>\n",
       "      <td>...</td>\n",
       "    </tr>\n",
       "    <tr>\n",
       "      <th>10728</th>\n",
       "      <td>Resort Hotel</td>\n",
       "      <td>1</td>\n",
       "      <td>113</td>\n",
       "      <td>2017</td>\n",
       "      <td>March</td>\n",
       "      <td>13</td>\n",
       "      <td>29</td>\n",
       "      <td>0</td>\n",
       "      <td>4</td>\n",
       "      <td>2</td>\n",
       "      <td>...</td>\n",
       "      <td>No Deposit</td>\n",
       "      <td>6.0</td>\n",
       "      <td>331.0</td>\n",
       "      <td>0</td>\n",
       "      <td>Transient</td>\n",
       "      <td>37.5</td>\n",
       "      <td>0</td>\n",
       "      <td>0</td>\n",
       "      <td>Canceled</td>\n",
       "      <td>2016-12-07</td>\n",
       "    </tr>\n",
       "    <tr>\n",
       "      <th>61033</th>\n",
       "      <td>City Hotel</td>\n",
       "      <td>1</td>\n",
       "      <td>8</td>\n",
       "      <td>2016</td>\n",
       "      <td>November</td>\n",
       "      <td>49</td>\n",
       "      <td>30</td>\n",
       "      <td>0</td>\n",
       "      <td>3</td>\n",
       "      <td>2</td>\n",
       "      <td>...</td>\n",
       "      <td>No Deposit</td>\n",
       "      <td>9.0</td>\n",
       "      <td>331.0</td>\n",
       "      <td>0</td>\n",
       "      <td>Transient</td>\n",
       "      <td>114.0</td>\n",
       "      <td>0</td>\n",
       "      <td>0</td>\n",
       "      <td>Canceled</td>\n",
       "      <td>2016-11-23</td>\n",
       "    </tr>\n",
       "    <tr>\n",
       "      <th>57872</th>\n",
       "      <td>City Hotel</td>\n",
       "      <td>1</td>\n",
       "      <td>25</td>\n",
       "      <td>2016</td>\n",
       "      <td>October</td>\n",
       "      <td>41</td>\n",
       "      <td>2</td>\n",
       "      <td>2</td>\n",
       "      <td>1</td>\n",
       "      <td>2</td>\n",
       "      <td>...</td>\n",
       "      <td>No Deposit</td>\n",
       "      <td>9.0</td>\n",
       "      <td>331.0</td>\n",
       "      <td>0</td>\n",
       "      <td>Transient</td>\n",
       "      <td>133.0</td>\n",
       "      <td>0</td>\n",
       "      <td>1</td>\n",
       "      <td>Canceled</td>\n",
       "      <td>2016-09-08</td>\n",
       "    </tr>\n",
       "    <tr>\n",
       "      <th>73858</th>\n",
       "      <td>City Hotel</td>\n",
       "      <td>1</td>\n",
       "      <td>314</td>\n",
       "      <td>2015</td>\n",
       "      <td>August</td>\n",
       "      <td>35</td>\n",
       "      <td>27</td>\n",
       "      <td>0</td>\n",
       "      <td>2</td>\n",
       "      <td>2</td>\n",
       "      <td>...</td>\n",
       "      <td>No Deposit</td>\n",
       "      <td>1.0</td>\n",
       "      <td>331.0</td>\n",
       "      <td>0</td>\n",
       "      <td>Transient-Party</td>\n",
       "      <td>62.8</td>\n",
       "      <td>0</td>\n",
       "      <td>0</td>\n",
       "      <td>Canceled</td>\n",
       "      <td>2014-10-17</td>\n",
       "    </tr>\n",
       "    <tr>\n",
       "      <th>45087</th>\n",
       "      <td>City Hotel</td>\n",
       "      <td>1</td>\n",
       "      <td>102</td>\n",
       "      <td>2015</td>\n",
       "      <td>October</td>\n",
       "      <td>42</td>\n",
       "      <td>16</td>\n",
       "      <td>0</td>\n",
       "      <td>2</td>\n",
       "      <td>1</td>\n",
       "      <td>...</td>\n",
       "      <td>Non Refund</td>\n",
       "      <td>6.0</td>\n",
       "      <td>331.0</td>\n",
       "      <td>0</td>\n",
       "      <td>Transient-Party</td>\n",
       "      <td>80.0</td>\n",
       "      <td>0</td>\n",
       "      <td>0</td>\n",
       "      <td>Canceled</td>\n",
       "      <td>2015-07-06</td>\n",
       "    </tr>\n",
       "  </tbody>\n",
       "</table>\n",
       "<p>150332 rows × 32 columns</p>\n",
       "</div>"
      ],
      "text/plain": [
       "              hotel  is_canceled  lead_time  arrival_date_year  \\\n",
       "0      Resort Hotel            0        342               2015   \n",
       "1      Resort Hotel            0        737               2015   \n",
       "2      Resort Hotel            0          7               2015   \n",
       "3      Resort Hotel            0         13               2015   \n",
       "4      Resort Hotel            0         14               2015   \n",
       "...             ...          ...        ...                ...   \n",
       "10728  Resort Hotel            1        113               2017   \n",
       "61033    City Hotel            1          8               2016   \n",
       "57872    City Hotel            1         25               2016   \n",
       "73858    City Hotel            1        314               2015   \n",
       "45087    City Hotel            1        102               2015   \n",
       "\n",
       "      arrival_date_month  arrival_date_week_number  arrival_date_day_of_month  \\\n",
       "0                   July                        27                          1   \n",
       "1                   July                        27                          1   \n",
       "2                   July                        27                          1   \n",
       "3                   July                        27                          1   \n",
       "4                   July                        27                          1   \n",
       "...                  ...                       ...                        ...   \n",
       "10728              March                        13                         29   \n",
       "61033           November                        49                         30   \n",
       "57872            October                        41                          2   \n",
       "73858             August                        35                         27   \n",
       "45087            October                        42                         16   \n",
       "\n",
       "       stays_in_weekend_nights  stays_in_week_nights  adults  ...  \\\n",
       "0                            0                     0       2  ...   \n",
       "1                            0                     0       2  ...   \n",
       "2                            0                     1       1  ...   \n",
       "3                            0                     1       1  ...   \n",
       "4                            0                     2       2  ...   \n",
       "...                        ...                   ...     ...  ...   \n",
       "10728                        0                     4       2  ...   \n",
       "61033                        0                     3       2  ...   \n",
       "57872                        2                     1       2  ...   \n",
       "73858                        0                     2       2  ...   \n",
       "45087                        0                     2       1  ...   \n",
       "\n",
       "       deposit_type  agent company days_in_waiting_list    customer_type  \\\n",
       "0        No Deposit    NaN     NaN                    0        Transient   \n",
       "1        No Deposit    NaN     NaN                    0        Transient   \n",
       "2        No Deposit    NaN     NaN                    0        Transient   \n",
       "3        No Deposit  304.0     NaN                    0        Transient   \n",
       "4        No Deposit  240.0     NaN                    0        Transient   \n",
       "...             ...    ...     ...                  ...              ...   \n",
       "10728    No Deposit    6.0   331.0                    0        Transient   \n",
       "61033    No Deposit    9.0   331.0                    0        Transient   \n",
       "57872    No Deposit    9.0   331.0                    0        Transient   \n",
       "73858    No Deposit    1.0   331.0                    0  Transient-Party   \n",
       "45087    Non Refund    6.0   331.0                    0  Transient-Party   \n",
       "\n",
       "         adr  required_car_parking_spaces  total_of_special_requests  \\\n",
       "0        0.0                            0                          0   \n",
       "1        0.0                            0                          0   \n",
       "2       75.0                            0                          0   \n",
       "3       75.0                            0                          0   \n",
       "4       98.0                            0                          1   \n",
       "...      ...                          ...                        ...   \n",
       "10728   37.5                            0                          0   \n",
       "61033  114.0                            0                          0   \n",
       "57872  133.0                            0                          1   \n",
       "73858   62.8                            0                          0   \n",
       "45087   80.0                            0                          0   \n",
       "\n",
       "       reservation_status reservation_status_date  \n",
       "0               Check-Out              2015-07-01  \n",
       "1               Check-Out              2015-07-01  \n",
       "2               Check-Out              2015-07-02  \n",
       "3               Check-Out              2015-07-02  \n",
       "4               Check-Out              2015-07-03  \n",
       "...                   ...                     ...  \n",
       "10728            Canceled              2016-12-07  \n",
       "61033            Canceled              2016-11-23  \n",
       "57872            Canceled              2016-09-08  \n",
       "73858            Canceled              2014-10-17  \n",
       "45087            Canceled              2015-07-06  \n",
       "\n",
       "[150332 rows x 32 columns]"
      ]
     },
     "execution_count": 36,
     "metadata": {},
     "output_type": "execute_result"
    }
   ],
   "source": [
    "values = {\"lead_time\": 10, \"stays_in_weekend_nights\": 0}\n",
    "df_train.fillna(value=values)"
   ]
  },
  {
   "cell_type": "markdown",
   "metadata": {
    "id": "QvlBWrpxfNZn"
   },
   "source": [
    "## 5. Aplicar un filtro"
   ]
  },
  {
   "cell_type": "code",
   "execution_count": 32,
   "metadata": {
    "id": "uj5dYnW7fRDl"
   },
   "outputs": [],
   "source": [
    "#Elimino aquellas ocurrencias que children, adults y babies son 0 al mismo tiempo.\n",
    "filter = (df_train['children'] == 0) & (df_train['adults'] == 0) & (df_train['babies'] == 0)\n",
    "df_train = df_train[~filter]"
   ]
  },
  {
   "cell_type": "markdown",
   "metadata": {
    "id": "nUmb4A8bASPg"
   },
   "source": [
    "## 6. Creación y eliminación de columnas"
   ]
  },
  {
   "cell_type": "markdown",
   "metadata": {
    "id": "0akOwJPPfjMd"
   },
   "source": [
    "### 6.1 Crear una nueva columna como combinación de otras"
   ]
  },
  {
   "cell_type": "code",
   "execution_count": 33,
   "metadata": {
    "id": "XHi27mNOfmDy"
   },
   "outputs": [],
   "source": [
    "  #La columna nueva se llamará total_nights y será la suma de stays_in_weekend_nights y stays_in_week_nights\n",
    "  df_train['total_nights'] = df_train['stays_in_weekend_nights']+df_train['stays_in_week_nights']"
   ]
  },
  {
   "cell_type": "markdown",
   "metadata": {
    "id": "trQrtkSDfz9R"
   },
   "source": [
    "### 6.2 Eliminar una columna"
   ]
  },
  {
   "cell_type": "code",
   "execution_count": null,
   "metadata": {
    "collapsed": true,
    "id": "CWvKou5tfzmg"
   },
   "outputs": [],
   "source": [
    "df_train.drop(\"stays_in_week_nights\", axis = 1, inplace = True)\n",
    "df_train.drop(\"stays_in_weekend_nights\", axis = 1, inplace = True)\n"
   ]
  },
  {
   "cell_type": "markdown",
   "metadata": {
    "id": "ep56GLk3f_oS"
   },
   "source": [
    "## 7. Identificar variables categoricas y numéricas"
   ]
  },
  {
   "cell_type": "code",
   "execution_count": null,
   "metadata": {
    "colab": {
     "base_uri": "https://localhost:8080/"
    },
    "collapsed": true,
    "id": "YUqZjS8pgJpa",
    "outputId": "c51bcd68-c5cf-42c0-922d-21e106500d75"
   },
   "outputs": [
    {
     "name": "stdout",
     "output_type": "stream",
     "text": [
      "Variables categoricas ['hotel', 'arrival_date_month', 'meal', 'country', 'market_segment', 'distribution_channel', 'reserved_room_type', 'assigned_room_type', 'deposit_type', 'customer_type', 'reservation_status', 'reservation_status_date']\n",
      "Variables NO categoricas ['is_canceled', 'lead_time', 'arrival_date_year', 'arrival_date_week_number', 'arrival_date_day_of_month', 'adults', 'children', 'babies', 'is_repeated_guest', 'previous_cancellations', 'previous_bookings_not_canceled', 'booking_changes', 'agent', 'company', 'days_in_waiting_list', 'adr', 'required_car_parking_spaces', 'total_of_special_requests', 'total_nights']\n"
     ]
    }
   ],
   "source": [
    "#se busca aquellas cuyo dtypes sea object, esas serán las variables categóricas\n",
    "categorical = list(df_train.dtypes[df_train.dtypes == 'object'].index)\n",
    "numerical = list(df_train.dtypes[df_train.dtypes != 'object'].index)\n",
    "\n",
    "print(\"Variables categoricas\", categorical)\n",
    "print(\"Variables NO categoricas\", numerical)"
   ]
  },
  {
   "cell_type": "markdown",
   "metadata": {
    "id": "b5voLLZAasl7"
   },
   "source": [
    "## 8. Las características deben estar en la misma escala"
   ]
  },
  {
   "cell_type": "code",
   "execution_count": null,
   "metadata": {
    "collapsed": true,
    "id": "PmWZKAd3QvPI"
   },
   "outputs": [],
   "source": [
    "df_train = pd.read_csv('../DATASETS/Reservas/bookings.csv', delimiter=',')"
   ]
  },
  {
   "cell_type": "markdown",
   "metadata": {
    "id": "Dmtmw-o6_RMm"
   },
   "source": [
    "La mayoría de los algoritmos de aprendizaje automático que vamos a ver se comportan mucho mejor si las características están en la misma escala.\n",
    "\n",
    "Hay dos enfoques clásicos para expresar las diferentes características en la misma escala: **normalización** y **estandarización**. Estos términos se utilizan a menudo de forma bastante imprecisa en diferentes campos, y su significado debe deducirse del contexto."
   ]
  },
  {
   "cell_type": "markdown",
   "metadata": {
    "id": "sePcywd-lL5-"
   },
   "source": [
    "### 8.1 Normalización\n",
    "\n",
    "En la mayoría de los casos, la normalización se refiere al cambio de escala de características a un rango de [0,1], que es un caso especial de escala mínima-máxima. Para normalizar nuestros datos, podemos aplicar la escala mínima-máxima a cada columna de características donde el nuevo valor, se puede calcular como sigue:\n",
    "\n",
    "$x^i_{norm} = \\frac{x^i-x_{min}}{x_{max}-x_{min}}$\n",
    "\n",
    "En python podemos realizar la normalización de la siguiente forma."
   ]
  },
  {
   "cell_type": "code",
   "execution_count": null,
   "metadata": {
    "colab": {
     "base_uri": "https://localhost:8080/"
    },
    "collapsed": true,
    "id": "6y6z2strQL6n",
    "outputId": "28ddc75c-36a8-45fc-80b5-27b8744cdc46"
   },
   "outputs": [
    {
     "data": {
      "text/plain": [
       "count    119390.000000\n",
       "mean          0.141128\n",
       "std           0.144997\n",
       "min           0.000000\n",
       "25%           0.024423\n",
       "50%           0.093623\n",
       "75%           0.217096\n",
       "max           1.000000\n",
       "Name: lead_time, dtype: float64"
      ]
     },
     "execution_count": 43,
     "metadata": {},
     "output_type": "execute_result"
    }
   ],
   "source": [
    "from sklearn.preprocessing import MinMaxScaler\n",
    "\n",
    "#normalización de una columna concreta\n",
    "scaler = MinMaxScaler()                                             #se normalizará al rango [0,1]\n",
    "data_normalized = scaler.fit_transform(df_train[['lead_time']])     #el array contendrá las columnas a normalizar\n",
    "df_train['lead_time'] = data_normalized\n",
    "df_train['lead_time'].describe()"
   ]
  },
  {
   "cell_type": "markdown",
   "metadata": {
    "id": "b8ZgmXaIlOfI",
    "outputId": "2be84119-e07f-4df0-9ad3-40ef7706531e"
   },
   "source": [
    "En el caso de querer normalizar el dataset completo se podría hacer con el siguiente código. ¡OJO! en este caso no funcionará porque existen atributos categóricos (no numéricos).\n",
    "\n",
    "```python\n",
    "from sklearn.preprocessing import MinMaxScaler\n",
    "\n",
    "#se normalizará al rango [0,1]\n",
    "scaler = MinMaxScaler()       \n",
    "#has tenido que transformar antes las variables categóricas a numéricas\n",
    "data_normalized = scaler.fit_transform(df_train)                        \n",
    "df_train = pd.DataFrame(data_normalized, columns= df_train.columns)\n",
    "```"
   ]
  },
  {
   "cell_type": "markdown",
   "metadata": {
    "id": "0R6ONDJ4_RMn"
   },
   "source": [
    "### 8.2 Estandarización\n",
    "\n",
    "Aunque la normalización a través del mínimo y el máximo es una técinca que se utiliza frecuentemente y que es útil cuando necesitamos valores que se encuentren en un intervalo actoado, la estandarización puede ser más práctica para muchos algoritmos de aprendizaje automático. Cuando utilizamos estandarización centramos las columnas de características en la media 0 con desviación estándar 1 para que tenga los mismos parámetros que una distribución normal estándar. Sin embargo, es importante destacar que la estandarización conserva información util sobre valores atípicos y hace que el algoritmo sea menos sensible a ellos, en contraste con el escalado de mínimo y máximo. El procedimiento de estandarización puede expresarse de la siguiente forma:\n",
    "\n",
    "$x^i_{std} = \\frac{x^i-media_x}{desviacion_x}$\n",
    "\n",
    "En python podemos realizar la estandarización de la siguiente forma."
   ]
  },
  {
   "cell_type": "code",
   "execution_count": null,
   "metadata": {
    "collapsed": true,
    "id": "FS2uXDIg_RMn",
    "outputId": "8d42bc42-8749-495b-a63e-13561c556f7e"
   },
   "outputs": [
    {
     "data": {
      "text/plain": [
       "count    1.193900e+05\n",
       "mean    -2.094908e-17\n",
       "std      1.000004e+00\n",
       "min     -9.733187e-01\n",
       "25%     -8.048782e-01\n",
       "50%     -3.276301e-01\n",
       "75%      5.239303e-01\n",
       "max      5.923385e+00\n",
       "Name: lead_time, dtype: float64"
      ]
     },
     "execution_count": 44,
     "metadata": {},
     "output_type": "execute_result"
    }
   ],
   "source": [
    "from sklearn.preprocessing import StandardScaler\n",
    "\n",
    "#normalización de una columna concreta\n",
    "scaler = StandardScaler()                                             #se normalizará al rango [0,1]\n",
    "data_std = scaler.fit_transform(df_train[['lead_time']])     #el array contendrá las columnas a normalizar\n",
    "df_train['lead_time'] = data_std\n",
    "df_train['lead_time'].describe() # se puede ver la media aproximadamente 0 y std aproximadamente 1"
   ]
  },
  {
   "cell_type": "markdown",
   "metadata": {
    "id": "dhf-CO-x_RMn"
   },
   "source": [
    "## 8.3 Pequeña comparativa entre estandarización y normalización con mínimo y máximo"
   ]
  },
  {
   "cell_type": "markdown",
   "metadata": {
    "id": "x0dkr-bT_RMn"
   },
   "source": [
    "El siguiente código muestra la diferencia entre las dos técnicas de escalado de características más utilizadas, la normalización y la estandarización, en un sencillo conjunto de datos de ejemplo compuesto por números del 0 al 5."
   ]
  },
  {
   "cell_type": "code",
   "execution_count": 34,
   "metadata": {
    "id": "L_H9hA9b_RMn",
    "outputId": "48e20e55-fc17-4c29-df9a-97bd3f4a4b2b"
   },
   "outputs": [
    {
     "name": "stdout",
     "output_type": "stream",
     "text": [
      "standarized: [-1.46385011 -0.87831007 -0.29277002  0.29277002  0.87831007  1.46385011]\n",
      "normailzed: [0.  0.2 0.4 0.6 0.8 1. ]\n"
     ]
    }
   ],
   "source": [
    "ex = np.array([0,1,2,3,4,5])\n",
    "\n",
    "print('standarized:', (ex - ex.mean()) / ex.std())\n",
    "print('normailzed:', (ex - ex.min()) / (ex.max()-ex.min()))"
   ]
  },
  {
   "cell_type": "markdown",
   "metadata": {
    "id": "pcUO-eZK_RMn"
   },
   "source": [
    "## 9. División del dataset\n",
    "\n",
    "Una forma práctica de dividir aleatoriamente este conjunto de datos en conjuntos de datos de prueba y de entrenamiento separados es utilizar la función `train_test_split` del submódulo `model_selection` de Scikit-learn:"
   ]
  },
  {
   "cell_type": "code",
   "execution_count": null,
   "metadata": {
    "id": "sc2lt5r7_RMn"
   },
   "outputs": [],
   "source": [
    "from sklearn.model_selection import train_test_split\n",
    "\n",
    "#descargo los datos\n",
    "y = df_train['is_canceled'] #columna de clasificación\n",
    "X = df_train.drop('is_canceled', axis=1) #resto de columnas\n",
    "\n",
    "X_train, X_test, y_train, y_test = train_test_split(X, y,\n",
    "                                                    train_size=0.8, #utilizaremos un 80% para entrenamiento\n",
    "                                                    shuffle=True,\n",
    "                                                    random_state=1)"
   ]
  }
 ],
 "metadata": {
  "colab": {
   "collapsed_sections": [
    "-wVJm3ZycO5X",
    "QvlBWrpxfNZn",
    "0akOwJPPfjMd",
    "trQrtkSDfz9R",
    "ep56GLk3f_oS",
    "9ftSVtzug0Fp"
   ],
   "provenance": [],
   "toc_visible": true
  },
  "kernelspec": {
   "display_name": "Python 3 (ipykernel)",
   "language": "python",
   "name": "python3"
  },
  "language_info": {
   "codemirror_mode": {
    "name": "ipython",
    "version": 3
   },
   "file_extension": ".py",
   "mimetype": "text/x-python",
   "name": "python",
   "nbconvert_exporter": "python",
   "pygments_lexer": "ipython3",
   "version": "3.10.9"
  }
 },
 "nbformat": 4,
 "nbformat_minor": 1
}
