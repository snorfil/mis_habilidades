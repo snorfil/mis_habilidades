{
  "cells": [
    {
      "cell_type": "markdown",
      "metadata": {
        "id": "QBmeRj3pi_kb"
      },
      "source": [
        "# Manipulación de datos (Ejercicios 1)"
      ]
    },
    {
      "cell_type": "code",
      "execution_count": null,
      "metadata": {
        "id": "Y1GTGVT6S8S1"
      },
      "outputs": [],
      "source": [
        "from sklearn.datasets import load_iris\n",
        "df_iris = load_iris(as_frame=True).frame\n",
        "df_iris.head()"
      ]
    },
    {
      "cell_type": "markdown",
      "metadata": {
        "id": "mIjx59KSTN0o"
      },
      "source": [
        "**Ejercicio 1.** Visualiza las primeras 10 ocurrencias del dataset."
      ]
    },
    {
      "cell_type": "code",
      "execution_count": null,
      "metadata": {
        "id": "btICyqiWc8kY"
      },
      "outputs": [],
      "source": [
        "from sklearn.datasets import load_iris\n",
        "\n",
        "# Cargar el dataset Iris\n",
        "df_iris = load_iris(as_frame=True).frame\n",
        "\n",
        "# Visualizar las primeras 10 ocurrencias\n",
        "df_iris.head(10)"
      ]
    },
    {
      "cell_type": "markdown",
      "metadata": {
        "id": "oMX6EMUoWFPE"
      },
      "source": [
        "**Ejercicio 2.** Muestra información general del dataset como el número de entradas, el nombre de las columnas, el número de nulos, y el tipo de cada columna. *Utliza únicamente una función*"
      ]
    },
    {
      "cell_type": "code",
      "execution_count": null,
      "metadata": {
        "id": "3SsXGiIgTOlw"
      },
      "outputs": [],
      "source": [
        "# Mostrar información general del dataset\n",
        "df_iris.info()"
      ]
    },
    {
      "cell_type": "markdown",
      "metadata": {
        "id": "6Pf6HjKIWFPG"
      },
      "source": [
        "**Ejercicio 3.** En la columna target, el número 0 corresponde a la etiqueta 'setosa', el 1 a 'versicolor' y el 2 a 'virginica'. Modifica el dataset para que aparezcan los nombres en vez de los números."
      ]
    },
    {
      "cell_type": "code",
      "execution_count": null,
      "metadata": {
        "id": "9BSw68grWFPG"
      },
      "outputs": [],
      "source": [
        "# Mostrar el resumen estadístico del dataset\n",
        "df_iris.describe()\n",
        "# Renombrar las columnas\n",
        "df_iris_renamed = df_iris.rename(columns={\n",
        "    'sepal length (cm)': 'longitud_sépalo_cm',\n",
        "    'sepal width (cm)': 'ancho_sépalo_cm',\n",
        "    'petal length (cm)': 'longitud_pétalo_cm',\n",
        "    'petal width (cm)': 'ancho_pétalo_cm',\n",
        "    'target': 'objetivo'\n",
        "})\n",
        "\n",
        "df_iris_renamed.head()\n"
      ]
    },
    {
      "cell_type": "markdown",
      "metadata": {
        "id": "Ty-JoJABWFPH"
      },
      "source": [
        "**Ejercicio 4.** Utilizando LabelEncoder transforma la columna target a valores numéricos."
      ]
    },
    {
      "cell_type": "code",
      "execution_count": null,
      "metadata": {
        "id": "Lyl8tV4LWFPH"
      },
      "outputs": [],
      "source": [
        "from sklearn.preprocessing import LabelEncoder\n",
        "\n",
        "# Inicializar LabelEncoder\n",
        "label_encoder = LabelEncoder()\n",
        "\n",
        "# Transformar las etiquetas numéricas a nominativas\n",
        "df_iris_renamed['especie_nominativa'] = label_encoder.fit_transform(df_iris_renamed['objetivo'])\n",
        "\n",
        "# Mostrar las primeras filas con la columna transformada\n",
        "df_iris_renamed[['objetivo', 'especie_nominativa']].head()\n",
        "\n",
        "# Invertir la transformación de vuelta a números\n",
        "df_iris_renamed['especie_numérica'] = label_encoder.inverse_transform(df_iris_renamed['especie_nominativa'])\n",
        "\n",
        "# Mostrar las primeras filas con la columna revertida\n",
        "df_iris_renamed[['objetivo', 'especie_nominativa', 'especie_numérica']].head()\n"
      ]
    },
    {
      "cell_type": "markdown",
      "source": [
        "### Explicación del Código\n",
        "Transformar etiquetas numéricas a nominativas: Utilizamos LabelEncoder para convertir la columna objetivo (que contiene números) a etiquetas nominativas. Esto se guarda en una nueva columna especie_nominativa.\n",
        "Revertir la transformación a números: Utilizamos de nuevo LabelEncoder para convertir las etiquetas nominativas de vuelta a sus valores numéricos originales. Esto se guarda en una nueva columna especie_numérica.\n",
        "Este código asegurará que las transformaciones se realicen correctamente y puedes verificar los resultados mostrando las primeras filas del DataFrame."
      ],
      "metadata": {
        "id": "BBMSr6AdWrmy"
      }
    },
    {
      "cell_type": "code",
      "execution_count": null,
      "metadata": {
        "id": "bc7WScQpWFPI"
      },
      "outputs": [],
      "source": []
    },
    {
      "cell_type": "markdown",
      "metadata": {
        "id": "j99aZtrOWFPJ"
      },
      "source": [
        "**Ejercicio 5.** Utilizando LabelEncoder vuelve a transformarlo en características nominativas. Posteriormente, dejalo con números otra vez.  "
      ]
    },
    {
      "cell_type": "code",
      "execution_count": null,
      "metadata": {
        "id": "ksMlFI5FWFPJ"
      },
      "outputs": [],
      "source": [
        "from sklearn.preprocessing import LabelEncoder\n",
        "\n",
        "# Inicializar LabelEncoder\n",
        "label_encoder = LabelEncoder()\n",
        "\n",
        "# Transformar las etiquetas numéricas a nominativas\n",
        "df_iris_renamed['especie_nominativa'] = label_encoder.fit_transform(df_iris_renamed['objetivo'])\n",
        "\n",
        "# Mostrar las primeras filas con la columna transformada a nominativas\n",
        "print(\"Transformación a nominativas:\")\n",
        "print(df_iris_renamed[['objetivo', 'especie_nominativa']].head())\n",
        "\n",
        "# Invertir la transformación de vuelta a números\n",
        "df_iris_renamed['especie_numerica'] = label_encoder.inverse_transform(df_iris_renamed['especie_nominativa'])\n",
        "\n",
        "# Mostrar las primeras filas con la columna revertida a números\n",
        "print(\"\\nReversión a números:\")\n",
        "print(df_iris_renamed[['objetivo', 'especie_nominativa', 'especie_numerica']].head())\n",
        "\n"
      ]
    },
    {
      "cell_type": "markdown",
      "source": [
        "#### Explicación del Código\n",
        "Transformar etiquetas numéricas a nominativas:\n",
        "\n",
        "Utilizamos LabelEncoder para convertir la columna objetivo (que contiene números) a etiquetas nominativas.\n",
        "Guardamos esta transformación en una nueva columna especie_nominativa.\n",
        "Revertir la transformación a números:\n",
        "\n",
        "Utilizamos de nuevo LabelEncoder para convertir las etiquetas nominativas de vuelta a sus valores numéricos originales.\n",
        "Guardamos esta transformación en una nueva columna especie_numerica.\n",
        "Imprimir resultados:\n",
        "\n",
        "Mostramos las primeras filas del DataFrame con las columnas objetivo, especie_nominativa, y especie_numerica para verificar que las transformaciones se han realizado correctamente."
      ],
      "metadata": {
        "id": "fQwH5DczW6Ii"
      }
    },
    {
      "cell_type": "markdown",
      "metadata": {
        "id": "YUoBeviaWFPL"
      },
      "source": [
        "**Ejercicio 6.** Comprueba el número de ocurrencias de cada uno de los valores de la característica *target*."
      ]
    },
    {
      "cell_type": "code",
      "execution_count": null,
      "metadata": {
        "id": "q9D7qpgfWFPM"
      },
      "outputs": [],
      "source": [
        "# Contar el número de ocurrencias de cada uno de los valores de la característica target\n",
        "ocurrencias_target = df_iris['target'].value_counts()\n",
        "\n",
        "# Mostrar los resultados\n",
        "ocurrencias_target\n"
      ]
    },
    {
      "cell_type": "markdown",
      "metadata": {
        "id": "38tEhqAuWFPM"
      },
      "source": [
        "**Ejercicio 7.** Identifica aquellas columnas que tengan algún valor nulo."
      ]
    },
    {
      "cell_type": "code",
      "execution_count": null,
      "metadata": {
        "id": "Mv129Ei9WFPN"
      },
      "outputs": [],
      "source": [
        "# Identificar columnas con valores nulos\n",
        "columnas_con_nulos = df_iris_renamed.isnull().sum()\n",
        "\n",
        "# Filtrar sólo aquellas columnas que tienen valores nulos\n",
        "columnas_con_nulos = columnas_con_nulos[columnas_con_nulos > 0]\n",
        "\n",
        "# Mostrar los resultados\n",
        "columnas_con_nulos\n"
      ]
    },
    {
      "cell_type": "markdown",
      "metadata": {
        "id": "0akOwJPPfjMd"
      },
      "source": [
        "**Ejercicio 8.** Crea una columna llamada 'sepal total' que contenga el resultado de multiplicar 'sepal length' por 'sepal width'"
      ]
    },
    {
      "cell_type": "code",
      "execution_count": null,
      "metadata": {
        "id": "XHi27mNOfmDy"
      },
      "outputs": [],
      "source": [
        "# Crear la columna 'sepal_total' multiplicando 'sepal length (cm)' por 'sepal width (cm)'\n",
        "df_iris_renamed['sepal_total'] = df_iris_renamed['longitud_sépalo_cm'] * df_iris_renamed['ancho_sépalo_cm']\n",
        "\n",
        "# Mostrar las primeras filas del DataFrame con la nueva columna\n",
        "df_iris_renamed[['longitud_sépalo_cm', 'ancho_sépalo_cm', 'sepal_total']].head()\n"
      ]
    },
    {
      "cell_type": "markdown",
      "metadata": {
        "id": "trQrtkSDfz9R"
      },
      "source": [
        "**Ejercicio 9.** Elimina la columna que hemos creado anteriormente."
      ]
    },
    {
      "cell_type": "code",
      "execution_count": null,
      "metadata": {
        "id": "CWvKou5tfzmg"
      },
      "outputs": [],
      "source": [
        "# Eliminar la columna 'sepal_total'\n",
        "df_iris_renamed.drop(columns=['sepal_total'], inplace=True)\n",
        "\n",
        "# Verificar que la columna ha sido eliminada mostrando las primeras filas del DataFrame\n",
        "df_iris_renamed.head()\n"
      ]
    },
    {
      "cell_type": "markdown",
      "metadata": {
        "id": "K_bLpeXOWFPO"
      },
      "source": [
        "**Ejercicio 10.** Normaliza entre 0 y 1 los valores de todas las columnas. No modifiques el anterior dataframe, y crea uno nuevo indicando que está normalizado, por ejemplo con el nombre 'df_iris_normalizado'"
      ]
    },
    {
      "cell_type": "code",
      "execution_count": null,
      "metadata": {
        "id": "TvSPu88EWFPO"
      },
      "outputs": [],
      "source": [
        "from sklearn.preprocessing import MinMaxScaler\n",
        "\n",
        "# Inicializar el escalador MinMaxScaler\n",
        "scaler = MinMaxScaler()\n",
        "\n",
        "# Seleccionar las columnas que queremos normalizar (todas menos 'objetivo')\n",
        "columnas_a_normalizar = df_iris_renamed.columns.difference(['objetivo', 'especie_nominativa', 'especie_numérica'])\n",
        "\n",
        "# Aplicar el escalador a las columnas seleccionadas\n",
        "df_iris_normalizado = df_iris_renamed.copy()\n",
        "df_iris_normalizado[columnas_a_normalizar] = scaler.fit_transform(df_iris_renamed[columnas_a_normalizar])\n",
        "\n",
        "# Mostrar las primeras filas del nuevo DataFrame normalizado\n",
        "df_iris_normalizado.head()\n"
      ]
    },
    {
      "cell_type": "markdown",
      "metadata": {
        "id": "IwnGZ2DBWFPP"
      },
      "source": [
        "**Ejercicio 11.** Estandariza los valores de todas las columnas. No modifiques el anterior dataframe, y crea uno nuevo indicando que está estandarizado, por ejemplo con el nombre 'df_iris_estandarizado'"
      ]
    },
    {
      "cell_type": "code",
      "execution_count": null,
      "metadata": {
        "id": "MpRjYMsDWFPP"
      },
      "outputs": [],
      "source": [
        "from sklearn.preprocessing import StandardScaler\n",
        "\n",
        "# Inicializar el StandardScaler\n",
        "scaler = StandardScaler()\n",
        "\n",
        "# Estandarizar los valores\n",
        "df_iris_estandarizado = df_iris_renamed.copy()\n",
        "df_iris_estandarizado[columnas_numericas] = scaler.fit_transform(df_iris_renamed[columnas_numericas])\n",
        "\n",
        "# Mostrar las primeras filas del DataFrame estandarizado\n",
        "df_iris_estandarizado.head()\n"
      ]
    },
    {
      "cell_type": "markdown",
      "metadata": {
        "id": "9YqLO2XLWFPP"
      },
      "source": [
        "**Ejercicio 10.** Describe las variables del dataframe sin normalizar, del dataframe normalizado y del dataframe standarizado."
      ]
    },
    {
      "cell_type": "code",
      "execution_count": null,
      "metadata": {
        "id": "6y6z2strQL6n"
      },
      "outputs": [],
      "source": []
    }
  ],
  "metadata": {
    "colab": {
      "provenance": []
    },
    "kernelspec": {
      "display_name": "Python 3 (ipykernel)",
      "language": "python",
      "name": "python3"
    },
    "language_info": {
      "codemirror_mode": {
        "name": "ipython",
        "version": 3
      },
      "file_extension": ".py",
      "mimetype": "text/x-python",
      "name": "python",
      "nbconvert_exporter": "python",
      "pygments_lexer": "ipython3",
      "version": "3.10.9"
    }
  },
  "nbformat": 4,
  "nbformat_minor": 0
}