{
 "cells": [
  {
   "cell_type": "markdown",
   "metadata": {
    "id": "QBmeRj3pi_kb"
   },
   "source": [
    "# Manipulación de datos (preprocesamiento)\n"
   ]
  },
  {
   "cell_type": "markdown",
   "metadata": {
    "id": "mIjx59KSTN0o"
   },
   "source": [
    "**Ejercicio 1.** Descarga del aula virtual el dataset y crea un dataframe llamado df_diabetes para trabajar con el.  "
   ]
  },
  {
   "cell_type": "code",
   "execution_count": null,
   "metadata": {
    "colab": {
     "base_uri": "https://localhost:8080/",
     "height": 282
    },
    "id": "btICyqiWc8kY",
    "outputId": "94206444-dc82-45a7-8d5d-b0a8dd9c378c"
   },
   "outputs": [],
   "source": []
  },
  {
   "cell_type": "markdown",
   "metadata": {},
   "source": [
    "**Ejercicio 2.** Obten una lista de todas las columnas que tiene."
   ]
  },
  {
   "cell_type": "code",
   "execution_count": null,
   "metadata": {
    "colab": {
     "base_uri": "https://localhost:8080/"
    },
    "id": "3SsXGiIgTOlw",
    "outputId": "329476ce-b362-4dc1-a2e4-9ce53c53e50d"
   },
   "outputs": [],
   "source": []
  },
  {
   "cell_type": "markdown",
   "metadata": {},
   "source": [
    "**Ejercicio 3.** Identifica qué columas con categóricas y cuales numéricas"
   ]
  },
  {
   "cell_type": "code",
   "execution_count": null,
   "metadata": {},
   "outputs": [],
   "source": []
  },
  {
   "cell_type": "markdown",
   "metadata": {},
   "source": [
    "**Ejercicio 4.** De la lista de columnas categóricas identifica de qué tipo son: ordinales o nominales. "
   ]
  },
  {
   "cell_type": "code",
   "execution_count": null,
   "metadata": {},
   "outputs": [],
   "source": []
  },
  {
   "cell_type": "markdown",
   "metadata": {},
   "source": [
    "**Ejercicio 5.** Estamos interesados en transformar las columnas categóricas a numéricas. Implementa dicha transformación teniendo en cuenta que 'smoking_history' es considerado como una variable categórica ordinal. "
   ]
  },
  {
   "cell_type": "code",
   "execution_count": null,
   "metadata": {},
   "outputs": [],
   "source": []
  },
  {
   "cell_type": "markdown",
   "metadata": {},
   "source": [
    "**Ejercicio 6.** Elimina aquellas ocurrencias en las que el genero no sea ni femenino ni masculino. Antes de eliminarlas identifica qué porcentaje de todas las ocurrencias vas a eliminar. "
   ]
  },
  {
   "cell_type": "code",
   "execution_count": null,
   "metadata": {},
   "outputs": [],
   "source": []
  },
  {
   "cell_type": "code",
   "execution_count": null,
   "metadata": {},
   "outputs": [],
   "source": []
  },
  {
   "cell_type": "markdown",
   "metadata": {},
   "source": [
    "**Ejercicio 7.** La columnas a predecir se llama diabetes, identifica qué valores diferentes toma. "
   ]
  },
  {
   "cell_type": "code",
   "execution_count": null,
   "metadata": {
    "colab": {
     "base_uri": "https://localhost:8080/",
     "height": 314
    },
    "id": "f4wbULBPUsgJ",
    "outputId": "4404f351-c86f-4012-bccf-3bcaf530b917"
   },
   "outputs": [],
   "source": []
  },
  {
   "cell_type": "markdown",
   "metadata": {
    "id": "QvlBWrpxfNZn"
   },
   "source": [
    "**Ejercicio 8.** Identifica si el dataset está balanceado de acuerdo al número de personas con género masculino y femenino. Consideraremos que está balanceado si ninguno de ellos supera el 60% del total de ocurrencias. **No hace falta que lo balancees.** "
   ]
  },
  {
   "cell_type": "code",
   "execution_count": null,
   "metadata": {
    "id": "uj5dYnW7fRDl"
   },
   "outputs": [],
   "source": []
  },
  {
   "cell_type": "markdown",
   "metadata": {
    "id": "ep56GLk3f_oS"
   },
   "source": [
    "**Ejercicio 9.** Identifica si el dataset está balanceado de acuerdo a la variable a predecir. "
   ]
  },
  {
   "cell_type": "code",
   "execution_count": null,
   "metadata": {
    "colab": {
     "base_uri": "https://localhost:8080/"
    },
    "id": "YUqZjS8pgJpa",
    "outputId": "c51bcd68-c5cf-42c0-922d-21e106500d75"
   },
   "outputs": [],
   "source": []
  },
  {
   "cell_type": "markdown",
   "metadata": {},
   "source": [
    "**Ejercicio 10.** Balancea el dataset de acuerdo a la variable a predecir. El balanceamiento lo debes hacer de tal forma que el número de ocurrencias sea un valor intermedio entre el que más tiene y el que menos. "
   ]
  },
  {
   "cell_type": "code",
   "execution_count": null,
   "metadata": {},
   "outputs": [],
   "source": []
  },
  {
   "cell_type": "code",
   "execution_count": null,
   "metadata": {},
   "outputs": [],
   "source": []
  },
  {
   "cell_type": "markdown",
   "metadata": {
    "id": "sePcywd-lL5-"
   },
   "source": [
    "**Ejercicio 11.** Identifica aquellas columnas que tengan más del 3% de sus ocurrencias con valores nulos. "
   ]
  },
  {
   "cell_type": "code",
   "execution_count": null,
   "metadata": {
    "colab": {
     "base_uri": "https://localhost:8080/"
    },
    "id": "6y6z2strQL6n",
    "outputId": "28ddc75c-36a8-45fc-80b5-27b8744cdc46"
   },
   "outputs": [],
   "source": []
  },
  {
   "cell_type": "code",
   "execution_count": null,
   "metadata": {},
   "outputs": [],
   "source": []
  },
  {
   "cell_type": "markdown",
   "metadata": {},
   "source": [
    "**Ejercicio 12.** Completa los valores nulos de la columna smoking_history con el valor 0. "
   ]
  },
  {
   "cell_type": "code",
   "execution_count": null,
   "metadata": {},
   "outputs": [],
   "source": []
  },
  {
   "cell_type": "markdown",
   "metadata": {},
   "source": [
    "**Ejercicio 13.** Mostrar aquellas ocurrencias que la hipertension sea 0, que el bmi se encuentre entre 7 y 103, que el blood_glucose_level se encuentre entre 100 y 159, y que sea hombre de menos de 30 años que sufra de alguna enfermedad del corazón. \n",
    "\n",
    "OJO. Únicamente muestralas, no hace falta que modifiques el dataset."
   ]
  },
  {
   "cell_type": "code",
   "execution_count": null,
   "metadata": {},
   "outputs": [],
   "source": []
  },
  {
   "cell_type": "markdown",
   "metadata": {},
   "source": [
    "**Ejercicio 14**. Divide el dataset en 3 grupos, el primero será el conjunto de entrenamiento y tendrá el 75% de las ocurrencias, el segundo será el conjunto de test con un 15% de las ocurrencias y finalmente el último con un 10% será el conjunto de validación. "
   ]
  },
  {
   "cell_type": "code",
   "execution_count": null,
   "metadata": {},
   "outputs": [],
   "source": []
  },
  {
   "cell_type": "markdown",
   "metadata": {},
   "source": [
    "**Ejercicio 15**. Comprobar que los tamaños de los datasets concuerdan con el enunciado que he indicado anteriormente. "
   ]
  },
  {
   "cell_type": "code",
   "execution_count": null,
   "metadata": {},
   "outputs": [],
   "source": []
  }
 ],
 "metadata": {
  "colab": {
   "collapsed_sections": [
    "-wVJm3ZycO5X",
    "QvlBWrpxfNZn",
    "0akOwJPPfjMd",
    "trQrtkSDfz9R",
    "ep56GLk3f_oS",
    "9ftSVtzug0Fp"
   ],
   "provenance": [],
   "toc_visible": true
  },
  "kernelspec": {
   "display_name": "Python 3 (ipykernel)",
   "language": "python",
   "name": "python3"
  },
  "language_info": {
   "codemirror_mode": {
    "name": "ipython",
    "version": 3
   },
   "file_extension": ".py",
   "mimetype": "text/x-python",
   "name": "python",
   "nbconvert_exporter": "python",
   "pygments_lexer": "ipython3",
   "version": "3.10.9"
  }
 },
 "nbformat": 4,
 "nbformat_minor": 1
}
