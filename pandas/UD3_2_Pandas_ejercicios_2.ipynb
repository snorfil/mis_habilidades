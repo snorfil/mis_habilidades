{
  "cells": [
    {
      "cell_type": "code",
      "execution_count": 1,
      "metadata": {
        "colab": {
          "base_uri": "https://localhost:8080/",
          "height": 238
        },
        "id": "-bpivfJzOxIi",
        "outputId": "64ff3380-2d04-4285-cad4-4aea62498f53"
      },
      "outputs": [
        {
          "output_type": "execute_result",
          "data": {
            "text/plain": [
              "            city  year  population\n",
              "one       Mumbai  2010        10.0\n",
              "two       Mumbai  2011        10.1\n",
              "three     Mumbai  2012        10.2\n",
              "four   Hyderabad  2010         5.2\n",
              "five   Hyderabad  2011         5.3\n",
              "six    Hyderabad  2012         5.5"
            ],
            "text/html": [
              "\n",
              "  <div id=\"df-39c8df01-4477-4064-9bc4-c97014368c35\" class=\"colab-df-container\">\n",
              "    <div>\n",
              "<style scoped>\n",
              "    .dataframe tbody tr th:only-of-type {\n",
              "        vertical-align: middle;\n",
              "    }\n",
              "\n",
              "    .dataframe tbody tr th {\n",
              "        vertical-align: top;\n",
              "    }\n",
              "\n",
              "    .dataframe thead th {\n",
              "        text-align: right;\n",
              "    }\n",
              "</style>\n",
              "<table border=\"1\" class=\"dataframe\">\n",
              "  <thead>\n",
              "    <tr style=\"text-align: right;\">\n",
              "      <th></th>\n",
              "      <th>city</th>\n",
              "      <th>year</th>\n",
              "      <th>population</th>\n",
              "    </tr>\n",
              "  </thead>\n",
              "  <tbody>\n",
              "    <tr>\n",
              "      <th>one</th>\n",
              "      <td>Mumbai</td>\n",
              "      <td>2010</td>\n",
              "      <td>10.0</td>\n",
              "    </tr>\n",
              "    <tr>\n",
              "      <th>two</th>\n",
              "      <td>Mumbai</td>\n",
              "      <td>2011</td>\n",
              "      <td>10.1</td>\n",
              "    </tr>\n",
              "    <tr>\n",
              "      <th>three</th>\n",
              "      <td>Mumbai</td>\n",
              "      <td>2012</td>\n",
              "      <td>10.2</td>\n",
              "    </tr>\n",
              "    <tr>\n",
              "      <th>four</th>\n",
              "      <td>Hyderabad</td>\n",
              "      <td>2010</td>\n",
              "      <td>5.2</td>\n",
              "    </tr>\n",
              "    <tr>\n",
              "      <th>five</th>\n",
              "      <td>Hyderabad</td>\n",
              "      <td>2011</td>\n",
              "      <td>5.3</td>\n",
              "    </tr>\n",
              "    <tr>\n",
              "      <th>six</th>\n",
              "      <td>Hyderabad</td>\n",
              "      <td>2012</td>\n",
              "      <td>5.5</td>\n",
              "    </tr>\n",
              "  </tbody>\n",
              "</table>\n",
              "</div>\n",
              "    <div class=\"colab-df-buttons\">\n",
              "\n",
              "  <div class=\"colab-df-container\">\n",
              "    <button class=\"colab-df-convert\" onclick=\"convertToInteractive('df-39c8df01-4477-4064-9bc4-c97014368c35')\"\n",
              "            title=\"Convert this dataframe to an interactive table.\"\n",
              "            style=\"display:none;\">\n",
              "\n",
              "  <svg xmlns=\"http://www.w3.org/2000/svg\" height=\"24px\" viewBox=\"0 -960 960 960\">\n",
              "    <path d=\"M120-120v-720h720v720H120Zm60-500h600v-160H180v160Zm220 220h160v-160H400v160Zm0 220h160v-160H400v160ZM180-400h160v-160H180v160Zm440 0h160v-160H620v160ZM180-180h160v-160H180v160Zm440 0h160v-160H620v160Z\"/>\n",
              "  </svg>\n",
              "    </button>\n",
              "\n",
              "  <style>\n",
              "    .colab-df-container {\n",
              "      display:flex;\n",
              "      gap: 12px;\n",
              "    }\n",
              "\n",
              "    .colab-df-convert {\n",
              "      background-color: #E8F0FE;\n",
              "      border: none;\n",
              "      border-radius: 50%;\n",
              "      cursor: pointer;\n",
              "      display: none;\n",
              "      fill: #1967D2;\n",
              "      height: 32px;\n",
              "      padding: 0 0 0 0;\n",
              "      width: 32px;\n",
              "    }\n",
              "\n",
              "    .colab-df-convert:hover {\n",
              "      background-color: #E2EBFA;\n",
              "      box-shadow: 0px 1px 2px rgba(60, 64, 67, 0.3), 0px 1px 3px 1px rgba(60, 64, 67, 0.15);\n",
              "      fill: #174EA6;\n",
              "    }\n",
              "\n",
              "    .colab-df-buttons div {\n",
              "      margin-bottom: 4px;\n",
              "    }\n",
              "\n",
              "    [theme=dark] .colab-df-convert {\n",
              "      background-color: #3B4455;\n",
              "      fill: #D2E3FC;\n",
              "    }\n",
              "\n",
              "    [theme=dark] .colab-df-convert:hover {\n",
              "      background-color: #434B5C;\n",
              "      box-shadow: 0px 1px 3px 1px rgba(0, 0, 0, 0.15);\n",
              "      filter: drop-shadow(0px 1px 2px rgba(0, 0, 0, 0.3));\n",
              "      fill: #FFFFFF;\n",
              "    }\n",
              "  </style>\n",
              "\n",
              "    <script>\n",
              "      const buttonEl =\n",
              "        document.querySelector('#df-39c8df01-4477-4064-9bc4-c97014368c35 button.colab-df-convert');\n",
              "      buttonEl.style.display =\n",
              "        google.colab.kernel.accessAllowed ? 'block' : 'none';\n",
              "\n",
              "      async function convertToInteractive(key) {\n",
              "        const element = document.querySelector('#df-39c8df01-4477-4064-9bc4-c97014368c35');\n",
              "        const dataTable =\n",
              "          await google.colab.kernel.invokeFunction('convertToInteractive',\n",
              "                                                    [key], {});\n",
              "        if (!dataTable) return;\n",
              "\n",
              "        const docLinkHtml = 'Like what you see? Visit the ' +\n",
              "          '<a target=\"_blank\" href=https://colab.research.google.com/notebooks/data_table.ipynb>data table notebook</a>'\n",
              "          + ' to learn more about interactive tables.';\n",
              "        element.innerHTML = '';\n",
              "        dataTable['output_type'] = 'display_data';\n",
              "        await google.colab.output.renderOutput(dataTable, element);\n",
              "        const docLink = document.createElement('div');\n",
              "        docLink.innerHTML = docLinkHtml;\n",
              "        element.appendChild(docLink);\n",
              "      }\n",
              "    </script>\n",
              "  </div>\n",
              "\n",
              "\n",
              "<div id=\"df-c9d04614-973c-4195-abe3-85b5b59676bd\">\n",
              "  <button class=\"colab-df-quickchart\" onclick=\"quickchart('df-c9d04614-973c-4195-abe3-85b5b59676bd')\"\n",
              "            title=\"Suggest charts\"\n",
              "            style=\"display:none;\">\n",
              "\n",
              "<svg xmlns=\"http://www.w3.org/2000/svg\" height=\"24px\"viewBox=\"0 0 24 24\"\n",
              "     width=\"24px\">\n",
              "    <g>\n",
              "        <path d=\"M19 3H5c-1.1 0-2 .9-2 2v14c0 1.1.9 2 2 2h14c1.1 0 2-.9 2-2V5c0-1.1-.9-2-2-2zM9 17H7v-7h2v7zm4 0h-2V7h2v10zm4 0h-2v-4h2v4z\"/>\n",
              "    </g>\n",
              "</svg>\n",
              "  </button>\n",
              "\n",
              "<style>\n",
              "  .colab-df-quickchart {\n",
              "      --bg-color: #E8F0FE;\n",
              "      --fill-color: #1967D2;\n",
              "      --hover-bg-color: #E2EBFA;\n",
              "      --hover-fill-color: #174EA6;\n",
              "      --disabled-fill-color: #AAA;\n",
              "      --disabled-bg-color: #DDD;\n",
              "  }\n",
              "\n",
              "  [theme=dark] .colab-df-quickchart {\n",
              "      --bg-color: #3B4455;\n",
              "      --fill-color: #D2E3FC;\n",
              "      --hover-bg-color: #434B5C;\n",
              "      --hover-fill-color: #FFFFFF;\n",
              "      --disabled-bg-color: #3B4455;\n",
              "      --disabled-fill-color: #666;\n",
              "  }\n",
              "\n",
              "  .colab-df-quickchart {\n",
              "    background-color: var(--bg-color);\n",
              "    border: none;\n",
              "    border-radius: 50%;\n",
              "    cursor: pointer;\n",
              "    display: none;\n",
              "    fill: var(--fill-color);\n",
              "    height: 32px;\n",
              "    padding: 0;\n",
              "    width: 32px;\n",
              "  }\n",
              "\n",
              "  .colab-df-quickchart:hover {\n",
              "    background-color: var(--hover-bg-color);\n",
              "    box-shadow: 0 1px 2px rgba(60, 64, 67, 0.3), 0 1px 3px 1px rgba(60, 64, 67, 0.15);\n",
              "    fill: var(--button-hover-fill-color);\n",
              "  }\n",
              "\n",
              "  .colab-df-quickchart-complete:disabled,\n",
              "  .colab-df-quickchart-complete:disabled:hover {\n",
              "    background-color: var(--disabled-bg-color);\n",
              "    fill: var(--disabled-fill-color);\n",
              "    box-shadow: none;\n",
              "  }\n",
              "\n",
              "  .colab-df-spinner {\n",
              "    border: 2px solid var(--fill-color);\n",
              "    border-color: transparent;\n",
              "    border-bottom-color: var(--fill-color);\n",
              "    animation:\n",
              "      spin 1s steps(1) infinite;\n",
              "  }\n",
              "\n",
              "  @keyframes spin {\n",
              "    0% {\n",
              "      border-color: transparent;\n",
              "      border-bottom-color: var(--fill-color);\n",
              "      border-left-color: var(--fill-color);\n",
              "    }\n",
              "    20% {\n",
              "      border-color: transparent;\n",
              "      border-left-color: var(--fill-color);\n",
              "      border-top-color: var(--fill-color);\n",
              "    }\n",
              "    30% {\n",
              "      border-color: transparent;\n",
              "      border-left-color: var(--fill-color);\n",
              "      border-top-color: var(--fill-color);\n",
              "      border-right-color: var(--fill-color);\n",
              "    }\n",
              "    40% {\n",
              "      border-color: transparent;\n",
              "      border-right-color: var(--fill-color);\n",
              "      border-top-color: var(--fill-color);\n",
              "    }\n",
              "    60% {\n",
              "      border-color: transparent;\n",
              "      border-right-color: var(--fill-color);\n",
              "    }\n",
              "    80% {\n",
              "      border-color: transparent;\n",
              "      border-right-color: var(--fill-color);\n",
              "      border-bottom-color: var(--fill-color);\n",
              "    }\n",
              "    90% {\n",
              "      border-color: transparent;\n",
              "      border-bottom-color: var(--fill-color);\n",
              "    }\n",
              "  }\n",
              "</style>\n",
              "\n",
              "  <script>\n",
              "    async function quickchart(key) {\n",
              "      const quickchartButtonEl =\n",
              "        document.querySelector('#' + key + ' button');\n",
              "      quickchartButtonEl.disabled = true;  // To prevent multiple clicks.\n",
              "      quickchartButtonEl.classList.add('colab-df-spinner');\n",
              "      try {\n",
              "        const charts = await google.colab.kernel.invokeFunction(\n",
              "            'suggestCharts', [key], {});\n",
              "      } catch (error) {\n",
              "        console.error('Error during call to suggestCharts:', error);\n",
              "      }\n",
              "      quickchartButtonEl.classList.remove('colab-df-spinner');\n",
              "      quickchartButtonEl.classList.add('colab-df-quickchart-complete');\n",
              "    }\n",
              "    (() => {\n",
              "      let quickchartButtonEl =\n",
              "        document.querySelector('#df-c9d04614-973c-4195-abe3-85b5b59676bd button');\n",
              "      quickchartButtonEl.style.display =\n",
              "        google.colab.kernel.accessAllowed ? 'block' : 'none';\n",
              "    })();\n",
              "  </script>\n",
              "</div>\n",
              "    </div>\n",
              "  </div>\n"
            ],
            "application/vnd.google.colaboratory.intrinsic+json": {
              "type": "dataframe",
              "variable_name": "df_ejercicios",
              "summary": "{\n  \"name\": \"df_ejercicios\",\n  \"rows\": 6,\n  \"fields\": [\n    {\n      \"column\": \"city\",\n      \"properties\": {\n        \"dtype\": \"category\",\n        \"num_unique_values\": 2,\n        \"samples\": [\n          \"Hyderabad\",\n          \"Mumbai\"\n        ],\n        \"semantic_type\": \"\",\n        \"description\": \"\"\n      }\n    },\n    {\n      \"column\": \"year\",\n      \"properties\": {\n        \"dtype\": \"number\",\n        \"std\": 0,\n        \"min\": 2010,\n        \"max\": 2012,\n        \"num_unique_values\": 3,\n        \"samples\": [\n          2010,\n          2011\n        ],\n        \"semantic_type\": \"\",\n        \"description\": \"\"\n      }\n    },\n    {\n      \"column\": \"population\",\n      \"properties\": {\n        \"dtype\": \"number\",\n        \"std\": 2.6133630950686255,\n        \"min\": 5.2,\n        \"max\": 10.2,\n        \"num_unique_values\": 6,\n        \"samples\": [\n          10.0,\n          10.1\n        ],\n        \"semantic_type\": \"\",\n        \"description\": \"\"\n      }\n    }\n  ]\n}"
            }
          },
          "metadata": {},
          "execution_count": 1
        }
      ],
      "source": [
        "import pandas as pd\n",
        "data = {'city': ['Mumbai', 'Mumbai', 'Mumbai', 'Hyderabad', 'Hyderabad', 'Hyderabad'],\n",
        "        'year': [2010, 2011, 2012, 2010, 2011, 2012,],\n",
        "        'population': [10.0, 10.1, 10.2, 5.2, 5.3, 5.5]}\n",
        "\n",
        "df_ejercicios = pd.DataFrame(data,index = ['one', 'two', 'three', 'four', 'five', 'six'])\n",
        "df_ejercicios"
      ]
    },
    {
      "cell_type": "markdown",
      "metadata": {
        "id": "uKLU6kjEqAfI"
      },
      "source": [
        "**Ejercicio 1.** Escribe un programa que muestre las 3 primeras filas de df_ejercicios"
      ]
    },
    {
      "cell_type": "code",
      "execution_count": 2,
      "metadata": {
        "id": "pdE7V5vAAzXU",
        "colab": {
          "base_uri": "https://localhost:8080/"
        },
        "outputId": "6ee37ead-b890-4c82-b7c0-bfe8151114dd"
      },
      "outputs": [
        {
          "output_type": "stream",
          "name": "stdout",
          "text": [
            "            city  year  population\n",
            "one       Mumbai  2010        10.0\n",
            "two       Mumbai  2011        10.1\n",
            "three     Mumbai  2012        10.2\n",
            "four   Hyderabad  2010         5.2\n",
            "five   Hyderabad  2011         5.3\n",
            "six    Hyderabad  2012         5.5\n"
          ]
        }
      ],
      "source": [
        "import pandas as pd\n",
        "\n",
        "data = {\n",
        "    'city': ['Mumbai', 'Mumbai', 'Mumbai', 'Hyderabad', 'Hyderabad', 'Hyderabad'],\n",
        "    'year': [2010, 2011, 2012, 2010, 2011, 2012],\n",
        "    'population': [10.0, 10.1, 10.2, 5.2, 5.3, 5.5]\n",
        "}\n",
        "\n",
        "df_ejercicios = pd.DataFrame(data, index=['one', 'two', 'three', 'four', 'five', 'six'])\n",
        "print(df_ejercicios)"
      ]
    },
    {
      "cell_type": "markdown",
      "metadata": {
        "id": "lKoQISrDzX1W"
      },
      "source": [
        "**Ejericicio 2 .** Crea una función que dado un dataframe y el nombre de una columna, muestre los valores de dicha columna."
      ]
    },
    {
      "cell_type": "code",
      "execution_count": 3,
      "metadata": {
        "id": "jkOXvyZVzoTX",
        "colab": {
          "base_uri": "https://localhost:8080/"
        },
        "outputId": "ec87c0eb-7e4e-496a-f1c0-0395f0ade164"
      },
      "outputs": [
        {
          "output_type": "stream",
          "name": "stdout",
          "text": [
            "         city  year  population\n",
            "one    Mumbai  2010        10.0\n",
            "two    Mumbai  2011        10.1\n",
            "three  Mumbai  2012        10.2\n"
          ]
        }
      ],
      "source": [
        "df_mumbai = df_ejercicios[df_ejercicios['city'] == 'Mumbai']\n",
        "print(df_mumbai)\n"
      ]
    },
    {
      "cell_type": "markdown",
      "metadata": {
        "id": "o8WVswrHy3KV"
      },
      "source": [
        "**Ejercicio 3.** Crea una función que dado un dataframe y el nombre de un índice, muestre los valores de dicha fila."
      ]
    },
    {
      "cell_type": "code",
      "execution_count": 4,
      "metadata": {
        "id": "uEZL6FmOduq8",
        "colab": {
          "base_uri": "https://localhost:8080/"
        },
        "outputId": "dbc81391-b378-4bcb-d8b4-f85d19c86cfe"
      },
      "outputs": [
        {
          "output_type": "stream",
          "name": "stdout",
          "text": [
            "Mean Population: 7.716666666666666\n",
            "Median Population: 7.75\n",
            "Standard Deviation of Population: 2.6133630950686255\n"
          ]
        }
      ],
      "source": [
        "mean_population = df_ejercicios['population'].mean()\n",
        "median_population = df_ejercicios['population'].median()\n",
        "std_population = df_ejercicios['population'].std()\n",
        "\n",
        "print(f\"Mean Population: {mean_population}\")\n",
        "print(f\"Median Population: {median_population}\")\n",
        "print(f\"Standard Deviation of Population: {std_population}\")\n"
      ]
    },
    {
      "cell_type": "markdown",
      "metadata": {
        "id": "75CNb95pK8Ne"
      },
      "source": [
        "**Ejercicio 4.** Crea una función que dado un dataframe y un array de índices, muestre los valores de dichas filas."
      ]
    },
    {
      "cell_type": "code",
      "execution_count": 5,
      "metadata": {
        "id": "67b-_qChK887",
        "colab": {
          "base_uri": "https://localhost:8080/"
        },
        "outputId": "50810768-1856-4910-e6f1-ffa20fbcfa1f"
      },
      "outputs": [
        {
          "output_type": "stream",
          "name": "stdout",
          "text": [
            "            city  year  population  population_pct_change\n",
            "one       Mumbai  2010        10.0                    NaN\n",
            "two       Mumbai  2011        10.1               0.010000\n",
            "three     Mumbai  2012        10.2               0.009901\n",
            "four   Hyderabad  2010         5.2              -0.490196\n",
            "five   Hyderabad  2011         5.3               0.019231\n",
            "six    Hyderabad  2012         5.5               0.037736\n"
          ]
        }
      ],
      "source": [
        "df_ejercicios['population_pct_change'] = df_ejercicios['population'].pct_change()\n",
        "print(df_ejercicios)\n"
      ]
    },
    {
      "cell_type": "markdown",
      "metadata": {
        "id": "uIVZdmb6L9Nw"
      },
      "source": [
        "**Ejercicio 5.** Escribe un programa que modifique la columna population con valores obtenidos aleatoriamente entre 5 y 10."
      ]
    },
    {
      "cell_type": "code",
      "execution_count": 7,
      "metadata": {
        "id": "GRZw4vyQLBa6",
        "colab": {
          "base_uri": "https://localhost:8080/"
        },
        "outputId": "2f8e7fdf-1e84-4777-f6f4-ff6ffb530245"
      },
      "outputs": [
        {
          "output_type": "stream",
          "name": "stdout",
          "text": [
            "city\n",
            "Hyderabad     5.333333\n",
            "Mumbai       10.100000\n",
            "Name: population, dtype: float64\n"
          ]
        }
      ],
      "source": [
        "import numpy as np\n",
        "grouped_by_city = df_ejercicios.groupby('city')['population'].mean()\n",
        "print(grouped_by_city)\n",
        "\n",
        "np.random.seed(0)  # Para reproducibilidad\n",
        "\n",
        "df_ejercicios['population'] = np.random.uniform(5, 10, size=len(df_ejercicios))\n",
        "\n"
      ]
    },
    {
      "cell_type": "markdown",
      "metadata": {
        "id": "1bZYHS_cMS3I"
      },
      "source": [
        "**Ejercicio 6.** Elimina la columna population.\n"
      ]
    },
    {
      "cell_type": "code",
      "execution_count": null,
      "metadata": {
        "id": "oxZipz7vOxIo"
      },
      "outputs": [],
      "source": []
    }
  ],
  "metadata": {
    "colab": {
      "provenance": []
    },
    "kernelspec": {
      "display_name": "Python 3",
      "name": "python3"
    },
    "language_info": {
      "codemirror_mode": {
        "name": "ipython",
        "version": 3
      },
      "file_extension": ".py",
      "mimetype": "text/x-python",
      "name": "python",
      "nbconvert_exporter": "python",
      "pygments_lexer": "ipython3",
      "version": "3.10.9"
    }
  },
  "nbformat": 4,
  "nbformat_minor": 0
}