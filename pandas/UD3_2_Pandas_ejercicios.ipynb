{
  "nbformat": 4,
  "nbformat_minor": 0,
  "metadata": {
    "colab": {
      "provenance": []
    },
    "kernelspec": {
      "name": "python3",
      "display_name": "Python 3"
    },
    "language_info": {
      "name": "python"
    }
  },
  "cells": [
    {
      "cell_type": "markdown",
      "source": [
        "**Ejercicio 1.** Escribe un programa que pregunte al usuario por las ventas de un rango de años y muestre por pantalla dos series con los datos de las ventas siendo los años los indices, antes y después de aplicarles un descuento del 10%."
      ],
      "metadata": {
        "id": "uKLU6kjEqAfI"
      }
    },
    {
      "cell_type": "code",
      "source": [],
      "metadata": {
        "id": "pdE7V5vAAzXU"
      },
      "execution_count": null,
      "outputs": []
    },
    {
      "cell_type": "markdown",
      "source": [
        "**Ejericicio 2 .** Escribe una función que reciba un diccionario con las notas de los alumno de un curso y devuelva una serie con la nota mínima, la máxima, media"
      ],
      "metadata": {
        "id": "lKoQISrDzX1W"
      }
    },
    {
      "cell_type": "code",
      "source": [],
      "metadata": {
        "id": "jkOXvyZVzoTX"
      },
      "execution_count": null,
      "outputs": []
    },
    {
      "cell_type": "markdown",
      "source": [
        "**Ejercicio 3.** Escribe una función que reciba un diccionario con las notas de los alumnos de un curso y devuelva una serie con las notas de los alumnos aprobados ordenadas de mayor a menor."
      ],
      "metadata": {
        "id": "o8WVswrHy3KV"
      }
    },
    {
      "cell_type": "code",
      "source": [],
      "metadata": {
        "id": "uEZL6FmOduq8"
      },
      "execution_count": null,
      "outputs": []
    },
    {
      "cell_type": "markdown",
      "source": [
        "**Ejercicio 4.** Escribe un programa para calcular el número de caracteres de cada palabra en una serie dada."
      ],
      "metadata": {
        "id": "75CNb95pK8Ne"
      }
    },
    {
      "cell_type": "code",
      "source": [],
      "metadata": {
        "id": "67b-_qChK887"
      },
      "execution_count": null,
      "outputs": []
    },
    {
      "cell_type": "markdown",
      "source": [
        "**Ejercicio 5.** Escribe un programa para calcular los recuentos de frecuencia de cada valor único de una serie dada."
      ],
      "metadata": {
        "id": "uIVZdmb6L9Nw"
      }
    },
    {
      "cell_type": "code",
      "source": [],
      "metadata": {
        "id": "GRZw4vyQLBa6"
      },
      "execution_count": null,
      "outputs": []
    },
    {
      "cell_type": "markdown",
      "source": [
        "**Ejercicio 6.** Escribe un programa para obtener los elementos que no son comunes de dos series dadas.\n"
      ],
      "metadata": {
        "id": "1bZYHS_cMS3I"
      }
    },
    {
      "cell_type": "code",
      "source": [],
      "metadata": {
        "id": "KJU53iuiMCNF"
      },
      "execution_count": null,
      "outputs": []
    },
    {
      "cell_type": "markdown",
      "source": [
        "**Ejercicio 7.** Escribe un programa para añadir algunos datos a una Serie existente."
      ],
      "metadata": {
        "id": "kyYz6tj2M9Ta"
      }
    },
    {
      "cell_type": "code",
      "source": [],
      "metadata": {
        "id": "OPmu1JtJMWGm"
      },
      "execution_count": null,
      "outputs": []
    },
    {
      "cell_type": "markdown",
      "source": [
        "**Ejercicio 8.** Escribe un programa que genere y muestre por pantalla un DataFrame con los datos de la tabla siguiente:\n",
        "![image.png](data:image/png;base64,iVBORw0KGgoAAAANSUhEUgAAASAAAADvCAYAAABSSglVAAAAAXNSR0IArs4c6QAAAARnQU1BAACxjwv8YQUAAAAJcEhZcwAAEnQAABJ0Ad5mH3gAAETQSURBVHhe7Z0LXFRl/v8/+6PfUK60tsPaOlQLWmKGuC1MrWAllIhbaFtmhdYqm4GWlyzUwst6zUua98uaWIrmtRUvC2iCuAymA2sM5DJ4ATOGn/5mNn8Mq8v8c8//ey4DM8OgqMgR+r59nZlznnnmOc/5Ps/5PN/vc57BnwgEGIZhVOC/lHeGYZgWhwWIYRjVYAFiGEY1WIAYhlENFiCGYVSDBYhhGNVgAWIYRjVubh3QJRssVdWopV3fDgHQaTVyuhsO2C2VsF6mXZ+7EXC/Fhof+ROmEVztqiW7dvBi1yt2WM5ZUXvlarZnJK44YKsoxZlKK+xX/OAf1BndAqkfKh8z6nFTAuQoS8PY+MUw0r729/OxPjkaOs9WtRmxeMxIpJlpPzgBq1aMgr6D/BHTCDYDFo8ai7TTgP6tVMx/PRR+HqLtKNuG5Pj5MCAIQ1esxrjHtconzYvjggl5BeVwtO+GyMjgBvW4vXHAUpCBtPWLse2oXUmT8YsYinEJg9H/17pbIkSt224tR7OFYLbDBpjOO5SjemxmAwyi+DBNp0M36B8PknaNx02wXJJ2XXCg8psCEh+iSyT0QbdGfETsp7KxaupMTN5VBIvokrUWyEM0bZ2B4UkzG4iPiD0/DTPfmIxP8m1KSvPSau3WwjTfHJAtE3nFVro1XLhiQ+lXBpQrh0wT8dGiW3gkdOJ+vhFFVR7C7rDC/LUkPwgK16PbrdMf1F6yw6rstyZsBRuxeEEmJHl5fCimLE3F9r/mIP9wDrK2LsG4Z4PgFx4O/YN+Uv7mprXaraXx+ROh7F83V2wmZO78Chb5CKc0DyK2Vzfc899SAmA9ji2rP8c3F5Vj/0fx3LN6BNypHBOOC2b8/ZgBOQczkZ33d5w6R6NVhwDc6+azUgxf9hUOf/kl9u8/AENROb6lMu/55b3wc56rjdHuris4Z8gk252D7yOxeCr4Hjgt4jhvxLbVmTD/S4eYYa+hb2flJrpkgfnvRhiyM5B50IAT5efxvc8vEPCLdvXfPWdErqEY5n/64N6f/QcVhYeRnbUfB44U49vqdvjlff5oJ2a2l8Nw6DCOfkX2NpOx/+OHX95lx7enKmBx3IOAe6nMi+Uw5h5Gzt+ykf1lDr4qpnax++KXAUoZdbRw+10qx96VH+CLCtrvkYAlsxLRt5sO9/zUFz7/7Yt2P38AoZH9EffUY3jQbe6M6nniKxzIPoz83GwcoP5oLrfhB797EdDBV8kj47CY8VVOJr7MykZuwQmcqvwevh0D4H/l22vbTfy+rRx/LzhKbUW2zyfbW7/HJeFu/EJb31YSDjvKj+fgwJeUb78Bfy/7FrYr9+Dee/3g2wYeITXbHJCETzSmbJ6FgV3kRrXkzEdS8jZFoAiPOSBbQSpmjF8Jg2eI4ReNcQsmYmg4De2SKz0ZCYvkEd+NCOpck95AZIOJpzaAw4bsRcMxYYcFfgNmYdOk2Lr5NRvZdbho144DMf+TiYimDxznDPhk9likFsh56tFhYMoCjBsgz0PUfdcnGMFaM8wXlGwKugFTsOSdgQi4mIl5FKKke4lQQpPWYFJwET6ZvhLZzsHFheD4+VjwtjIfqEL71c+P+SJ2Rhqm/i7o2vM8djPSV8zAzB1e5guoP05YOgWDe8hCb8tfieQxqTBJRy5oo/H2+HCcWzS/EbulYsnwUDiOp2Fe8mJkN4wMEZm0BFNfj4Ski2KdPhqDmfsaFhZK1zcriWzcTklopTSThuoRHSGKRTYMxyvlMMxhQenRPEl8Qp8MFVPcuWDAxqWK+PQYiHFzV2HVoikYGkHH9mwsXp8BEzWQONpnbpE7b+Qbs7DkE2rE2RMoXxC5z90Q5N+8nfe2QeNHYZgeYnRl/8qIUqsSholhbbFRsqs2ksIv8frJ1tkb5sni46PH0EnzsWr1fEx4WbS7Belz1yG7wiOMuyKKjy/0v0/AuLeGIrqLnGzZnY6c03ZoOgQjevwEJEQp3tX9sRg1aQqmTJ2FoY8Hwr+DBnZRfAKjMXQ8tcvS+Rj3+2Apq3lzGjJPyHeXGu1nraxAqbQXCX33gKZNMvv6wQ9ynfUDRmHKgiVYMjUBkVIDZGPdXwzkwdA+eVd5+2Tx0fUbhfkrUrFq6Sy6dj2CHumGRx6ie6FRuwXA1yb2e0V8xM9mr0LqCrLdAHnOz7B6MdYZLNI9ZD9xENv2ieITiqEpS7Dqk1WYPykB0cHBCOoWBP9WLj4Sogd0o9SaNwpJYWFCWP8ZwtYvPhbixf13tgql/6LPKg8KM/rT8eB5wtYtM4Q48bP4FcKx76VvCpX7UoQ+YlrcDCHj21qpPJHabzOElKcpPSxJ2PhNtVB7apeQLOYLGy6sM1YruYgfaoXaH5T9NkqdDcPihHm5Vjnx+2PCimFiWoSQsq+SLCm2w1ZhjGSjeOFjg5JP5F+lwtZ3xPQwITn9jJTXmj1PbgvKOy9TThOpLSc7PyGm9xFmZMrlCkK1UJSaJH3f2a51/FAtnDGVClbXtO+LhHWJ8vmSPiuib1O5Ld5+tcKZL5LlOj8/T8g7ryRTuvWbPCFjX4bbdvC481opx/lSoajcpY70SWXmDLmfUh8/WEk5q+uvccyWUukandQ6C2rUbmK/V8oT+/dxl29XU1u9J5cbNnGXcIa+U3fuF+k6xHM7qT9Rq6fZosi7gyPxdDjtHDbAWGGDtdiAPHLvg5+MRE+te/wsuuWlJqM03mgfDYb2ciXKT5fL20UNdA+Kmc6g3CKOxDoE9hCPTViZNBbzd9DoL3pNPpo2v55I498N+t+KQ7AFRcVnKPanUbGiGAXFlNQuCr27+9Po7kBlqfOJWE90a2ett+V3tbi7k+yVlFfIa4bquL8nIh+tD00kOweKe3bYLzXhsY2PH4J6UNv5OmA7Z4bxcDYyc0yoVMJpq9UOB51PjfbzpbIl3MqvRWVBGiZPney2rTNU1tlF0zEYoYF+cNgtKCcvMzsrA3mnlAcrF6zyWjZff7KT9HgAhgVJmLw0HSab7F1qruVqSf0+T/aznolFZFeXCXC/IPSOiiUvjCgwwkxl+umC0E08rtiGscnzkHa4XLLptU/Uemg2AdL4dUZ4hJ72DDDkG5GXnwcbuY6Rj3eDn6e9aqthtclxrW3ffIyMfwkvvSxvQ4ZPUOYxbHQjkAuv1eO1yeS+/lpMM2Hb3JEY8OQATN6sdOS2jMYfoeG9pU5pPl6Myot2WE4UyXMPZOvgjqJha2G3yaEDTm/D5DeG1NnypfgETN4qz2lUXyJBkPYawccXd16PIFxxoDyfbuj4CPT7/RCMpLBj8uzFSD8hf1wndi3efhr4drhbfoJ4oZr6kPOqfemG1mPwgIEYOCAW+o5KsgsO8aHK0pGIiBqAl4aPxISUmZi/3iAtCJWQbn4dopNmYYoUbtph2DATCf0iMGQuCdGFq1rYrd8H6fxxt9u4rKH6dYYUiF2kAZzEzq/HYExZNAqRYqhlTsfi8S8h4pmxSM0ph91p31ZO882jiyNieCRF3YBx9WTM30eGppun94N+1PRXoaMesVKn8Nh+PxThD/hKI7Rfl1iMW5mD7QtGIVYapS3IXDQSw2dvg1m599omGvj30CNSnLT/2ogCcymKjsvzKdHhoQhoMAcQhMhnvdhS3Jo6F9IkHLDkLMbYMYuReZoOu8ciQZx3+mQJxkXJOVxp6fbzCwiUPYdLJpicHgxdfdAzCZgwdQqmpExEwrOyZ1jHRRLH6STYG6RltYh8eRxmLU3FqhmDZVFwpUMoBqasR9aGWUh4UvRQSR92kBCNInt4zrXdKD+ILxQNPJmAJft2Y0nyQEg1thuwMvklTN5klDzi1k7zCRDhF0g3i0sH1EeEI6iB+0PccTf8O8gNh9BY/PE9cZLOY0sZh8G/VvKIaEjgohIwa3MWUlMGS41hy9qOjOMNnxC0JTTaYOgfF/eM2LVlO9JzxP1IhIc6BYVGdq3iynekGyNxYkNb0jZKeQrWLFwqR/Zu+elm8OtLsPuTWRg1KBr67kHw93MJK1xpwfbTdOyJUPFhBtVwW1YeypsgcjZTJrbl0067aEzYsINu+KGIjQhFt/v95bCoARpoSXhHLdiD3SvGIVZ0uShU2vZlaePeiS/1e63cp8stVlS7RboOWC1nIPmrdG/4u57UT0eCOAXrszZh1utilEFxxoZ0GKVZ8dZNswoQ2gWR6EQrB+QNhQd57/TiE57Hn5ae8ODLbcj42qMTUgxucbqzlywwHnZx1zVahEZFIVKaVyiHtab26qFFa6ddAEIfj5V2LfnZcgel8KvnfU5h1yDgkUhEi3a+kI50zxvAIf5m7BrhV6OQuHVQ7gQr3TDOQhxiKCHu+CLoQRIdpSqO8+U4Y/G429VoPz/yBKNiZc87Zz4Wb8h2F6ErdtjtrgkOVNuskqCiSzd00ynXTPnKzWdQKR/JiGn5hvpwy4e8lPD+iH5Cnheyfi/auhG7UZQg9nsp55dp2J4vP+0ScViMyNieKYV72id7I/RejfRzjuyj9eGWOBhFx0ZCkiAKx6vFOalWTvMsRPxpN/Qd0Fvydn561yVU7j2MU71fxejf/wb+/w1cPmtAetY3sNctRPSB3y/84Vv5BQxnbDieYcbFO6/AetYMU04a5oydic/tQXj6sXth2TMfCdOW4/MvT+GS43ucP3sKBfu3Y1W22F0i8dzw/nj0F1cN8lo5PvjpHdTpdxyuW1Gu//2beCH8XvkGI3x+FoAO/3UC+wosOHc0G6cc7UgMTsFcmInUWe9izqErCH3it3jgp9QWFdQWB6gtfvYI+sdFSmkSjvPUDjSqXqBA7snBiH5YXPjogzv+dRLH9x7H+f89jhPnf6Bsxcg77YNfXMpBfvkVnPr2e/j+xI5vCzLx5xnzsfuMXJxfSH88/9g9OJeuRvv54J5fkTBeyMbhk5dh+foAtn+Wi28qT6Dgb4dxYOefseqAJDfwf/Q5PBf+AO6wn4Thr8dx8YIR1h/Ifv9biuwtC/Gn9Uch3+cPIPLFGPzy7BbMfGsmVm3Kw7f/7zLs/1MO81d7kba+ADZqkcgX/4CYh6lve7PbKQ30vR5BO8s+6vdWfPNlLsprLuN8aS4+XzofX5SJ54lE4qRhFHZbcGDpBLz/cSr2Fl/E/7tsxbenTDiw48/IPEuy1aMvhj7/Wy9heOuimQWIumyHboge/ibejHlEEh+RhgJEib7+eCj4EfhSgxsrTuGbo4dxOPcwDH8/JS2f/2X3SPTWd4P/f9EI+e1hfFNWDtNRg5Tnq2/EzuOL6PFT8OZTD7SJFaFXw+dOX3xfsR0GcWUvQvF80qv47b0uN+1/+SLgoUfwgFCB7KJynCuS7XT4iAnl4lqd+0MR3es3COrgc50CRFbu4E+eVSbdyA5cPH0cXx0x4vgdegx7WY9/Hf4K5f9zCsY8OtdRE879MhoDw2thPmOXBSjyAbS7olL7/fc9krfxSLvzMBrLSURsOHfSDLPZjFOVsvejjRqF94bH4MGf+aDdzwPgX/t3HCimfMVfUT0NOH7SBv2zAxFA37MoAtSzQy3sl834ynwKp74W89G1G81Sn9UN+ADvvfpbiE3j1W4/CUZM36fQK6Qb9Xv5abH4tO0ro9JOPnokzH8Xr9Hg4vOT/+DKv2tpQDmOUxXfyDamOplE8SEfKGHyGPwu2GPVdCvk5v4ch81MLmIpHD46BFNYEOQ9WJaW/+cVk7upCZIWJbotfCWX1nKCROh4KbnJd0L3YDC6dRdjbz9ljoMQl6ObTTCfMOPM+X/j7sBuCH6kJ3p2+bH8SQUHjeJ5MH1LN047HULJ1t5XwDpgryiCsaAYpZZ/405dN/QIpZCii64uFBbbIpvaQnya41aOwwaTwSiFKv7dKHx2fURMn5kLqI1MZ+C4OwCB3fXo/WsKJCwUIhzKQ+n3Yrv1gD68J/ztRTCcsEHTMRS9w5Vfmqvcfg6qZ16BCRXnKBzC3dAFBVLo2I3OT/VzvYOpL5oN2TAUl+Pf9wShZw89Qrv4ovwo2eUyhU8RkQiWVvE7YDtdhKJvzKiosJLBghBMfTa0e5D7E99G7CZlEfs9iU8e9XvLJcV+j/ekQcLDInYLzMUmFFEoaLl0N9Wb7o9HeypPQFs/NydADMMwN0EbD14YhrmdYQFiGEY1WIAYhlENFiCGYVSDBYhhGNVgAWIYRjVYgBiGUQ0WIIZhVIMFiGEY1WABYhhGNViAGIZRDRYghmFUgwWIYRjVYAFiGEY1WIAYhlENFiCGYVSjwR8kO3NG+aO+DMO0GTp37qzs3V6wB8QwjGo08IAcDud/FMIwTFtBc5v+d87sATEMoxosQAzDqAYLEMMwqsECxDCMarAAMQyjGixADMOoBgsQwzCqwQLEMIxqsAAxDKMaLEAMw6gGCxDDMKrBAsQwjGqwADEMoxosQAzDqAYLEMMwqsECxDCMarAAMQyjGjf5FxFtyF8yDZsb/TPSwYifOhoRWuWQaVZqvitA/pEyWMUm+5kO4Y9FoGtH73/5znGhBIdyTVJev859ENVLh/bKZ04cF8pgOletHLnj3yUcgR2UA4Was/nIyauAHRr494xCTEgjDe2woSQ3B6YLdPKfBaJPnwjoPE/ewtTXnbhanVzr3ozX2dK2u13/IuJNC9D+lOcwLTsCL74dBp2SWo8fQgfGIUTlztbmuGLBoeVz8NGWQviGhKFTO6DWUoiS73SIm70MH0S7t4Qlew5Gp+xBbecwBPrXoupYCWr7T8efp8a4tZntwPt4buoh5cidxLVHMCxEOYADJRvGY9Iq5fy+NlQUVqDTiLVYkRBCt5QLVYcwZ8z72HM5EGFdtHI9L8dg+trpiOmk5GlJRNvRoPn+9ioEhgVC60PXfboQFQhD4txFdI31ta/5x2ZMS16G/LtCEKbzBS5VobDEAt1zH2JZSh/3/t7k61THdrerAEEUIFdqa2uvY7MIe977jfCb36wRCr1+ztst2WyFwpq3pgk7/mGrT7tULuxJ6Utt8baw47RL3nN7hPG/+Y3w+qpCweZMq9ghp31WXJ+PtvJtI5rUlvbCNcIrv+krTNpVXpdmy18qpc0+6FInZ/94ncq0KWlUzx1S2nqhuC5fS212oTjtbaHvAA/bifZ8ner0skudzucIswf0FUYsyxEsl5Q02sp3TRL6ku2m7b+x61TLdrcrLToH5KipQY3TwSLXsqywAAWFJai4qKR544oDlpNiPtpO2mj8aIhbubYyKW9JlXtOx8UKlNSd73q8vNuQ9iEYtugDxHV2cS19dOgT24928mFzsaflyG4cQhyGvBBSH3J1ouMRWpSk5aNESRL5p60QoEjg6mOlA6ZDa1D2UDyG9K/3AdqHDcKQaBt2ZtD5lTR8l4/d2UDc0EH1XjDVM+7VRGhLNiPf9eQtggZdX/oQW9Z72I7sGTe4D3Ayi/qYktYhAu+t34JFb0ZIXpITXf+XMIhstOeYCTVKWtOvszXb7tbQggJUgs19+2L2QQssucvw9gvP4Q9vj8bot0fg1f4v4qMjdc1Zh+PkDrz/ylN48XUxH22vP4cX3l6DAjfBUsrNpXIp1HjxuT9IeTd9bVU+tyB/ydt4of+rGFF3vhfw9pJDsFxRsrQRHJfFGQ26O+puGBL5IhKVp8LR1WP+pmsIiZUtBybnDeekp04s4SqQkGfSW+9QdJUTFLQIeSwMyDbBrDSlrawAheiD8K4uN7tI1xD0o7rllJQpCS2JBu09qiOi7RRMr2Vw1MrHEpSxoRh3gq4nvV2sgTNr06+ztduu+Wnxp2CHVryJ0ds1iF+biyNHjiB3O8WzWgt2rtpNze9C1X7MfmchrL0+xM7cI1LeIwc+Q7zmU4xesL9+pFA4lLEQCz/XIHHDAeRmH8D0GHGEcaBg+Zt4d0st+szdiVyxjCO52LsoDrVb3sebi/LrR7HWji0fm9L2ACHxiHhYSUMVKjLorauuwfycRheIMLK45bzTAjZYTtObL2A/WyJ7nN680wsVMJPx+wQ1nITwl27iYlRUycdVFfvpNRg6z6waHQIfo9v9nPW2sb/ldAG9xiDwWnMrjnKYyTPRBgfWCXWTr7ON2u5maCYBWoMRvXqhl9v2PvZfUD52pUs8PlyQiIhO8tiiuS8GQ4bSeHCSjF+Xvwb5ny/F/k6jkTy+D3TOYah9V8SPHI2u2buR/52S5uQINey09xDzEI1ad9EmegHkQS3bZEPXt5Px3lM6ZTTTQNsrEdMnRcD2xRrs9vQAWhM1JdizaRnmjB1Bnt9ClPWcjs+XxnuMro2g8YUfvdkuuw75RMY0vP3Bany64VMsnCZ6i8+RgJNnoHx8NTTtxBI9vAiv+MJXHNhdvAhVcZRg/85CaF/oh/Cru3+w5e7EZoQgvldTrNz062y1trtJmkmAxKdgSphUt0VA10752JX2/tDepewraLUe47OjFIXbbQh7rk/Dm+lXXRFOzqm5wkP/n+qHsPuUfQXLiXxq0jAMeqphZ9E91o8c3DJkFbZiV7a2GhXHzBRKip2xFpazZpRJj4tvBC0i/vghpi/fi72blmP5kuX4PH0vFr7eiULY8Via1xbGW284UJK2BGtORiDx1YgGSxPcIK98KYXu2iGJGPSQksbcFM0kQD0QOyQe8W7bTTx+v/hPWOitcO6LHl4VbU+NphHIy8hNHg9FD25Ik6o0zvt6m1XtRK4svZVZq5s0ut+WaCMwmoRi+fLPsTf3M4zubMK0V97Cp/+4sStq37kPYsJcXAAfUZQSMUxrw87sggZhb1ugJncpJq2tQsyMdxHnMYC5cbkMmxdMI688EXP/GO5lboi5EVp8Duh6CBv+IZYtX+Z1S9Rfw1e+Fo5/y8KjubNtdCaNUyxKsGZvgTI/oIFGHKkvKdfqygULxBU/gR2vYUdNEILESddTFlmA2rWX5j7slxoGALYqM71SyKwUqWknep52/LvByatgyaa3X11rwvvW4ij5FO9M2olOI+Yipa/nLJkrFuxfMB7LymIwfcYwhHh48E2+zjZku+bi9hSgjrJ3Uuhoj9CwcIR72TxX5Xrj55360KsF1v+Tj924UAWxycPu/bl83BbQ6BAkLhasmx8IRNfH6O1YGSqk43qcHd7LfKgHFNyJanY/hc7iYftABFOZhWUVDSZBq84Vi7OzdROngZ3D6bUAZWfl4zpI/KSzX/vktwzH2T2YPWkNqvpPx3TPBYBu1KBg1TRMy+iExLkpXhcANvk624jtmpPb1APqirDXqbtv2olDylOBG0HXIwIRINc5q8DDA6C4/687UEif9gu72sh3e+Io2Y/9ZxsMjSQ8ZSjIpX5838+lCWZSJIT2GgbtySzkl7jmtyA/g/yfXhEI6SinOEoOId9bjHXyEHYfoxbp7nzqo0NY3wjgiz3Id33IcLkAOV/YoH02pG7eTvPrXuSRlSHrbyVu9rccySLvi9rmYZXGcPEJ61tzUPjwaCxKdl8N7k4NSlLfwegNwIsLprutknal6dfZBmzXzPj8iVD2Ja5cuZ7FMZdxOnszDpXr0PXRu3CpygKLx+Zop0OHO8W8F/D1uj0oDIpC/NNd4Do/ffnMQWzOAaJefQZdfiqm+EAXEoo7Cpfho7+cRrv7H4TunjvwH4cVFUf2YI3hJ3g8tKOy3KXxcnF3MHr86hz2LP0cR/+jQ/dAf9xx2YKCHXMwbe3X6DJyFsY8oa1fNtMqsOFvqX/C5Nk7cfqu+/FgwD244z8OWMuysGbmn7DrQgjeeDcJv1b6p49OB78Tq7D4sB0PPByMe30vomDdNEzZ1xGJM8bgiV+IV19DZY7HhKX5uHx3R9yrvZvKtMNSuA0zU1aisEsi5o5/Gh3/Wy7T734tLu9dhc1ld6Brjwdxt6MCWYvfx8rKJzD1/SFKGxI+Ouh++g+sWnoY9l91Q/C9vrhYuB7TpuxBR7VsT+IzbcQ07LdF4PXRffCzi5591oG7dR1IumXxGbG2BIEvvIF4Ugb3fBbU3EFe4U/pCq7jOtWynY9Pi1u6STTTb8GUQy/U/4aoBJ/2GoE10dOxd3aMW/wq/wYJmJ7+IWKUEVniYgk2L5qNzQcq6idA74tA/Jujkdg3UHGbGy9XxoGKA2uw7M+b6x/da8MQP/Y9lzJaGzV0Tevdr4nQhsVjTHIiYn7lcVU1Zdjx4ftYmC1O7RPi9U/6AKN7u479cpkfLdmMwjpjaxHYNx4p4+MR4hnyVh3CstkfYbMz83198O6c6Rj0kKdFa1C2fTbeX3RIerAglhn2ygf4YGzEVTyPW0dJai8SFeXAK4lYe2QYQi7sx/sDp0nzZI3RZ8ZefNjX2eOu4zpVsF0b/TFqC+Fw/tRCXMV6o4Z0oEb5vYbG6wrX1on4MxTlqq5pG2feunVSXqm3E3zao73HhKsndWVey6bONmxCma2a67jOlrQdCxDDMKpxuwrQbf0YnmGYtg0LEMMwqsECxDCMarAAMQyjGixADMOoBgsQwzCqwQLEMIxqsAAxDKMaLEAMw6gGCxDDMKrBAsQwjGqwADEMoxosQAzDqAYLEMMwqsECxDCMarAAMQyjGg3+INmZM2eUPYZh2gqdO3dW9m4vGggQwzBMS8EhGMMwqsECxDCMarAAMQyjGixADMOoBgsQwzCqwQLEMIxqsAAxDKMaLEAMw6gGCxDDMKrBAsQwjGqwADEMoxosQAzDqAYLEMMwqsECxDCMarAAMQyjGixADMOoxm0nQLasCQgPD0dqsZLAMEyb5Sb/IqINhkWTkXZaOWxAMIbOGIdIrXLYBEQB6peSjVHrC5DQQ0lkvGI/Z4Qh3wxrLR100EH/294I7qiRP6zDjvKCUliVIzfadUbP7lp4fgN2C4z5eTCfdwC+/gh9JhahXtrQXmFA9uFyOoMG/o8+jdgejTS0wwZTzkGYxPI6BCE6KhI6P+UzlaivO3G1Ol2xwXw4D8ZzYk66zu56RD4aBD8f+ePGsJ82ovR7wP9BPYI6KIkutGbbNSc3LUCZk/ph8peRGDxGD52SWo8fQn8/EKHXYTAWoCZwxYLsJTMxb7MRvj30CGgH1FqMMJ3TYeDc1ZjyjGtLmJAanoCVypEbz8xC1txYuHZ9+9GVmDA1FUYEQf+gP2A9A+NpXwycQeX+zlmuA6b1Y5G8Qjm/rxVnCsoRkJSK1W+EuguaJRsz35qA9EtyeVI9L8Vi1vpZiG3YYW49ou1o0JywtRJB4Z3hT0JiPWVEOfQY9dES6nP1tbef2IaZKfORrdQdV+TrRPgoLFiUgFCyu1csmZg8fDIybfDSj1ux7W4FogDdOFYhY2KYEBa2TihSUm4Wa2YylRcmrDMpCUxDqouEdaNnCLtOVSsJxA+VQsbUGLLdGGHXt0qaSO0x4WOyZ3KmVUm4Ct/uEsZQ3uHL8wTrD0oaUZm9VcirVA6IWtM6IT4sRkjZV59YbVwhpc3LdamTs38Mo/7hTKZ67pLSNgqlSlLLUSuUbhkjxDzvYTvRnsOoTvHudarcN0MYs8rdFtXH1wnDyUYxy49Rad6Q2yFm9BghyUs/br22uzW0+ByQ42I5TAVGGAtMKL+oJDaKA7YyMS9tZTY6aojDbofd+YHNLOU1WTxyXrLALJ3TCPMFL6U4qIy6QuywFIt5Ffe8Dge5zSa5LsX0mbfKtBR+oUhYOgUDu7i4lj46RP+uP+0YYHO160UbLPSmuUbIIF539vqZMASPw8S3IqF1ya+LGozIuhHXgaKclTAHv4bX6jwiqlL4y3jtGRu2/ZXOr6ThXB7SvwQGvv5SvRdM9Rw4ZBS0xRthaPF5Pg2CX16AHRs8bEf2HPhKNGDOoH6mpBG6303BkiR3W/j9OhYDH6euds7m0T9kLFkr8fFXekwc0Z/8f09as+1uDS0oQBYYFo1E3DMvISFpJEYmJeClZwZg5u5yL8Kih+Z8JhYnxaFfvJiXtvh+iEtaCaObaJmQFhWFmTkWWL6ciQH9hkh50752zng4YN46AQOeHIAh0jlHYsjv4jBytdGt89hyZiIqKo3cWwpXkgZhwHAxbwa55QoWg1SXqEEJcl2Gv4SouJFYTOe9nai9JF4VBVRexKbzvY3MMTixm1Cwmyw/KBrBSpJ3ylG8j96eCPXIp0Xo43rgSxNKFePazCTWiIY+2ONWDO6B/nSrHSw2KwktiQZ+DZUBWl03ejXDIc6nXRUarMQ+6Ntg5kwKvVYuykTPsaPoqinUU5Lrae22a35aSIAo7v1kMsZmafDa+hwUFBRI2+65vVE6YzLSij0lyIjFC9KheXk1co6KefORtTQBAQWpmLza0GDkyd43D/M2+WLU5hzkH87BrH7y6GLJmoExC6zovWA38pVz5mx4DZpPRmJmVt1Yo2DEukmTUfT4LOw+nI/8nDcQKiZforoMH4u02qcx/y/5ct3zs7BkQC3Skodj/mHP2qiEzYCNG9KBHq8hsruSJnJevBFIfGptdV6gV2+ywoxt9KZ/UBmZJa/Q3jDfhXKUkumigwKUhHr8deJtVYTyKvm4siKTXrtBVz/Yy2gCEERehPlbq1cvQg0sp4z0GotAz7q6YUf5XzZio1mLwU/r3ebOxAE2c83HyHx0Fsa5eDdutFHb3QzNJEBFyNyQhjS3LR0mp4VO78Li1ZUYnDILQ3vUK7rumZH44wAzVuYUNejoCbNXYVSU82mDBtqIN8jz0MK2Ix2GC1KWevKpUWdMQGxXP2ja0SZ+x25AGo1GAeMnYkKUrm5yz6/7UIwaE4zs3XlSaFKPEaUPTsGC4Xro2mmg8ZO/Yd6xGGm2YIx7fwKi71dK0WgR+dYsTIkgt3lNOo2bKkFeS/qGxZj5VgJ5f/Ngps6/fcVQLx6MDSuThmPe+lSkrpgpeZMRw+fD4GIA23nxP6SMhk5LgrV0LAZERJFXGIWIfi9h8lZzkzq7pt3d9NoUL8IXvmI3uOhF4NTAYULmDiO0g/pD78VRtBxOw8q5EzDy5UFI2gK89skOTHjS3TOx/HUxJlPoNWtMrJeHMdem1druJmkmASJlP2qAwW2rnyexmHIoWOqPqN96uJMUJXfrQa7nUXN9uKNwp6+yU4cGPcPFOY5slJZ7mD6KOs79yr6C44QR22x6DHyi4e0YFKyc0+OuGvgkhX7KvoyFrovk5fHBiO6qJNWhgz624bxBi0JeSjnVz3LFjlr6Z6kobTjH1X0gVs2ej+05u0l8VmHV+t3I2ToFsZZtGJuSVi+eV8TvVWJbylhkdhiK1Tk5yBG/kxAM44IhmLz79go3mw/yzknEV5ojMWpIpJd5G9L5KgOKz5GNHTbYHBaUmzzmByn0Wjy1CLHjR7Wdp1MtRDMJ0PMYJ3Zut61+/Y/VJrq3aRgZES4tMnTdBsymz8wOun2ujTxKUHuT+rtBHo+nXtkvijeMETN/3/CcEW+l0Wfkwl6WstZxZ4O5EytsR+nNj0YdOcENnS6QXs2wfq/SWKSNlO2+ejuy8jdjXBcTJg9KQuoJl/r4aKHvF40glzvLr8tAjHorEhAnM08oiRJW6F5Zgvmvkxfo5wc/Px1CX56IiQMAw9Zs9Ty9W4g9ZzGSyTuPnT0RAz0GMSfBL8t9OvUvFMLPG4jaTQkYNC2b/EoRCr2WUuj+7ES8o4T+TNNpoTkgkYGYsFq8Wbxs62Mp2m06136i40SPhLlezidtIxHZUcl2gzhq5Rtd421CsqURw8IRI5GgNWHlbvdJdm/ognrSqw1Wq5xTe68opv7oFuR5EyleqtmKavFy7/KjXHTjXmo4ZNgspfQqhnHysW870fusJs9BPq6nEpYv6S1Q5zGP0rI4ilMxNnkbApIWYGoTxcOvqyzetn3rkCF6vsWZmEzXYts3Af1cB7rh8sqrlcPF4wnIFKcN2pDtmosWESB/HYUqNFL43quHPtzL1qN+juZqyBOFwej2wLVNL99QRjj8eno/Z3iQV3fbHX/ooujtnNXrSmKrRfQJ9Ai4XXqCJgCdxZnzJswPOC5VS+/+9yhW0HWm7m+Gqdxzct4DvyAEP06WNXsuU6Bb41wRGb5+4jSoCwkXtYG5Qj6u4wKFtvTmbTK2pXBUpGPGeytR+ewszPJcAHgNdA+I4qDM13QfSqGqGK56bEsTpLwJS8XjKYgWB7s2YrvmpEUESNcjEpFkzG37TE2eOPv3FWXHySUTdu0gAQruD32D+RgvdCfvh4Qh7S/ZHpPN1wOFIE9QqGLeiIyjHjV31icitsH8063GQaNuZoUXS14shTGH+vH9WkVcLXTcsLPTGEzpGfQ+EIHOunfUI/oZIHuf5+S8WIZ4nUEIkO5SHYV0ZBPPhwGXjMjeboN2QI86b1bzaCS1gRkZh93b3WLIQDb1iMjuKim3JRMzEmfC+Mg4LJ3Y2KSxBYZGPEmzyUCvkdCKP7HwER/ri+Gq53anlPdO5VgWuDZgu+ZGWZB4gzR9JXRlZooQExYjJC3cJRRVVgvV1dWCtfyYsGvhx8LB80omwrkSOuz5ZGFdZpFQKeXLE9a9I67yHS6sM7muPy0S1ol5J2ZQTRoirjoVV63GTdwo5JVbpXNWV5YKBz+bIWx0Kefqq6+VFcYxScKK7DOC1bM+33hfD3vrsAoHZ8XRueOE5M/yhDNW2ZaVpl3CPHE1L9Vpo1nOWWveKK3GFa//oLlSuf4iYdf84ZQvRkjJdFneLEL5RXsNn58hlErlVgp5q5Ko3Tzs/q9jwscxYULMO+uEY2JbWkuFXZKNUtzaUqTyizFSneZllkq2qzSskM+RWtrISuJbTGWGkEJ1F1eMr8s9Jhwzem5nBHHhce03ZDvxGhM/FnaZFNtZzwh5qWPIHpT+YZ6Ur1Go73ntU63ZdreAFvwpRq1wJvNjYczzYn7nFiMM+mCjUPS9koWQxWAdCUaG8HGieJMreUmQNh73bPKrC5BI9fGNQspgl3Joixv9sZBR3lQBIv51RshYMkaIcylD7JiuZbQs1V5s2UidrMeEjRNFwXLJ+/wY4ePMM147cfU3W93tRXnXfeXlVqs82KB9tpq9liiUbkl2sZ04COWRrKtD0VpnPRrbXPqyaLsPBkmCU/+5KPxFVxcfkcYESKSV2u5WcJM/Rr0xxJ9PSNNwvuSeXiP4dub1rXNjb4y6c/rQORv7EeG1EBfnyRUnt/pmatN81F3Xtep0iequhLVNsWVT7d7k9nHa7mbsrxZ17U7X6Vxn1gz8KGx3DVQRIIZhGJEWfAzPMAzjDgsQwzCqwQLEMIxqsAAxDKMaLEAMw6gGCxDDMKrBAsQwjGqwADEMoxosQAzDqAYLEMMwqsECxDCMarAAMQyjGixADMOoBgsQwzCqwQLEMIxqsAAxDKMaDf4g2Zkz4v+QyTBMW6Jz587K3u1FAwFyOJr6/1YwDNNa0Giu9Ud41YFDMIZhVIMFiGEY1WABYhhGNViAGIZRDRYghmFUgwWIYRjVYAFiGEY1WIAYhlENFiCGYVSDBYhhGNVgAWIYRjVYgBiGUQ0WIIZhVIMFiGEY1WABYhhGNViAGIZRDRYghmFU4yb/IqIN+UumYfMZoMcrc5HYq72S7o4lYw7mZFqA3mOw/KWuSipzs9SczUdOXgXs4sHPAtGnTwR03psANd8VIP9IGazUvJqOXRHRK9xrXtd8+JkO4Y9FoGtH739Nr/78Gvj3jEJMiFb5xAOHDSW5OTBdoEKvUc+WpuZsCUqt7dEtLBCNVamptpNxwHbShPIfghD6sJYs452Wtt3t+hcRb1qA9qc8h2nZtPvchziQ0sdLI1qwZ/yLmHOEdkesxZGEEDmZuXGuWHCIhP/97VUIpBtH60MtcboQFQhD4txFGBbi2tkcKNvyPsYvMcOvbz/EBQPmv2Zh//+FYfra6YjppGQTy1w+Bx9tKYRvSBg6tQNqLYUo+U6HuNnL8EG0Tsko4kDJhvGYtErJ62tDRWEFOlH7rqD2devqVYcwZ8z72HM5EGFdtHKZl2Pcz93SOCzIT9+JQ/sPYU8JDYxIxNojw9CwZzbRdiIXS7BnWyYO5R5C/hkbED0de2fHoKGsqGO7tv0nWR/qiq5781FwUTl25btCHDoSQaOGcszcJHRTfLEQHx0JwgebtuDz5cuxfMlyfL5lLRI7FWLN/B0oU3JKfJeFNUvy0WPqn/H5jNGIHzIa0zf9GdN77se05ftpCFG4/E9UnNUhcdMB7Fwrl7l2y05M71+LPSkLsec7JR/hKNmMBatI7qbulPMu/xxblg+DY+0kLM2rUXKJ0AC1nG6gDnSDb/m8rswPxHNP3exez5bEXoHCPDMs7TohsBHHQ6KpthOpKkXWNxWo9e8EV6n2pNXbrplpHgHq0w/9HtqDLKNbk0hYCrOQ/1wYwu5SErzgqCpDQWGBtJWJrqYnVxyoqamhW0/GdlLMWwLLZTpw1Eifed0aFEXlkMstnaukwsvnrQENur70Ibas/wBxnV38zfYhiBvcBziZhYKTShph+0c+8tEHUWGut4UOEf1fBLLNKHfagL4/bJFHmT469IntRzv5sNUNLg6YDq1B2UPxGNK/vsz2YYMwJNqGnRmUV0nDd/nYTd5x3NBBCHEWS2XGvZoILd2I+SVKWkujjcBouqGXL5mO4T2VNC802XYiDw+SRGL5krGIU5Ia0gZs18w0jwD9EIqIF8NwiAwoOrT1lOHQzkLE9Q6Hv5Liiq1wM6YNeQ5PvfAHjH57tLT9YeALeHd7WZ3YSPxjM/r2nY1DVRQmzH4Rz70u5t2EEropbLmz6bO+XrfZuS6CWJWPZW+/gL6vjJDPNeJV9H3hbSzLda9x60CD9g1jXWg7UYxANnfUyscifj8TO7odtV7FVoM7r+GZOy6LM0zkJlCYJ1OBkkx66x0K99k8LUIeC6Mb0wSzMpDbygpQSDdweFePynYNQT+61XJKbu9x/GZt15Afj+2aSvMI0FkL/ML6IeLIIRS6uOogTyXrZBwierZHrat3qWA7WQjH7z7A5xlHcOQIbXmiy0/j7aI1yHItR+IQshYsxKa7EvFZRi5yD8hxsPapFBw4cKB+y/gM7/am7CGJGNJb8a8vF2DZiHexubYPPtyeK58rdy8WPluLzZPexEdurm/rxXK6gF5jEOgyP6D5dT8khlBolroHFXWXaUF+xk50HRHpcSN4YMvHprQ9ZMt4RDyspF2ogJl0vU9Qw0kIf0kAi1FRJR9XVeyn12DoPLNqdAh8jKTynBW3s+Vvynbe+BHZrqk032P4+8LQp1c+duTVK3PZsSyUvUAq3uGfsB1TEl3o+spCfDgkAoEdlARyMWNejaeGzUdBmYv3oiC6w9PHx6BrBw007ZXhR9OevIH6rdq4CZ/mhSBxbDxClLCv7Itl2GzritET3kOf+5zf0yJi5HR80Itc3z/vbv0xtaME+8nb1L7QD+Gu8xqarhg2YyH6nJuDV195FdM2HcL+P8/Bmv9LRPKrHpOeIjUl2LNpGeaMHYEXn1uIsp7T8flSsU2ujaadH726e2De8YWvOLBfrME1s6rJ9druJmhztmsizSdAUmzcB2V/LVBu5jIUZNkwLDq80cebbohzOeJc0Dk7xKaouNBQgPr0DbvqBB+q9mPZ1P3oNGIs4uueBFlgPkY1emwQ+jykJNWhQ1jfhvMmrQ8HStKWYM3JCCS+GtHA3payQlRc6oP4AWGo2fU+pq0vROBvwhHobV6uthoVx8ywXBE7eC0sZ83e5+V+JFyX7ZjrphkFiMIhfT/EOW/mknxs/mccwnpcbZyogeXIDnw0/kX0eqov/jB1KT7NKJbWtZRd8tLp7/BVdrxhwf7l03CIQq/koa6jk+J9taeRQ05wQ6cLpNcy2L5vvTdZTe5STFpbhZgZ7yLuPiVRwZY9DW8usGLARx9i9JvvYeGWA/hsxouoXjsCr8zY7zFnRzgnaJd/jr25n2F0ZxOmvfIWPv3Hj0+Ertt2zHXTrAKEDuHo80IZssjjKCvKAV6IRHij+mPDodl/wIuzD8FXXDORe0R+LJk84OpeTiNY0hdiWnYIhVnD0PU6fGOHMsOo8b2OL91GOEo+xTuTdpLXNxcpfT0tR23x6X4EjkisXzfi0x5d+76HFUvigYyl2FN4FWERw9Q/JmKYtgRr9hbIcw7t2ktrW+yXGgYAtiozvfaBTgkBNe3EwM2Ofzc4RRUs4tqxX+m8rJO5XbhJ23njR2O7ptO8AkTOf/hT8SjLWoM1WUD8E1dZdEie0vq9FsQlz8Xo50KgvZn7/+RmTJubj5CxyYhvEGb9HLqn6O2ctf4RpwtWqeEptGuFrek4uwezJ61BVf/pmO65iE3kQgWKyRv1a9fQ99P0CKPubkPFP6V11I2j0SFIbEbnnEP7QAQ/BhSWVTSYBK06V0weVP3EaWDncHqlkPysfFzHBQqL6c3bZOxtQ3PYzpMfi+2ug2YWIGqcX/fCsH+K6yf6IbyBGLhAnoc4V6TTesxY1FRLIVjTKcPm+ctQ0usDTH/F21SpDiG9IySRyjrmMZxcLsGenYVAr34I8whdbnuq9mP2W3NQ+PBoLEqO8e41dtQhmITVUl7lvqxBhDpyBb1plMfrjpL92H/Wy4h+sQwFuXRv3PdzaW5Onjcje36xB/kXpASZywXI+cIG7bMhdRPWUl/QkifxtxK381uOZOEQIhDx8G2s+tdhu6bzI7HdddDsAgRNOPpNGo13x/a7+pOTDuTe09sOaowym7hw0IKSvcvw9sRPpcZtGiRiGxZgWUkgXozuBIuymLFuOyuPM7rn3pUe72+eMR5rcitgq6mB7Ww+Pp06CZ+eDEHiiH43FPapBonPtBHTsN8WgUEDu6L6hMd1FzpH2BDEjI2Bbf0kvL+hQF64STiq8rFm1kIUhiTipV5iR7Yhf+8aTHvlVby/KR8VUnvUwFKyBx8lv489VE78M+F1Hpbu6VcRrz2EpQs+RUEV5bWVYc+CP2EzYvDei/X5xL4QNyICZWuXYOmBMsnuliN0HtFbHZmIfqqIvgO2fzjtVIxyyVAWlDptp/SZpttOpAYVdbYvleeGaspRrKS5TuK3bts1P83zWzA09rsXJyX4tNcIrBnh/lswS/YcjE7Zo0zmaRHYNx4p4yNQPu1VzOnpkrfkU/QasQZ9ZuzFh31dz6KUqxw1wPV8lyuwf90yrKEbzDl5qA2Lx5hkivF/dTPxX8tTktpLvLSr4PrbJgcqDqzBsj9vRr7L2ipd9GhMT45HiHMJhHgTHVjfIF+jNqo6hGWzP8LmQiWwva8P3p0zHYMe8rRlDcq2z8b7iw7VtXPYKx/gg7ERKom+y+8XveHWR5tqu6v3wwb9VgXbtdEfozYD4uN38ZQ+7dG+JR5tOs9HY01751qiHwXiz1mUtr2GrR002so5r20jZ15N+/b1o7c3Wrqdm5Wm2+56aEnbsQAxDKMabfvX8AzDMDcACxDDMKrBAsQwjGqwADEMoxosQAzDqAYLEMMwqsECxDCMarAAMQyjGixADMOoBgsQwzCqwQLEMIxqsAAxDKMaLEAMw6gGCxDDMKrBAsQwjGqwADEMoxoN/iDZmTNnlD2GYdoKnTt3VvZuLxoIEMMwTEvBIRjDMKrBAsQwjGqwADEMoxosQAzDqAYLEMMwqsECxDCMarAAMQyjGixADMOoBgsQwzCqwQLEMIxqsAAxDKMaLEAMw6gGCxDDMKrBAsQwjGqwADEMoxosQAzDqEaLCpAtawLCw8ORWqwk3AT2r9OxLaccduVYpDnLZxjm1tN8fxHRYULqO6tgRDCGzh6HyA5KuguiQPRLycao9QVI6KEk3hB0rvAErIQO4zbsxtDucmrzld86sJ8zwpBvhrWWDjrooP9tbwR31MgfunLFBvPhPBjPiXKtgX93PSIfDYKfj/yxGzYTMr80SWVq7g3F08+EQustH2GvMCD7sDgIUJmPPo3YHlrlEw8cNphyDsJ03kH1DEJ0VCR0fspnKlFfd+IadXJcMCE7R7aJ34PRiI7QwTWrvcKIUqty4I12ndGzu5asVE9rtl1z0mwC5ChYibiUTPjCAv2kHEyJamil5hMIByyHdyG7ihrkZT3JkMyPRoCuWJC9ZCbmbTbCt4ceAe2AWosRpnM6DJy7GlOecVqEOvqJbZiZMh/Zl4Kgf9CfvmvFmYJyIHwUFixKQCh914nl8HxMHr8NlV306ExZpTIxEPNXTEF0fZGEA6b1Y5G8Qjm/r1xmQFIqVr8R6najwZKNmW9NQLpyfqnMS7GYtX4WYt3KbCFE2y2ajAlbKxEU3hn+JK7WU0aUQ49RHy2hfuMu4JYvZyJpUjpqJZvUovKoCbXPzsL66bF1/c70STgSVisH3nh2PrKmR0OWmFZsu1uBKEA3T61wbEmYELbkoHBQfJ9+UKhWPnHFmpkshIWFCetMSkIzc6vLv22oLhLWjZ4h7DrlYuUfKoWMqTF0/WOEXd8qaUTlvhnCmFV5gvUHJYGoPr5OGE52ill+jFpO4XyGkExpw9cW1beds8xhG4VSJUmk1rROiA+LEVL2VSopVKZxhZQ2L9e15a1CxkTqD8PWCUXOZCpzl5TmXmbLUCuUbhkjxDzvYTvRnsOoTvEedfJmk8pdctqma9detNPwsOHCRrOSQLRe290amkeAao8JH1OjiAaszp1HN8EM4eD3ymcuuAtErWA1HxOOGWkzW+tvBBdqq6k85wfWUilvUaWcIH1W96HMj0aAGqH2q4+beP3UkUdRR56YQd1cSdkn2s5Lu5VvFZKUtpVRBhvPm9V5w7iUKXy7S/rujGzXG4ugmzCGbjh12qmW+o2y64Lcd+LdxKLyiySvNilaS6IcQ8KgHHvlX0XCivgwYcwX9ULT+m3X/DTLJLTjuAFpiEZoNz/4hYaT054Ow3HX6WFX9NCcz8TipDj0ix+JkUm0xfdDXNJKGC8qWSRMSIuKwswci+QGD+g3RMqb9rUYbNuQPTsKUVFplItxUntJtDk5+o3M2dRjh120tW+9w28ldx8IgL/n3F1gT0QGA9tOUNgmUY7iffT2RCgo2QUtQh/XA1+aUKo0vc1shJH6hT7YIxwP7oH+1IYHi81KQkuigZ+XORStrhu9muEQ59MkbCj92ghE6dHNwybdevSnjw/CVKYkeMG8azFSMQp/fNY1Vmrttmt+mkGAHCg6mgY8Q8bqSIcdekL/DJCeZSAzecOIxQvSoXl5NXKOFqCgIB9ZSxMQUJCKyasNbk+1RLL3zcO8Tb4YtTkH+YdzMKtfWwl+mxmbARs3pAM9XkOkMinvHTvK/7IRG81aDH5ar8xLkBa1E2+Jf8sHbvjD/356q7DI7XmhHKW0Ex0UIB654a8TyyhCeZV8XFmRSa/doPNsMk0Agh6nm/Rba4P2VgvLKRIbxCKwrq6VqBDFIlhXN9fjRKMLomHUDMv/NFL7iwakf2bCwDdeQqjrpE4btd3NcPMC5CiCYQMQGRGqdGYt9FHRpObZMF6QEhqQMHsVRkU5n8JooI14AyOHa2HbQZ6T53fyqcFmTEBsVz9o2tF2zdH9R4TdhPQNizHzrQTyEOfB/OgsbF8x1GN0lbEcTsPKuRMw8uVBSNoCvPbJDkx4sn50DeoaSS2XjszD7t3afnQrtn2pHFwDTbu76dXVi2gMX/iKp75op+HrNsBhQuYOI7SD+kPfyMMoN3x9padg1svea285vA3bkIDYSC+uViO0WtvdJDctQHL4pUf0o/VSre0eiUhkI/u4dx/oTl9lpw4NeoaTW0vfKS33MGsUdQpxBGYa4iBv5iiNxFfsqKV/lopSmC9475b2KgOKz1E+hw02hwXlJvc1VJrw5/HOsxRqjR+CCUvTkLYhDYtTXsKQvwYg9mUlU5vEAROJ+EpzJEYNiXR7vH5jWGAk7x/P6tHT/YEa44WbFCAl/CIBMefInVbacuT4NDvH2EgY1hB5BKDmI2V3gzyeBnrFyGgjMW7FKqxavR1Z+ZsxrosJkwclIfVEQxEKfpnyUd7UvxQgZ95A1G5KwKBp2S7to0Ps9B3YvmAw/C0GGE5Y4P/MfGya3hv+NUqWNog9ZzGSV1cidvZEDGyOge6CCYajFMx17+z+SJ3xys0JkN2IHAq/tF0cNBJTp63byuHoQr7sVcKwxuAQ6wbRaBE5YiQStCas3G286vyAX9eBGPVWJGz71iHDbSLVD0FRQzFhLokVhWtDxTAZVlhO0UcP6uQQ+y4/+NOb/VLDWMFmKaXXaOiUMEaeV6omr0s+rqcSFjGsC1TKVAlHcSrGJm9DQNICTG0wt+gLjVh9us4G1T9vIV+dqn9vw9rbS030WTC6PeDlytqQ7ZqLmxIgO4Vf28jYr82UR1e3beZr9EnjYZgn8iRgIw3HNA1NADqH0nsT5gd0D4gdvAlzDudKYSCHdmgP8SkR4ReE4McBo9k9hBOpPFdEo1H9xGlQFz29GmGukI/ruGCBdLt5mYxtKRwV6Zjx3kpUPjsLszwXAErI1wkKcZ3P/5w4xaKzp2YRlu/IBvRdp5C40UZs15zchADZYcrfRprRH/quSpIrXfXoT33cWxj27yvKjpNLJuzaQQLUWFmMG47iTGRWeJGYi6Uw5lA/vl+rzGVYYGjEGzKbDPQaCa3rI2bPdqFvGjathDF4FKIfdd6iOuj7RQKeDwwuGZG93QbtgB5QpAqaRyPJIzMj47DJTRAthgwamiIR2V2lwcaSiRmJM2F8ZByWTqxf0eyOBj0jEqA1Z8BQ7FZ75O0j/yciEqHiU183HKi2itMPneHv9dLagO2amRsXIDvFujuos0d5rmlwEozQKDLSlxnIO6ckKaROn4DULBMsdjtsFQakTk5GqjkUoyYNbqSspqG5S3RwAau1bTwh8I4NebtXYvKgQZiwwYBymx12sqOlOB3z35mAdITitb56aUR3nMhG2oqRGJS0GOnFFimf3VYOw/qxGLPUDO2gwYh2znvQTTl50Egs3i23i91iQvqCsRi7I4DaZajb42TdM0MxVJuNj+emwmgRyzQjfd5kpCEWE1+Szy2h0eP5pEiYVy/G4iwzbGI986nusw0IfWsU+qvxcEG8zuGTkWmLxMvPB6P6hBHGAtet3jsRJ+ZHRZixctFiZJbZyH4k6CsmY2Y+9dWk/l6Ei/qzhd6CNY3OW7Zq290KlAWJ10119gwh7ForMqVVm2HCmHR5Nai82nSdkFeeIXycKP5sIEzenk8WNh73XJ5aJKwTP3NdHVqHsnKUynJbjfp9njAvRkx3X9Ha9qgWzmR+LIx5XrGfssUkfixklHusKbceEzZ+MEhqh/q8cULyZy4/L5CoFoo+SxbiXPLFDE7x0i4KlQcbtOFWs7f17NVC6RbXcmOEpIV5guv64JakaK2zHo1tHn2qulTYOjGu/vOYJOHj3MZqXypsjKc8XvusC63UdreC5vs1/A3gIFUXpyB8/fy8xOA3iINGFSrU90eyZshpQ3HS1M/vKlZU7CJyVdtccSiTpNcoT6HJbeg8v48f/Fx+ANtaqLvOZuxXPxbbXQ1VBYhhmB83N/cYnmEY5iZgAWIYRjVYgBiGUQ0WIIZhVIMFiGEY1WABYhhGNViAGIZRDRYghmFUgwWIYRiVAP4/myGum3OMS2kAAAAASUVORK5CYII=)"
      ],
      "metadata": {
        "id": "55-X9PuDNGGs"
      }
    },
    {
      "cell_type": "code",
      "source": [],
      "metadata": {
        "id": "TT5uKLn6M_zC"
      },
      "execution_count": null,
      "outputs": []
    },
    {
      "cell_type": "markdown",
      "source": [
        "**Ejercicio 9.** Escribir una función que reciba un DataFrame con el formato del ejercicio anterior, un nombre de su columna, y devuelva el dataframe ordenado por esa columna.\n",
        "\n"
      ],
      "metadata": {
        "id": "msvHO0tgqLac"
      }
    },
    {
      "cell_type": "code",
      "source": [],
      "metadata": {
        "id": "RctRzVoWSw-F"
      },
      "execution_count": null,
      "outputs": []
    },
    {
      "cell_type": "markdown",
      "source": [
        "**Ejercicio 10.** Escribir una función que reciba un DataFrame con el formato del ejercicio anterior, una lista de meses, y devuelva el balance (ventas - gastos) total en los meses indicados.\n",
        "\n",
        "\n"
      ],
      "metadata": {
        "id": "6qxLc6sfNM38"
      }
    },
    {
      "cell_type": "code",
      "source": [
        "\n"
      ],
      "metadata": {
        "id": "0go_RlzjNUxk"
      },
      "execution_count": null,
      "outputs": []
    },
    {
      "cell_type": "markdown",
      "source": [
        "**Ejercicio 11.** Escribe un programa  para combinar dos series en un DataFrame."
      ],
      "metadata": {
        "id": "yM36ycCzNtcV"
      }
    },
    {
      "cell_type": "code",
      "source": [],
      "metadata": {
        "id": "S5CB5UfFNuL1"
      },
      "execution_count": null,
      "outputs": []
    },
    {
      "cell_type": "code",
      "source": [],
      "metadata": {
        "id": "WKHkgBhINytw"
      },
      "execution_count": null,
      "outputs": []
    }
  ]
}