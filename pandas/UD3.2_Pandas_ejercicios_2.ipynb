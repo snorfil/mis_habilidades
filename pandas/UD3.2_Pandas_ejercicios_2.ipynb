{
  "cells": [
    {
      "cell_type": "code",
      "execution_count": 5,
      "metadata": {},
      "outputs": [
        {
          "data": {
            "text/html": [
              "<div>\n",
              "<style scoped>\n",
              "    .dataframe tbody tr th:only-of-type {\n",
              "        vertical-align: middle;\n",
              "    }\n",
              "\n",
              "    .dataframe tbody tr th {\n",
              "        vertical-align: top;\n",
              "    }\n",
              "\n",
              "    .dataframe thead th {\n",
              "        text-align: right;\n",
              "    }\n",
              "</style>\n",
              "<table border=\"1\" class=\"dataframe\">\n",
              "  <thead>\n",
              "    <tr style=\"text-align: right;\">\n",
              "      <th></th>\n",
              "      <th>city</th>\n",
              "      <th>year</th>\n",
              "      <th>population</th>\n",
              "    </tr>\n",
              "  </thead>\n",
              "  <tbody>\n",
              "    <tr>\n",
              "      <th>one</th>\n",
              "      <td>Mumbai</td>\n",
              "      <td>2010</td>\n",
              "      <td>10.0</td>\n",
              "    </tr>\n",
              "    <tr>\n",
              "      <th>two</th>\n",
              "      <td>Mumbai</td>\n",
              "      <td>2011</td>\n",
              "      <td>10.1</td>\n",
              "    </tr>\n",
              "    <tr>\n",
              "      <th>three</th>\n",
              "      <td>Mumbai</td>\n",
              "      <td>2012</td>\n",
              "      <td>10.2</td>\n",
              "    </tr>\n",
              "    <tr>\n",
              "      <th>four</th>\n",
              "      <td>Hyderabad</td>\n",
              "      <td>2010</td>\n",
              "      <td>5.2</td>\n",
              "    </tr>\n",
              "    <tr>\n",
              "      <th>five</th>\n",
              "      <td>Hyderabad</td>\n",
              "      <td>2011</td>\n",
              "      <td>5.3</td>\n",
              "    </tr>\n",
              "    <tr>\n",
              "      <th>six</th>\n",
              "      <td>Hyderabad</td>\n",
              "      <td>2012</td>\n",
              "      <td>5.5</td>\n",
              "    </tr>\n",
              "  </tbody>\n",
              "</table>\n",
              "</div>"
            ],
            "text/plain": [
              "            city  year  population\n",
              "one       Mumbai  2010        10.0\n",
              "two       Mumbai  2011        10.1\n",
              "three     Mumbai  2012        10.2\n",
              "four   Hyderabad  2010         5.2\n",
              "five   Hyderabad  2011         5.3\n",
              "six    Hyderabad  2012         5.5"
            ]
          },
          "execution_count": 5,
          "metadata": {},
          "output_type": "execute_result"
        }
      ],
      "source": [
        "import pandas as pd\n",
        "data = {'city': ['Mumbai', 'Mumbai', 'Mumbai', 'Hyderabad', 'Hyderabad', 'Hyderabad'],\n",
        "        'year': [2010, 2011, 2012, 2010, 2011, 2012,],\n",
        "        'population': [10.0, 10.1, 10.2, 5.2, 5.3, 5.5]}\n",
        "\n",
        "df_ejercicios = pd.DataFrame(data,index = ['one', 'two', 'three', 'four', 'five', 'six'])\n",
        "df_ejercicios"
      ]
    },
    {
      "cell_type": "markdown",
      "metadata": {
        "id": "uKLU6kjEqAfI"
      },
      "source": [
        "**Ejercicio 1.** Escribe un programa que muestre las 3 primeras filas de df_ejercicios"
      ]
    },
    {
      "cell_type": "code",
      "execution_count": null,
      "metadata": {
        "id": "pdE7V5vAAzXU"
      },
      "outputs": [],
      "source": []
    },
    {
      "cell_type": "markdown",
      "metadata": {
        "id": "lKoQISrDzX1W"
      },
      "source": [
        "**Ejericicio 2 .** Crea una función que dado un dataframe y el nombre de una columna, muestre los valores de dicha columna. "
      ]
    },
    {
      "cell_type": "code",
      "execution_count": null,
      "metadata": {
        "id": "jkOXvyZVzoTX"
      },
      "outputs": [],
      "source": []
    },
    {
      "cell_type": "markdown",
      "metadata": {
        "id": "o8WVswrHy3KV"
      },
      "source": [
        "**Ejercicio 3.** Crea una función que dado un dataframe y el nombre de un índice, muestre los valores de dicha fila."
      ]
    },
    {
      "cell_type": "code",
      "execution_count": null,
      "metadata": {
        "id": "uEZL6FmOduq8"
      },
      "outputs": [],
      "source": []
    },
    {
      "cell_type": "markdown",
      "metadata": {
        "id": "75CNb95pK8Ne"
      },
      "source": [
        "**Ejercicio 4.** Crea una función que dado un dataframe y un array de índices, muestre los valores de dichas filas."
      ]
    },
    {
      "cell_type": "code",
      "execution_count": null,
      "metadata": {
        "id": "67b-_qChK887"
      },
      "outputs": [],
      "source": []
    },
    {
      "cell_type": "markdown",
      "metadata": {
        "id": "uIVZdmb6L9Nw"
      },
      "source": [
        "**Ejercicio 5.** Escribe un programa que modifique la columna population con valores obtenidos aleatoriamente entre 5 y 10."
      ]
    },
    {
      "cell_type": "code",
      "execution_count": null,
      "metadata": {
        "id": "GRZw4vyQLBa6"
      },
      "outputs": [],
      "source": []
    },
    {
      "cell_type": "markdown",
      "metadata": {
        "id": "1bZYHS_cMS3I"
      },
      "source": [
        "**Ejercicio 6.** Elimina la columna population.\n"
      ]
    },
    {
      "cell_type": "code",
      "execution_count": null,
      "metadata": {},
      "outputs": [],
      "source": []
    }
  ],
  "metadata": {
    "colab": {
      "provenance": []
    },
    "kernelspec": {
      "display_name": "Python 3",
      "name": "python3"
    },
    "language_info": {
      "codemirror_mode": {
        "name": "ipython",
        "version": 3
      },
      "file_extension": ".py",
      "mimetype": "text/x-python",
      "name": "python",
      "nbconvert_exporter": "python",
      "pygments_lexer": "ipython3",
      "version": "3.10.9"
    }
  },
  "nbformat": 4,
  "nbformat_minor": 0
}
