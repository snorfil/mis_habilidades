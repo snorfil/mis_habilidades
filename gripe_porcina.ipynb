{
  "cells": [
    {
      "cell_type": "markdown",
      "metadata": {
        "id": "XmkVWGYlPDVW"
      },
      "source": [
        "# COMPRENSIÓN DE LOS DATOS\n"
      ]
    },
    {
      "cell_type": "markdown",
      "metadata": {
        "id": "Mw0EJNvDPMJH"
      },
      "source": [
        "* h1n1_concern - Nivel de preocupación por la gripe H1N1.\n",
        "\n",
        "    * 0 = No le preocupa en absoluto;\n",
        "    * 1 = No muy preocupado;\n",
        "    * 2 = Algo preocupado;\n",
        "    * 3 = Muy preocupado.\n",
        "* h1n1_knowledge - Nivel de conocimiento sobre la gripe H1N1.\n",
        "\n",
        "    * 0 = Sin conocimiento;\n",
        "    * 1 = Un poco de conocimiento;\n",
        "    * 2 = Mucho conocimiento.\n",
        "* behavioral_antiviral_meds - Ha tomado medicamentos antivirales. (binario)\n",
        "\n",
        "* behavioral_avoidance - Ha evitado el contacto cercano con otras personas con síntomas similares a los de la gripe. (binario)\n",
        "\n",
        "* behavioral_face_mask - Ha comprado una mascarilla. (binario)\n",
        "\n",
        "* behavioral_wash_hands - Se ha lavado las manos con frecuencia o ha usado desinfectante para manos. (binario)\n",
        "\n",
        "* behavioral_large_gatherings - Tiene un tiempo reducido en reuniones grandes. (binario)\n",
        "\n",
        "* behavioral_outside_home - Tiene un contacto reducido con personas fuera de su propio hogar. (binario)\n",
        "\n",
        "* behavioral_touch_face - Ha evitado tocarse los ojos, la nariz o la boca. (binario)\n",
        "\n",
        "* doctor_recc_h1n1 - La vacuna contra la influenza H1N1 fue recomendada por el médico. (binario)\n",
        "\n",
        "* doctor_recc_seasonal - La vacuna contra la gripe estacional fue recomendada por el médico. (binario)\n",
        "\n",
        "* chronic_med_condition - Tiene alguna de las siguientes afecciones crónicas: asma u otra afección pulmonar, diabetes, una afección cardíaca, una afección renal, anemia de células falciformes u otra anemia, una afección neurológica o neuromuscular, una afección hepática o un sistema inmunitario debilitado causado por una enfermedad crónica o por medicamentos tomados para una enfermedad crónica. (binario)\n",
        "\n",
        "* child_under_6_months - Tiene contacto cercano regular con un niño menor de seis meses. (binario)\n",
        "\n",
        "* health_worker - Es un trabajador de la salud. (binario)\n",
        "\n",
        "* health_insurance - Tiene seguro médico. (binario)\n",
        "\n",
        "* opinion_h1n1_vacc_effective - Opinión del encuestado sobre la efectividad de la vacuna contra la influenza H1N1.\n",
        "\n",
        "    * 1 = Nada eficaz;\n",
        "    * 2 = Poco efectivo;\n",
        "    * 3 = No sé;\n",
        "    * 4 = Algo efectivo;\n",
        "    * 5 = Muy eficaz.\n",
        "* opinion_h1n1_risk - La opinión del encuestado sobre el riesgo de enfermarse de influenza H1N1 sin vacunarse.\n",
        "\n",
        "    * 1 = Muy bajo;\n",
        "    * 2 = Algo bajo;\n",
        "    * 3 = No sé;\n",
        "    * 4 = Algo alto;\n",
        "    * 5 = Muy alto.\n",
        "* opinion_h1n1_sick_from_vacc - La preocupación del encuestado de enfermarse por recibir la vacuna contra la influenza H1N1.\n",
        "\n",
        "    * 1 = Nada preocupado;\n",
        "    * 2 = No muy preocupado;\n",
        "    * 3 = No sé;\n",
        "    * 4 = Algo preocupado;\n",
        "    * 5 = Muy preocupado.\n",
        "* opinion_seas_vacc_effective - La opinión del encuestado sobre la efectividad de la vacuna contra la influenza estacional.\n",
        "\n",
        "    * 1 = Nada eficaz;\n",
        "    * 2 = Poco efectivo;\n",
        "    * 3 = No sé;\n",
        "    * 4 = Algo efectivo;\n",
        "    * 5 = Muy eficaz.\n",
        "* opinion_seas_risk - La opinión del encuestado sobre el riesgo de enfermarse de influenza estacional sin vacunarse.\n",
        "\n",
        "    * 1 = Muy bajo;\n",
        "    * 2 = Algo bajo;\n",
        "    * 3 = No sé;\n",
        "    * 4 = Algo alto;\n",
        "    * 5 = Muy alto.\n",
        "* opinion_seas_sick_from_vacc - La preocupación del encuestado de enfermarse por vacunarse contra la influenza estacional.\n",
        "\n",
        "    * 1 = Nada preocupado;\n",
        "    * 2 = No muy preocupado;\n",
        "    * 3 = No sé;\n",
        "    * 4 = Algo preocupado;\n",
        "    * 5 = Muy preocupado.\n",
        "* age_group - Grupo de edad del encuestado.\n",
        "\n",
        "* education - Nivel de educación autoinformado.\n",
        "\n",
        "* race - Raza del encuestado.\n",
        "\n",
        "* sex - Sexo del encuestado.\n",
        "\n",
        "* income_poverty - Ingreso familiar anual del encuestado con respecto a los umbrales de pobreza del Censo del 2008.\n",
        "\n",
        "* marital_status - Estado civil del demandado.\n",
        "\n",
        "* rent_or_own - Situación habitacional del demandado.\n",
        "\n",
        "* employment_status - Situación laboral del demandado.\n",
        "\n",
        "* hhs_geo_region - Residencia del demandado utilizando una clasificación geográfica de 10 regiones definida por el Departamento de Salud y Servicios Humanos de EE. UU. Los valores se representan como cadenas cortas de caracteres aleatorios.\n",
        "\n",
        "* census_msa - Residencia del encuestado dentro de las áreas estadísticas metropolitanas (MSA, por sus siglas en inglés) según lo definido por el Censo de los EE. UU.\n",
        "\n",
        "* household_adults - Número de otros adultos en el hogar, codificado en la parte superior de 3.\n",
        "\n",
        "* household_children - Número de niños en el hogar, codificado en la parte superior de 3.\n",
        "\n",
        "* employment_industry - Tipo de industria en la que trabaja el encuestado. Los valores se representan como cadenas cortas de caracteres aleatorios.\n",
        "\n",
        "* employment_occupation - Tipo de ocupación del encuestado. Los valores se representan como cadenas cortas de caracteres aleatorios."
      ]
    },
    {
      "cell_type": "code",
      "execution_count": 1,
      "metadata": {
        "id": "autZSpkAt9dH"
      },
      "outputs": [],
      "source": [
        "import pandas as pd\n",
        "import numpy as np\n",
        "import seaborn as sns\n",
        "import matplotlib.pyplot as plt"
      ]
    },
    {
      "cell_type": "code",
      "execution_count": 2,
      "metadata": {
        "id": "0uFMDtNNQJI9"
      },
      "outputs": [],
      "source": [
        "\n",
        "\n",
        "descripciones = {\n",
        "    'h1n1_concern': ['0 = No le preocupa en absoluto', '1 = No muy preocupado', '2 = Algo preocupado', '3 = Muy preocupado'],\n",
        "    'h1n1_knowledge': ['0 = Sin conocimiento', '1 = Un poco de conocimiento', '2 = Mucho conocimiento'],\n",
        "    'behavioral_antiviral_meds': ['Ha tomado medicamentos antivirales. (binario)'],\n",
        "    'behavioral_avoidance': ['Ha evitado el contacto cercano con otras personas con síntomas similares a los de la gripe. (binario)'],\n",
        "    'behavioral_face_mask': ['Ha comprado una mascarilla. (binario)'],\n",
        "    'behavioral_wash_hands': ['Se ha lavado las manos con frecuencia o ha usado desinfectante para manos. (binario)'],\n",
        "    'behavioral_large_gatherings': ['Tiene un tiempo reducido en reuniones grandes. (binario)'],\n",
        "    'behavioral_outside_home': ['Tiene un contacto reducido con personas fuera de su propio hogar. (binario)'],\n",
        "    'behavioral_touch_face': ['Ha evitado tocarse los ojos, la nariz o la boca. (binario)'],\n",
        "    'doctor_recc_h1n1': ['La vacuna contra la influenza H1N1 fue recomendada por el médico. (binario)'],\n",
        "    'doctor_recc_seasonal': ['La vacuna contra la gripe estacional fue recomendada por el médico. (binario)'],\n",
        "    'chronic_med_condition': ['Tiene alguna de las siguientes afecciones crónicas: asma u otra afección pulmonar, diabetes, una afección cardíaca, una afección renal, anemia de células falciformes u otra anemia, una afección neurológica o neuromuscular, una afección hepática o un sistema inmunitario debilitado causado por una enfermedad crónica o por medicamentos tomados para una enfermedad crónica. (binario)'],\n",
        "    'child_under_6_months': ['Tiene contacto cercano regular con un niño menor de seis meses. (binario)'],\n",
        "    'health_worker': ['Es un trabajador de la salud. (binario)'],\n",
        "    'health_insurance': ['Tiene seguro médico. (binario)'],\n",
        "    'opinion_h1n1_vacc_effective': ['Opinión del encuestado sobre la efectividad de la vacuna contra la influenza H1N1. 1 = Nada eficaz, 2 = Poco efectivo, 3 = No sé, 4 = Algo efectivo, 5 = Muy eficaz'],\n",
        "    'opinion_h1n1_risk': ['La opinión del encuestado sobre el riesgo de enfermarse de influenza H1N1 sin vacunarse. 1 = Muy bajo, 2 = Algo bajo, 3 = No sé, 4 = Algo alto, 5 = Muy alto'],\n",
        "    'opinion_h1n1_sick_from_vacc': ['La preocupación del encuestado de enfermarse por recibir la vacuna contra la influenza H1N1. 1 = Nada preocupado, 2 = No muy preocupado, 3 = No sé, 4 = Algo preocupado, 5 = Muy preocupado'],\n",
        "    'opinion_seas_vacc_effective': ['La opinión del encuestado sobre la efectividad de la vacuna contra la influenza estacional. 1 = Nada eficaz, 2 = Poco efectivo, 3 = No sé, 4 = Algo efectivo, 5 = Muy eficaz'],\n",
        "    'opinion_seas_risk': ['La opinión del encuestado sobre el riesgo de enfermarse de influenza estacional sin vacunarse. 1 = Muy bajo, 2 = Algo bajo, 3 = No sé, 4 = Algo alto, 5 = Muy alto'],\n",
        "    'opinion_seas_sick_from_vacc': ['La preocupación del encuestado de enfermarse por vacunarse contra la influenza estacional. 1 = Nada preocupado, 2 = No muy preocupado, 3 = No sé, 4 = Algo preocupado, 5 = Muy preocupado'],\n",
        "    'age_group': ['Grupo de edad del encuestado.'],\n",
        "    'education': ['Nivel de educación autoinformado.'],\n",
        "    'race': ['Raza del encuestado.'],\n",
        "    'sex': ['Sexo del encuestado.'],\n",
        "    'income_poverty': ['Ingreso familiar anual del encuestado con respecto a los umbrales de pobreza del Censo del 2008.'],\n",
        "    'marital_status': ['Estado civil del demandado.'],\n",
        "    'rent_or_own': ['Situación habitacional del demandado.'],\n",
        "    'employment_status': ['Situación laboral del demandado.'],\n",
        "    'hhs_geo_region': ['Residencia del demandado utilizando una clasificación geográfica de 10 regiones definida por el Departamento de Salud y Servicios Humanos de EE. UU. Los valores se representan como cadenas cortas de caracteres aleatorios.'],\n",
        "    'census_msa': ['Residencia del encuestado dentro de las áreas estadísticas metropolitanas (MSA, por sus siglas en inglés) según lo definido por el Censo de los EE. UU.'],\n",
        "    'household_adults': ['Número de otros adultos en el hogar, codificado en la parte superior de 3.'],\n",
        "    'household_children': ['Número de niños en el hogar, codificado en la parte superior de 3.'],\n",
        "    'employment_industry': ['Tipo de industria en la que trabaja el encuestado. Los valores se representan como cadenas cortas de caracteres aleatorios.'],\n",
        "    'employment_occupation': ['Tipo de ocupación del encuestado. Los valores se representan como cadenas cortas de caracteres aleatorios.']\n",
        "}\n",
        "\n"
      ]
    },
    {
      "cell_type": "markdown",
      "metadata": {
        "id": "aMmASvOyte5g"
      },
      "source": [
        "#CARGA DE DATOS"
      ]
    },
    {
      "cell_type": "code",
      "execution_count": 3,
      "metadata": {
        "colab": {
          "base_uri": "https://localhost:8080/",
          "height": 356
        },
        "id": "rW4OI1ZKtb2l",
        "outputId": "fa1895d6-2cf5-4fa4-c6a2-e974874ac777"
      },
      "outputs": [
        {
          "output_type": "error",
          "ename": "FileNotFoundError",
          "evalue": "[Errno 2] No such file or directory: 'training_set_features.csv'",
          "traceback": [
            "\u001b[0;31m---------------------------------------------------------------------------\u001b[0m",
            "\u001b[0;31mFileNotFoundError\u001b[0m                         Traceback (most recent call last)",
            "\u001b[0;32m<ipython-input-3-025c4fe2ee5c>\u001b[0m in \u001b[0;36m<cell line: 5>\u001b[0;34m()\u001b[0m\n\u001b[1;32m      3\u001b[0m \u001b[0;34m\u001b[0m\u001b[0m\n\u001b[1;32m      4\u001b[0m \u001b[0;34m\u001b[0m\u001b[0m\n\u001b[0;32m----> 5\u001b[0;31m \u001b[0mfeatures_df\u001b[0m \u001b[0;34m=\u001b[0m \u001b[0mpd\u001b[0m\u001b[0;34m.\u001b[0m\u001b[0mread_csv\u001b[0m\u001b[0;34m(\u001b[0m\u001b[0mfeatures_path\u001b[0m\u001b[0;34m)\u001b[0m\u001b[0;34m\u001b[0m\u001b[0;34m\u001b[0m\u001b[0m\n\u001b[0m\u001b[1;32m      6\u001b[0m \u001b[0mlabels_df\u001b[0m \u001b[0;34m=\u001b[0m \u001b[0mpd\u001b[0m\u001b[0;34m.\u001b[0m\u001b[0mread_csv\u001b[0m\u001b[0;34m(\u001b[0m\u001b[0mlabels_path\u001b[0m\u001b[0;34m)\u001b[0m\u001b[0;34m\u001b[0m\u001b[0;34m\u001b[0m\u001b[0m\n\u001b[1;32m      7\u001b[0m \u001b[0;34m\u001b[0m\u001b[0m\n",
            "\u001b[0;32m/usr/local/lib/python3.10/dist-packages/pandas/io/parsers/readers.py\u001b[0m in \u001b[0;36mread_csv\u001b[0;34m(filepath_or_buffer, sep, delimiter, header, names, index_col, usecols, dtype, engine, converters, true_values, false_values, skipinitialspace, skiprows, skipfooter, nrows, na_values, keep_default_na, na_filter, verbose, skip_blank_lines, parse_dates, infer_datetime_format, keep_date_col, date_parser, date_format, dayfirst, cache_dates, iterator, chunksize, compression, thousands, decimal, lineterminator, quotechar, quoting, doublequote, escapechar, comment, encoding, encoding_errors, dialect, on_bad_lines, delim_whitespace, low_memory, memory_map, float_precision, storage_options, dtype_backend)\u001b[0m\n\u001b[1;32m    910\u001b[0m     \u001b[0mkwds\u001b[0m\u001b[0;34m.\u001b[0m\u001b[0mupdate\u001b[0m\u001b[0;34m(\u001b[0m\u001b[0mkwds_defaults\u001b[0m\u001b[0;34m)\u001b[0m\u001b[0;34m\u001b[0m\u001b[0;34m\u001b[0m\u001b[0m\n\u001b[1;32m    911\u001b[0m \u001b[0;34m\u001b[0m\u001b[0m\n\u001b[0;32m--> 912\u001b[0;31m     \u001b[0;32mreturn\u001b[0m \u001b[0m_read\u001b[0m\u001b[0;34m(\u001b[0m\u001b[0mfilepath_or_buffer\u001b[0m\u001b[0;34m,\u001b[0m \u001b[0mkwds\u001b[0m\u001b[0;34m)\u001b[0m\u001b[0;34m\u001b[0m\u001b[0;34m\u001b[0m\u001b[0m\n\u001b[0m\u001b[1;32m    913\u001b[0m \u001b[0;34m\u001b[0m\u001b[0m\n\u001b[1;32m    914\u001b[0m \u001b[0;34m\u001b[0m\u001b[0m\n",
            "\u001b[0;32m/usr/local/lib/python3.10/dist-packages/pandas/io/parsers/readers.py\u001b[0m in \u001b[0;36m_read\u001b[0;34m(filepath_or_buffer, kwds)\u001b[0m\n\u001b[1;32m    575\u001b[0m \u001b[0;34m\u001b[0m\u001b[0m\n\u001b[1;32m    576\u001b[0m     \u001b[0;31m# Create the parser.\u001b[0m\u001b[0;34m\u001b[0m\u001b[0;34m\u001b[0m\u001b[0m\n\u001b[0;32m--> 577\u001b[0;31m     \u001b[0mparser\u001b[0m \u001b[0;34m=\u001b[0m \u001b[0mTextFileReader\u001b[0m\u001b[0;34m(\u001b[0m\u001b[0mfilepath_or_buffer\u001b[0m\u001b[0;34m,\u001b[0m \u001b[0;34m**\u001b[0m\u001b[0mkwds\u001b[0m\u001b[0;34m)\u001b[0m\u001b[0;34m\u001b[0m\u001b[0;34m\u001b[0m\u001b[0m\n\u001b[0m\u001b[1;32m    578\u001b[0m \u001b[0;34m\u001b[0m\u001b[0m\n\u001b[1;32m    579\u001b[0m     \u001b[0;32mif\u001b[0m \u001b[0mchunksize\u001b[0m \u001b[0;32mor\u001b[0m \u001b[0miterator\u001b[0m\u001b[0;34m:\u001b[0m\u001b[0;34m\u001b[0m\u001b[0;34m\u001b[0m\u001b[0m\n",
            "\u001b[0;32m/usr/local/lib/python3.10/dist-packages/pandas/io/parsers/readers.py\u001b[0m in \u001b[0;36m__init__\u001b[0;34m(self, f, engine, **kwds)\u001b[0m\n\u001b[1;32m   1405\u001b[0m \u001b[0;34m\u001b[0m\u001b[0m\n\u001b[1;32m   1406\u001b[0m         \u001b[0mself\u001b[0m\u001b[0;34m.\u001b[0m\u001b[0mhandles\u001b[0m\u001b[0;34m:\u001b[0m \u001b[0mIOHandles\u001b[0m \u001b[0;34m|\u001b[0m \u001b[0;32mNone\u001b[0m \u001b[0;34m=\u001b[0m \u001b[0;32mNone\u001b[0m\u001b[0;34m\u001b[0m\u001b[0;34m\u001b[0m\u001b[0m\n\u001b[0;32m-> 1407\u001b[0;31m         \u001b[0mself\u001b[0m\u001b[0;34m.\u001b[0m\u001b[0m_engine\u001b[0m \u001b[0;34m=\u001b[0m \u001b[0mself\u001b[0m\u001b[0;34m.\u001b[0m\u001b[0m_make_engine\u001b[0m\u001b[0;34m(\u001b[0m\u001b[0mf\u001b[0m\u001b[0;34m,\u001b[0m \u001b[0mself\u001b[0m\u001b[0;34m.\u001b[0m\u001b[0mengine\u001b[0m\u001b[0;34m)\u001b[0m\u001b[0;34m\u001b[0m\u001b[0;34m\u001b[0m\u001b[0m\n\u001b[0m\u001b[1;32m   1408\u001b[0m \u001b[0;34m\u001b[0m\u001b[0m\n\u001b[1;32m   1409\u001b[0m     \u001b[0;32mdef\u001b[0m \u001b[0mclose\u001b[0m\u001b[0;34m(\u001b[0m\u001b[0mself\u001b[0m\u001b[0;34m)\u001b[0m \u001b[0;34m->\u001b[0m \u001b[0;32mNone\u001b[0m\u001b[0;34m:\u001b[0m\u001b[0;34m\u001b[0m\u001b[0;34m\u001b[0m\u001b[0m\n",
            "\u001b[0;32m/usr/local/lib/python3.10/dist-packages/pandas/io/parsers/readers.py\u001b[0m in \u001b[0;36m_make_engine\u001b[0;34m(self, f, engine)\u001b[0m\n\u001b[1;32m   1659\u001b[0m                 \u001b[0;32mif\u001b[0m \u001b[0;34m\"b\"\u001b[0m \u001b[0;32mnot\u001b[0m \u001b[0;32min\u001b[0m \u001b[0mmode\u001b[0m\u001b[0;34m:\u001b[0m\u001b[0;34m\u001b[0m\u001b[0;34m\u001b[0m\u001b[0m\n\u001b[1;32m   1660\u001b[0m                     \u001b[0mmode\u001b[0m \u001b[0;34m+=\u001b[0m \u001b[0;34m\"b\"\u001b[0m\u001b[0;34m\u001b[0m\u001b[0;34m\u001b[0m\u001b[0m\n\u001b[0;32m-> 1661\u001b[0;31m             self.handles = get_handle(\n\u001b[0m\u001b[1;32m   1662\u001b[0m                 \u001b[0mf\u001b[0m\u001b[0;34m,\u001b[0m\u001b[0;34m\u001b[0m\u001b[0;34m\u001b[0m\u001b[0m\n\u001b[1;32m   1663\u001b[0m                 \u001b[0mmode\u001b[0m\u001b[0;34m,\u001b[0m\u001b[0;34m\u001b[0m\u001b[0;34m\u001b[0m\u001b[0m\n",
            "\u001b[0;32m/usr/local/lib/python3.10/dist-packages/pandas/io/common.py\u001b[0m in \u001b[0;36mget_handle\u001b[0;34m(path_or_buf, mode, encoding, compression, memory_map, is_text, errors, storage_options)\u001b[0m\n\u001b[1;32m    857\u001b[0m         \u001b[0;32mif\u001b[0m \u001b[0mioargs\u001b[0m\u001b[0;34m.\u001b[0m\u001b[0mencoding\u001b[0m \u001b[0;32mand\u001b[0m \u001b[0;34m\"b\"\u001b[0m \u001b[0;32mnot\u001b[0m \u001b[0;32min\u001b[0m \u001b[0mioargs\u001b[0m\u001b[0;34m.\u001b[0m\u001b[0mmode\u001b[0m\u001b[0;34m:\u001b[0m\u001b[0;34m\u001b[0m\u001b[0;34m\u001b[0m\u001b[0m\n\u001b[1;32m    858\u001b[0m             \u001b[0;31m# Encoding\u001b[0m\u001b[0;34m\u001b[0m\u001b[0;34m\u001b[0m\u001b[0m\n\u001b[0;32m--> 859\u001b[0;31m             handle = open(\n\u001b[0m\u001b[1;32m    860\u001b[0m                 \u001b[0mhandle\u001b[0m\u001b[0;34m,\u001b[0m\u001b[0;34m\u001b[0m\u001b[0;34m\u001b[0m\u001b[0m\n\u001b[1;32m    861\u001b[0m                 \u001b[0mioargs\u001b[0m\u001b[0;34m.\u001b[0m\u001b[0mmode\u001b[0m\u001b[0;34m,\u001b[0m\u001b[0;34m\u001b[0m\u001b[0;34m\u001b[0m\u001b[0m\n",
            "\u001b[0;31mFileNotFoundError\u001b[0m: [Errno 2] No such file or directory: 'training_set_features.csv'"
          ]
        }
      ],
      "source": [
        "\n",
        "features_path = 'training_set_features.csv'\n",
        "labels_path = 'training_set_labels.csv'\n",
        "\n",
        "\n",
        "features_df = pd.read_csv(features_path)\n",
        "labels_df = pd.read_csv(labels_path)\n",
        "\n",
        "\n",
        "data_df = pd.merge(features_df, labels_df, on='respondent_id')\n",
        "data_df.head()\n"
      ]
    },
    {
      "cell_type": "markdown",
      "metadata": {
        "id": "3Nj703EEt3ZX"
      },
      "source": [
        "#ANÁLISIS DE VALORES FALTANTES"
      ]
    },
    {
      "cell_type": "markdown",
      "metadata": {
        "id": "shyv9Iy0uwIU"
      },
      "source": [
        "El análisis de valores faltantes revela que varias características tienen una cantidad significativa de datos faltantes, con employment_occupation, employment_industry, y health_insurance encabezando la lista con más del 45% de valores faltantes en algunos casos.\n",
        "Employment_occupation y employment_industry:\n",
        "\n",
        "Dado que estas variables están relacionadas con el empleo del encuestado, una opción sería verificar si hay correlación entre ellas y otras variables del conjunto de datos que estén completas. Si hay correlación, podríamos imputar los valores faltantes basándonos en esa información.\n",
        "Otra estrategia podría ser agrupar los datos en función de otras variables relevantes y asignar los valores faltantes dentro de cada grupo en función de la moda o una distribución similar.\n",
        "\n",
        "Health_insurance:\n",
        "\n",
        "la imputación de regresión lineal podría ser una opción adecuada para abordar los valores faltantes de esta variable ya que se tiene que considerar el contexto monetario y todo lo subyacente para coorelacionar."
      ]
    },
    {
      "cell_type": "code",
      "execution_count": null,
      "metadata": {
        "id": "QQ3W_4TYt7QI"
      },
      "outputs": [],
      "source": [
        "missing_values = data_df.isnull().sum()\n",
        "missing_percentage = (missing_values / len(data_df)) * 100\n",
        "\n",
        "missing_df = pd.DataFrame({'valores perdidos': missing_values, 'Porcentaje': missing_percentage})\n",
        "missing_df_sorted = missing_df[missing_df['valores perdidos'] > 0].sort_values(by='Porcentaje', ascending=False)\n",
        "\n",
        "missing_df_sorted"
      ]
    },
    {
      "cell_type": "markdown",
      "metadata": {
        "id": "dLZGhqPCvFTR"
      },
      "source": [
        "DESCRIPTIVAS"
      ]
    },
    {
      "cell_type": "code",
      "execution_count": null,
      "metadata": {
        "id": "o0aeyvFZvEmQ"
      },
      "outputs": [],
      "source": [
        "# Estadísticas descriptivas para variables numéricas\n",
        "desc_stats = data_df.describe(include=[np.number])  # Solo incluye variables numéricas\n",
        "desc_stats.transpose()\n"
      ]
    },
    {
      "cell_type": "markdown",
      "metadata": {
        "id": "Hc5WnuEovyhu"
      },
      "source": [
        "* **h1n1_concern**:\n",
        "    * La mayoría de los encuestados están algo preocupados por el H1N1, con una media de 2.\n",
        "* **h1n1_knowledge**:\n",
        "    * Hay un nivel de conocimiento moderado sobre el H1N1 entre los encuestados, con una media de 1 (un poco de conocimiento).\n",
        "* **behavioral_antiviral_meds**:\n",
        "    * Muy pocos encuestados han tomado medicamentos antivirales, lo que se refleja en una media cercana a 0.\n",
        "* **opinion_h1n1_vacc_effective y opinion_seas_vacc_effective**:\n",
        "    * Las opiniones sobre la efectividad de las vacunas tienden a ser positivas, con una media de 4, indicando que la mayoría de los encuestados las consideran algo efectivas o muy efectivas.\n",
        "* **household_adults y household_children**:\n",
        "    * La cantidad de adultos y niños en los hogares varía, con una tendencia a tener 1 adulto y ningún niño como los valores más comunes.\n",
        "* **h1n1_vaccine y seasonal_vaccine**:\n",
        "    * Un 21.2% de los encuestados recibieron la vacuna H1N1, mientras que un 46.6% recibieron la vacuna estacional, lo que indica una mayor aceptación de la vacuna estacional."
      ]
    },
    {
      "cell_type": "markdown",
      "metadata": {
        "id": "OdmQOcyGwfCe"
      },
      "source": [
        "# DISTRIBUCIÓN"
      ]
    },
    {
      "cell_type": "code",
      "execution_count": null,
      "metadata": {
        "id": "KBCg-KeSwh21"
      },
      "outputs": [],
      "source": [
        "\n",
        "sns.set(style=\"whitegrid\")\n",
        "\n",
        "\n",
        "fig, ax = plt.subplots(1, 3, figsize=(18, 5))\n",
        "\n",
        "\n",
        "sns.histplot(data_df['h1n1_concern'].dropna(), kde=False, ax=ax[0], bins=4, palette=\"viridis\")\n",
        "ax[0].set_title('Distribución de Preocupación por H1N1')\n",
        "ax[0].set_xlabel('Nivel de Preocupación')\n",
        "ax[0].set_ylabel('Encuestados')\n",
        "\n",
        "\n",
        "sns.histplot(data_df['h1n1_knowledge'].dropna(), kde=False, ax=ax[1], bins=3, palette=\"viridis\")\n",
        "ax[1].set_title('Distribución del Conocimiento sobre H1N1')\n",
        "ax[1].set_xlabel('Nivel de Conocimiento')\n",
        "ax[1].set_ylabel('Encuestados')\n",
        "\n",
        "\n",
        "sns.histplot(data_df['opinion_h1n1_vacc_effective'].dropna(), kde=False, ax=ax[2], bins=5, palette=\"viridis\")\n",
        "ax[2].set_title('Opinión sobre Efectividad de la Vacuna H1N1')\n",
        "ax[2].set_xlabel('Efectividad de la Vacuna')\n",
        "ax[2].set_ylabel('Encuestados')\n",
        "\n",
        "plt.tight_layout()\n",
        "plt.show()\n"
      ]
    },
    {
      "cell_type": "markdown",
      "metadata": {
        "id": "NEdtjXPIw-cD"
      },
      "source": [
        "* Distribución de Preocupación por H1N1: La mayoría de los encuestados se encuentran entre \"no muy preocupados\" y \"algo preocupados\", con una distribución relativamente uniforme.\n",
        "* Distribución del Conocimiento sobre H1N1: La mayoría de los encuestados tienen \"un poco de conocimiento\" sobre el H1N1, con una cantidad menor de encuestados que tienen \"mucho conocimiento\".\n",
        "* Opinión sobre Efectividad de la Vacuna H1N1: Las opiniones tienden a ser positivas, con la mayoría de los encuestados creyendo que la vacuna es \"algo efectiva\" o \"muy efectiva\".\n",
        "Estas visualizaciones nos ayudan a entender las actitudes y comportamientos de los encuestados."
      ]
    },
    {
      "cell_type": "markdown",
      "metadata": {
        "id": "1jH0mvMQx-qV"
      },
      "source": [
        "# COORELACIÓN PARA DESCARTAR DATOS"
      ]
    },
    {
      "cell_type": "code",
      "execution_count": null,
      "metadata": {
        "id": "iNlUw4ssx-EN"
      },
      "outputs": [],
      "source": [
        "\n",
        "correlation_matrix = data_df.corr()\n",
        "\n",
        "\n",
        "plt.figure(figsize=(14, 12))\n",
        "sns.heatmap(correlation_matrix, annot=False, cmap='coolwarm', linewidths=.5)\n",
        "plt.title('Mapa de Calor de Correlación')\n",
        "plt.show()\n"
      ]
    },
    {
      "cell_type": "markdown",
      "metadata": {
        "id": "g_NTNKievgLJ"
      },
      "source": [
        "# PREPROCESAMIENTO"
      ]
    },
    {
      "cell_type": "code",
      "execution_count": null,
      "metadata": {
        "id": "OMUq2qXLz7AU"
      },
      "outputs": [],
      "source": [
        "from sklearn.impute import SimpleImputer\n",
        "from sklearn.preprocessing import OneHotEncoder, MinMaxScaler\n",
        "from sklearn.compose import ColumnTransformer\n",
        "from sklearn.pipeline import Pipeline\n",
        "\n",
        "\n",
        "num_columns = data_df.select_dtypes(include=['float64', 'int64']).columns.drop(['respondent_id', 'h1n1_vaccine', 'seasonal_vaccine'])\n",
        "cat_columns = data_df.select_dtypes(include=['object']).columns\n",
        "\n",
        "\n",
        "num_pipeline = Pipeline([\n",
        "    ('imputer', SimpleImputer(strategy='median')),\n",
        "    ('scaler', MinMaxScaler())\n",
        "])\n",
        "\n",
        "cat_pipeline = Pipeline([\n",
        "    ('imputer', SimpleImputer(strategy='most_frequent')),\n",
        "    ('encoder', OneHotEncoder(handle_unknown='ignore'))\n",
        "])\n",
        "\n",
        "preprocessor = ColumnTransformer([\n",
        "    ('num', num_pipeline, num_columns),\n",
        "    ('cat', cat_pipeline, cat_columns)\n",
        "])\n",
        "\n",
        "X = data_df.drop(['respondent_id', 'h1n1_vaccine', 'seasonal_vaccine'], axis=1)\n",
        "y = data_df[['h1n1_vaccine', 'seasonal_vaccine']]\n",
        "\n",
        "X_preprocessed = preprocessor.fit_transform(X)\n",
        "\n",
        "# Vista previa del resultado del preprocesamiento\n",
        "X_preprocessed.shape\n"
      ]
    },
    {
      "cell_type": "markdown",
      "metadata": {
        "id": "o58USpCM0Qh7"
      },
      "source": [
        "* Para las variables numéricas y binarias, hemos imputado los valores faltantes con la mediana.\n",
        "* Para las variables categóricas, utilizamos la categoría más frecuente para imputar los valores faltantes, asegurando que las observaciones con datos faltantes se traten de una manera que refleje la distribución más común de los datos.\n",
        "* Aplicamos la codificación One-Hot a las variables categóricas, transformándolas en columnas binarias para cada categoría.\n",
        "* Se escaló el conjunto de datos usando la normalización Min-Max, que ajusta los valores en un rango entre 0 y 1. Esto es particularmente útil para modelos que son sensibles a la magnitud de las variables, como la regresión logística o los modelos basados en gradientes."
      ]
    },
    {
      "cell_type": "code",
      "execution_count": null,
      "metadata": {
        "id": "TYQTj8UKY5t6"
      },
      "outputs": [],
      "source": [
        "X"
      ]
    },
    {
      "cell_type": "markdown",
      "metadata": {
        "id": "MTnlWLId2-jm"
      },
      "source": [
        "# MODELO"
      ]
    },
    {
      "cell_type": "code",
      "execution_count": null,
      "metadata": {
        "id": "rVoGmUJh0R7T"
      },
      "outputs": [],
      "source": [
        "from sklearn.model_selection import train_test_split, cross_val_score\n",
        "from sklearn.metrics import roc_auc_score\n",
        "from sklearn.linear_model import LogisticRegression\n",
        "from sklearn.tree import DecisionTreeClassifier\n",
        "from sklearn.ensemble import RandomForestClassifier, GradientBoostingClassifier\n",
        "from sklearn.svm import SVC\n",
        "from sklearn.naive_bayes import GaussianNB\n",
        "\n",
        "\n",
        "X_train, X_test, y_train, y_test = train_test_split(X_preprocessed, y, test_size=0.2, random_state=42)\n",
        "\n",
        "\n",
        "results = []\n",
        "\n",
        "\n",
        "models = {\n",
        "    \"Logistic Regression\": LogisticRegression(max_iter=1000),\n",
        "    \"Decision Tree\": DecisionTreeClassifier(),\n",
        "    \"Random Forest\": RandomForestClassifier(),\n",
        "    \"Gradient Boosting\": GradientBoostingClassifier(),\n",
        "    \"Support Vector Machine\": SVC(probability=True),\n",
        "    \"Naive Bayes\": GaussianNB()\n",
        "}\n",
        "\n",
        "\n",
        "for name, model in models.items():\n",
        "    model.fit(X_train, y_train['h1n1_vaccine'])\n",
        "    y_pred_proba = model.predict_proba(X_test)[:, 1]\n",
        "    roc_auc = roc_auc_score(y_test['h1n1_vaccine'], y_pred_proba)\n",
        "    results.append((name, roc_auc))\n",
        "\n",
        "\n",
        "result_ordenado = sorted(results, key=lambda x: x[1], reverse=True)\n",
        "\n",
        "result_ordenado"
      ]
    },
    {
      "cell_type": "markdown",
      "metadata": {
        "id": "MhzJOVUR5GgN"
      },
      "source": [
        "# OPTIMIZACIÓN"
      ]
    },
    {
      "cell_type": "code",
      "execution_count": null,
      "metadata": {
        "id": "J1UXC1h75W7Y"
      },
      "outputs": [],
      "source": [
        "from sklearn.model_selection import RandomizedSearchCV\n",
        "from sklearn.ensemble import RandomForestClassifier\n",
        "\n",
        "model = RandomForestClassifier()\n",
        "\n",
        "param_dist = {\n",
        "    'n_estimators': [100, 200, 300, 400, 500],\n",
        "    'max_features': ['auto', 'sqrt', 'log2'],\n",
        "    'max_depth': [None, 10, 20, 30, 40, 50],\n",
        "    'min_samples_split': [2, 5, 10],\n",
        "    'min_samples_leaf': [1, 2, 4],\n",
        "    'bootstrap': [True, False]\n",
        "}\n",
        "\n",
        "\n",
        "random_search = RandomizedSearchCV(model, param_distributions=param_dist, n_iter=4, cv=5,\n",
        "                                   verbose=2, random_state=42, n_jobs=-1)\n",
        "\n",
        "random_search.fit(X_train, y_train['h1n1_vaccine'])\n",
        "\n",
        "\n",
        "print(\"Mejores hiperparámetros:\", random_search.best_params_)\n",
        "\n",
        "\n",
        "best_model = random_search.best_estimator_\n"
      ]
    }
  ],
  "metadata": {
    "colab": {
      "provenance": []
    },
    "kernelspec": {
      "display_name": "Python 3",
      "name": "python3"
    },
    "language_info": {
      "name": "python"
    }
  },
  "nbformat": 4,
  "nbformat_minor": 0
}